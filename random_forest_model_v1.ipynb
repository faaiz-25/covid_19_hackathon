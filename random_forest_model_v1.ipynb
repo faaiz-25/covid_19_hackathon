{
 "cells": [
  {
   "cell_type": "code",
   "execution_count": 28,
   "metadata": {},
   "outputs": [],
   "source": [
    "from sklearn.model_selection import train_test_split\n",
    "from sklearn.ensemble import RandomForestClassifier\n",
    "import seaborn as sns\n",
    "import pandas as pd\n",
    "import matplotlib.pyplot as plt"
   ]
  },
  {
   "cell_type": "code",
   "execution_count": 29,
   "metadata": {},
   "outputs": [
    {
     "name": "stderr",
     "output_type": "stream",
     "text": [
      "/var/folders/kt/92wnzvcj6qq_r6j3j19yp5lw0000gp/T/ipykernel_718/581540614.py:2: DtypeWarning: Columns (1,2,3,4,5) have mixed types. Specify dtype option on import or set low_memory=False.\n",
      "  data1 = pd.read_csv(\"data/corona_tested_individuals_ver_006_march_april.english.csv\")\n",
      "/var/folders/kt/92wnzvcj6qq_r6j3j19yp5lw0000gp/T/ipykernel_718/581540614.py:3: DtypeWarning: Columns (7) have mixed types. Specify dtype option on import or set low_memory=False.\n",
      "  data2 = pd.read_csv(\"data/corona_tested_individuals_ver_0083_september_november.english.csv\")\n"
     ]
    }
   ],
   "source": [
    "#read in the data\n",
    "data1 = pd.read_csv(\"data/corona_tested_individuals_ver_006_march_april.english.csv\")\n",
    "data2 = pd.read_csv(\"data/corona_tested_individuals_ver_0083_september_november.english.csv\")"
   ]
  },
  {
   "cell_type": "code",
   "execution_count": 14,
   "metadata": {},
   "outputs": [],
   "source": [
    "# Take the processing function from hackathon_lgbm.ipynb to process the 0083 data\n",
    "\n",
    "def prepareData(X):\n",
    "    X = X.dropna()\n",
    "    X = X.copy().query('gender != \"None\"')\n",
    "    X = X.query('corona_result != \"other\"')\n",
    "    X['test_indication'] = X['test_indication'].map({'Contact with confirmed': 1, 'Other': 0, 'Abroad': 0})\n",
    "    X['age_60_and_above'] = X['age_60_and_above'].map({'Yes': 1, 'No': 0})\n",
    "    X['gender'] = X['gender'].map({'male': 1, 'female': 0})\n",
    "    X['corona_result'] = X['corona_result'].map({'positive': 1, 'negative': 0})\n",
    "    X = X.copy().query('cough != \"None\"')\n",
    "    X = X.copy().query('fever != \"None\"')\n",
    "    X = X.copy().query('sore_throat != \"None\"')\n",
    "    X = X.copy().query('shortness_of_breath != \"None\"')\n",
    "    X = X.copy().query('head_ache != \"None\"')\n",
    "    X['cough'] = X['cough'].astype(int)\n",
    "    X['fever'] = X['fever'].astype(int)\n",
    "    X['sore_throat'] = X['sore_throat'].astype(int)\n",
    "    X['shortness_of_breath'] = X['shortness_of_breath'].astype(int)\n",
    "    X['head_ache'] = X['head_ache'].astype(int)\n",
    "    X['gender'] = X['gender'].astype(int)\n",
    "    X = X.drop(['test_date'],axis = 1)\n",
    "    return X"
   ]
  },
  {
   "cell_type": "code",
   "execution_count": 30,
   "metadata": {},
   "outputs": [
    {
     "name": "stderr",
     "output_type": "stream",
     "text": [
      "/var/folders/kt/92wnzvcj6qq_r6j3j19yp5lw0000gp/T/ipykernel_718/3264763642.py:7: SettingWithCopyWarning: \n",
      "A value is trying to be set on a copy of a slice from a DataFrame.\n",
      "Try using .loc[row_indexer,col_indexer] = value instead\n",
      "\n",
      "See the caveats in the documentation: https://pandas.pydata.org/pandas-docs/stable/user_guide/indexing.html#returning-a-view-versus-a-copy\n",
      "  X['test_indication'] = X['test_indication'].map({'Contact with confirmed': 1, 'Other': 0, 'Abroad': 0})\n",
      "/var/folders/kt/92wnzvcj6qq_r6j3j19yp5lw0000gp/T/ipykernel_718/3264763642.py:8: SettingWithCopyWarning: \n",
      "A value is trying to be set on a copy of a slice from a DataFrame.\n",
      "Try using .loc[row_indexer,col_indexer] = value instead\n",
      "\n",
      "See the caveats in the documentation: https://pandas.pydata.org/pandas-docs/stable/user_guide/indexing.html#returning-a-view-versus-a-copy\n",
      "  X['age_60_and_above'] = X['age_60_and_above'].map({'Yes': 1, 'No': 0})\n",
      "/var/folders/kt/92wnzvcj6qq_r6j3j19yp5lw0000gp/T/ipykernel_718/3264763642.py:9: SettingWithCopyWarning: \n",
      "A value is trying to be set on a copy of a slice from a DataFrame.\n",
      "Try using .loc[row_indexer,col_indexer] = value instead\n",
      "\n",
      "See the caveats in the documentation: https://pandas.pydata.org/pandas-docs/stable/user_guide/indexing.html#returning-a-view-versus-a-copy\n",
      "  X['gender'] = X['gender'].map({'male': 1, 'female': 0})\n",
      "/var/folders/kt/92wnzvcj6qq_r6j3j19yp5lw0000gp/T/ipykernel_718/3264763642.py:10: SettingWithCopyWarning: \n",
      "A value is trying to be set on a copy of a slice from a DataFrame.\n",
      "Try using .loc[row_indexer,col_indexer] = value instead\n",
      "\n",
      "See the caveats in the documentation: https://pandas.pydata.org/pandas-docs/stable/user_guide/indexing.html#returning-a-view-versus-a-copy\n",
      "  X['corona_result'] = X['corona_result'].map({'positive': 1, 'negative': 0})\n",
      "/var/folders/kt/92wnzvcj6qq_r6j3j19yp5lw0000gp/T/ipykernel_718/3264763642.py:7: SettingWithCopyWarning: \n",
      "A value is trying to be set on a copy of a slice from a DataFrame.\n",
      "Try using .loc[row_indexer,col_indexer] = value instead\n",
      "\n",
      "See the caveats in the documentation: https://pandas.pydata.org/pandas-docs/stable/user_guide/indexing.html#returning-a-view-versus-a-copy\n",
      "  X['test_indication'] = X['test_indication'].map({'Contact with confirmed': 1, 'Other': 0, 'Abroad': 0})\n",
      "/var/folders/kt/92wnzvcj6qq_r6j3j19yp5lw0000gp/T/ipykernel_718/3264763642.py:8: SettingWithCopyWarning: \n",
      "A value is trying to be set on a copy of a slice from a DataFrame.\n",
      "Try using .loc[row_indexer,col_indexer] = value instead\n",
      "\n",
      "See the caveats in the documentation: https://pandas.pydata.org/pandas-docs/stable/user_guide/indexing.html#returning-a-view-versus-a-copy\n",
      "  X['age_60_and_above'] = X['age_60_and_above'].map({'Yes': 1, 'No': 0})\n",
      "/var/folders/kt/92wnzvcj6qq_r6j3j19yp5lw0000gp/T/ipykernel_718/3264763642.py:9: SettingWithCopyWarning: \n",
      "A value is trying to be set on a copy of a slice from a DataFrame.\n",
      "Try using .loc[row_indexer,col_indexer] = value instead\n",
      "\n",
      "See the caveats in the documentation: https://pandas.pydata.org/pandas-docs/stable/user_guide/indexing.html#returning-a-view-versus-a-copy\n",
      "  X['gender'] = X['gender'].map({'male': 1, 'female': 0})\n",
      "/var/folders/kt/92wnzvcj6qq_r6j3j19yp5lw0000gp/T/ipykernel_718/3264763642.py:10: SettingWithCopyWarning: \n",
      "A value is trying to be set on a copy of a slice from a DataFrame.\n",
      "Try using .loc[row_indexer,col_indexer] = value instead\n",
      "\n",
      "See the caveats in the documentation: https://pandas.pydata.org/pandas-docs/stable/user_guide/indexing.html#returning-a-view-versus-a-copy\n",
      "  X['corona_result'] = X['corona_result'].map({'positive': 1, 'negative': 0})\n"
     ]
    }
   ],
   "source": [
    "data_processed1 = prepareData(data1)\n",
    "data_processed2 = prepareData(data2)"
   ]
  },
  {
   "cell_type": "code",
   "execution_count": 38,
   "metadata": {},
   "outputs": [
    {
     "name": "stdout",
     "output_type": "stream",
     "text": [
      "cough                  0\n",
      "fever                  0\n",
      "sore_throat            0\n",
      "shortness_of_breath    0\n",
      "head_ache              0\n",
      "corona_result          0\n",
      "age_60_and_above       0\n",
      "gender                 0\n",
      "test_indication        0\n",
      "dtype: int64\n",
      "cough                  0\n",
      "fever                  0\n",
      "sore_throat            0\n",
      "shortness_of_breath    0\n",
      "head_ache              0\n",
      "corona_result          0\n",
      "age_60_and_above       0\n",
      "gender                 0\n",
      "test_indication        0\n",
      "dtype: int64\n"
     ]
    }
   ],
   "source": [
    "#check for nas\n",
    "print(data_processed1.isna().sum())\n",
    "print(data_processed2.isna().sum())"
   ]
  },
  {
   "cell_type": "code",
   "execution_count": 37,
   "metadata": {},
   "outputs": [],
   "source": [
    "#drop nas from data_processed1\n",
    "data_processed1.dropna(inplace = True)"
   ]
  },
  {
   "cell_type": "code",
   "execution_count": 39,
   "metadata": {},
   "outputs": [
    {
     "data": {
      "text/plain": [
       "<AxesSubplot:>"
      ]
     },
     "execution_count": 39,
     "metadata": {},
     "output_type": "execute_result"
    },
    {
     "data": {
      "image/png": "[encoded data removed]",
      "text/plain": [
       "<Figure size 432x288 with 2 Axes>"
      ]
     },
     "metadata": {
      "needs_background": "light"
     },
     "output_type": "display_data"
    }
   ],
   "source": [
    "#plot a correlation heatmap for all variables in data1 \n",
    "sns.heatmap(data_processed1.corr(), xticklabels=data_processed1.columns, yticklabels=data_processed1.columns)"
   ]
  },
  {
   "cell_type": "code",
   "execution_count": 40,
   "metadata": {},
   "outputs": [
    {
     "data": {
      "text/plain": [
       "<AxesSubplot:>"
      ]
     },
     "execution_count": 40,
     "metadata": {},
     "output_type": "execute_result"
    },
    {
     "data": {
      "image/png": "[encoded data removed]",
      "text/plain": [
       "<Figure size 432x288 with 2 Axes>"
      ]
     },
     "metadata": {
      "needs_background": "light"
     },
     "output_type": "display_data"
    }
   ],
   "source": [
    "#plot a correlation heatmap for all variables in data2\n",
    "sns.heatmap(data_processed2.corr(), xticklabels=data_processed2.columns, yticklabels=data_processed2.columns)"
   ]
  },
  {
   "cell_type": "markdown",
   "metadata": {},
   "source": [
    "## Training and Testing for March - April 2020"
   ]
  },
  {
   "cell_type": "code",
   "execution_count": 44,
   "metadata": {},
   "outputs": [],
   "source": [
    "#create a train test split\n",
    "\n",
    "X1 = data_processed1.drop(['corona_result'],axis = 1)\n",
    "y1 = data_processed1.copy()['corona_result']\n",
    "\n",
    "X_train1, X_test1, y_train1, y_test1 = train_test_split(X1, y1, test_size = 0.2,random_state = 2022, stratify = y1)"
   ]
  },
  {
   "cell_type": "code",
   "execution_count": 45,
   "metadata": {},
   "outputs": [
    {
     "data": {
      "text/plain": [
       "RandomForestClassifier()"
      ]
     },
     "execution_count": 45,
     "metadata": {},
     "output_type": "execute_result"
    }
   ],
   "source": [
    "#create the random forest model\n",
    "rf_model1 = RandomForestClassifier()\n",
    "rf_model1.fit(X_train1, y_train1)"
   ]
  },
  {
   "cell_type": "code",
   "execution_count": 46,
   "metadata": {},
   "outputs": [
    {
     "data": {
      "image/png": "[encoded data removed]",
      "text/plain": [
       "<Figure size 432x288 with 1 Axes>"
      ]
     },
     "metadata": {
      "needs_background": "light"
     },
     "output_type": "display_data"
    }
   ],
   "source": [
    "from sklearn.metrics import RocCurveDisplay\n",
    "rf_disp1 = RocCurveDisplay.from_estimator(rf_model1, X_test1, y_test1)\n",
    "plt.show()"
   ]
  },
  {
   "cell_type": "code",
   "execution_count": 47,
   "metadata": {},
   "outputs": [
    {
     "data": {
      "text/html": [
       "<div>\n",
       "<style scoped>\n",
       "    .dataframe tbody tr th:only-of-type {\n",
       "        vertical-align: middle;\n",
       "    }\n",
       "\n",
       "    .dataframe tbody tr th {\n",
       "        vertical-align: top;\n",
       "    }\n",
       "\n",
       "    .dataframe thead th {\n",
       "        text-align: right;\n",
       "    }\n",
       "</style>\n",
       "<table border=\"1\" class=\"dataframe\">\n",
       "  <thead>\n",
       "    <tr style=\"text-align: right;\">\n",
       "      <th></th>\n",
       "      <th>0</th>\n",
       "    </tr>\n",
       "  </thead>\n",
       "  <tbody>\n",
       "    <tr>\n",
       "      <th>test_indication</th>\n",
       "      <td>0.462615</td>\n",
       "    </tr>\n",
       "    <tr>\n",
       "      <th>head_ache</th>\n",
       "      <td>0.198545</td>\n",
       "    </tr>\n",
       "    <tr>\n",
       "      <th>sore_throat</th>\n",
       "      <td>0.106114</td>\n",
       "    </tr>\n",
       "    <tr>\n",
       "      <th>fever</th>\n",
       "      <td>0.100752</td>\n",
       "    </tr>\n",
       "    <tr>\n",
       "      <th>shortness_of_breath</th>\n",
       "      <td>0.076962</td>\n",
       "    </tr>\n",
       "    <tr>\n",
       "      <th>cough</th>\n",
       "      <td>0.040328</td>\n",
       "    </tr>\n",
       "    <tr>\n",
       "      <th>age_60_and_above</th>\n",
       "      <td>0.009248</td>\n",
       "    </tr>\n",
       "    <tr>\n",
       "      <th>gender</th>\n",
       "      <td>0.005436</td>\n",
       "    </tr>\n",
       "  </tbody>\n",
       "</table>\n",
       "</div>"
      ],
      "text/plain": [
       "                            0\n",
       "test_indication      0.462615\n",
       "head_ache            0.198545\n",
       "sore_throat          0.106114\n",
       "fever                0.100752\n",
       "shortness_of_breath  0.076962\n",
       "cough                0.040328\n",
       "age_60_and_above     0.009248\n",
       "gender               0.005436"
      ]
     },
     "execution_count": 47,
     "metadata": {},
     "output_type": "execute_result"
    }
   ],
   "source": [
    "#show the variable importance in the rf model\n",
    "pd.DataFrame(rf_model1.feature_importances_, index=X_train1.columns).sort_values(by=0, ascending=False)"
   ]
  },
  {
   "cell_type": "markdown",
   "metadata": {},
   "source": [
    "## Testing our trained model on data from later in the year (September to November 2020)"
   ]
  },
  {
   "cell_type": "code",
   "execution_count": 48,
   "metadata": {},
   "outputs": [],
   "source": [
    "#create a train test split\n",
    "\n",
    "X2 = data_processed2.drop(['corona_result'],axis = 1)\n",
    "y2 = data_processed2.copy()['corona_result']\n",
    "\n",
    "X_train2, X_test2, y_train2, y_test2 = train_test_split(X2, y2, test_size = 0.2,random_state = 2022, stratify = y2)"
   ]
  },
  {
   "cell_type": "code",
   "execution_count": 49,
   "metadata": {},
   "outputs": [
    {
     "data": {
      "image/png": "[encoded data removed]",
      "text/plain": [
       "<Figure size 432x288 with 1 Axes>"
      ]
     },
     "metadata": {
      "needs_background": "light"
     },
     "output_type": "display_data"
    }
   ],
   "source": [
    "#test the model trained in March - April 2020 for September - November 2020\n",
    "rf_disp2 = RocCurveDisplay.from_estimator(rf_model1, X_test2, y_test2)\n",
    "plt.show()"
   ]
  },
  {
   "cell_type": "markdown",
   "metadata": {},
   "source": [
    "## Retrain the model for the second half of the year and compare accuracy"
   ]
  },
  {
   "cell_type": "code",
   "execution_count": 50,
   "metadata": {},
   "outputs": [
    {
     "data": {
      "text/plain": [
       "RandomForestClassifier()"
      ]
     },
     "execution_count": 50,
     "metadata": {},
     "output_type": "execute_result"
    }
   ],
   "source": [
    "#create the random forest model\n",
    "rf_model2 = RandomForestClassifier()\n",
    "rf_model2.fit(X_train2, y_train2)"
   ]
  },
  {
   "cell_type": "code",
   "execution_count": 51,
   "metadata": {},
   "outputs": [
    {
     "data": {
      "image/png": "[encoded data removed]",
      "text/plain": [
       "<Figure size 432x288 with 1 Axes>"
      ]
     },
     "metadata": {
      "needs_background": "light"
     },
     "output_type": "display_data"
    }
   ],
   "source": [
    "#test the model trained for September - November 2020\n",
    "rf_disp2 = RocCurveDisplay.from_estimator(rf_model2, X_test2, y_test2)\n",
    "plt.show()"
   ]
  },
  {
   "cell_type": "code",
   "execution_count": 52,
   "metadata": {},
   "outputs": [
    {
     "data": {
      "text/html": [
       "<div>\n",
       "<style scoped>\n",
       "    .dataframe tbody tr th:only-of-type {\n",
       "        vertical-align: middle;\n",
       "    }\n",
       "\n",
       "    .dataframe tbody tr th {\n",
       "        vertical-align: top;\n",
       "    }\n",
       "\n",
       "    .dataframe thead th {\n",
       "        text-align: right;\n",
       "    }\n",
       "</style>\n",
       "<table border=\"1\" class=\"dataframe\">\n",
       "  <thead>\n",
       "    <tr style=\"text-align: right;\">\n",
       "      <th></th>\n",
       "      <th>0</th>\n",
       "    </tr>\n",
       "  </thead>\n",
       "  <tbody>\n",
       "    <tr>\n",
       "      <th>test_indication</th>\n",
       "      <td>0.462615</td>\n",
       "    </tr>\n",
       "    <tr>\n",
       "      <th>head_ache</th>\n",
       "      <td>0.198545</td>\n",
       "    </tr>\n",
       "    <tr>\n",
       "      <th>sore_throat</th>\n",
       "      <td>0.106114</td>\n",
       "    </tr>\n",
       "    <tr>\n",
       "      <th>fever</th>\n",
       "      <td>0.100752</td>\n",
       "    </tr>\n",
       "    <tr>\n",
       "      <th>shortness_of_breath</th>\n",
       "      <td>0.076962</td>\n",
       "    </tr>\n",
       "    <tr>\n",
       "      <th>cough</th>\n",
       "      <td>0.040328</td>\n",
       "    </tr>\n",
       "    <tr>\n",
       "      <th>age_60_and_above</th>\n",
       "      <td>0.009248</td>\n",
       "    </tr>\n",
       "    <tr>\n",
       "      <th>gender</th>\n",
       "      <td>0.005436</td>\n",
       "    </tr>\n",
       "  </tbody>\n",
       "</table>\n",
       "</div>"
      ],
      "text/plain": [
       "                            0\n",
       "test_indication      0.462615\n",
       "head_ache            0.198545\n",
       "sore_throat          0.106114\n",
       "fever                0.100752\n",
       "shortness_of_breath  0.076962\n",
       "cough                0.040328\n",
       "age_60_and_above     0.009248\n",
       "gender               0.005436"
      ]
     },
     "execution_count": 52,
     "metadata": {},
     "output_type": "execute_result"
    }
   ],
   "source": [
    "#show the variable importance in the rf model\n",
    "pd.DataFrame(rf_model1.feature_importances_, index=X_train1.columns).sort_values(by=0, ascending=False)"
   ]
  }
 ],
 "metadata": {
  "interpreter": {
   "hash": "aee8b7b246df8f9039afb4144a1f6fd8d2ca17a180786b69acc140d282b71a49"
  },
  "kernelspec": {
   "display_name": "Python 3.9.13 64-bit",
   "language": "python",
   "name": "python3"
  },
  "language_info": {
   "codemirror_mode": {
    "name": "ipython",
    "version": 3
   },
   "file_extension": ".py",
   "mimetype": "text/x-python",
   "name": "python",
   "nbconvert_exporter": "python",
   "pygments_lexer": "ipython3",
   "version": "3.9.13"
  },
  "orig_nbformat": 4
 },
 "nbformat": 4,
 "nbformat_minor": 2
}
