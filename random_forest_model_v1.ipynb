{
 "cells": [
  {
   "cell_type": "code",
   "execution_count": 56,
   "metadata": {},
   "outputs": [],
   "source": [
    "from sklearn.model_selection import train_test_split\n",
    "from sklearn.ensemble import RandomForestClassifier\n",
    "from sklearn.model_selection import RandomizedSearchCV\n",
    "import seaborn as sns\n",
    "import pandas as pd\n",
    "import matplotlib.pyplot as plt\n",
    "import numpy as np"
   ]
  },
  {
   "cell_type": "code",
   "execution_count": 57,
   "metadata": {},
   "outputs": [
    {
     "name": "stderr",
     "output_type": "stream",
     "text": [
      "/var/folders/kt/92wnzvcj6qq_r6j3j19yp5lw0000gp/T/ipykernel_10129/581540614.py:2: DtypeWarning: Columns (1,2,3,4,5) have mixed types. Specify dtype option on import or set low_memory=False.\n",
      "  data1 = pd.read_csv(\"data/corona_tested_individuals_ver_006_march_april.english.csv\")\n",
      "/var/folders/kt/92wnzvcj6qq_r6j3j19yp5lw0000gp/T/ipykernel_10129/581540614.py:3: DtypeWarning: Columns (7) have mixed types. Specify dtype option on import or set low_memory=False.\n",
      "  data2 = pd.read_csv(\"data/corona_tested_individuals_ver_0083_september_november.english.csv\")\n"
     ]
    }
   ],
   "source": [
    "#read in the data\n",
    "data1 = pd.read_csv(\"data/corona_tested_individuals_ver_006_march_april.english.csv\")\n",
    "data2 = pd.read_csv(\"data/corona_tested_individuals_ver_0083_september_november.english.csv\")"
   ]
  },
  {
   "cell_type": "code",
   "execution_count": 97,
   "metadata": {},
   "outputs": [],
   "source": [
    "# Take the processing function from hackathon_lgbm.ipynb to process the 0083 data\n",
    "\n",
    "def prepareData(X):\n",
    "    X = X.dropna()\n",
    "    X = X.copy().query('gender != \"None\"')\n",
    "    X = X.query('corona_result != \"other\"')\n",
    "    X['test_indication'] = X['test_indication'].map({'Contact with confirmed': 1, 'Other': 0, 'Abroad': 0})\n",
    "    X['age_60_and_above'] = X['age_60_and_above'].map({'Yes': 1, 'No': 0})\n",
    "    X['gender'] = X['gender'].map({'male': 1, 'female': 0})\n",
    "    X['corona_result'] = X['corona_result'].map({'positive': 1, 'negative': 0})\n",
    "    X = X.copy().query('cough != \"None\"')\n",
    "    X = X.copy().query('fever != \"None\"')\n",
    "    X = X.copy().query('sore_throat != \"None\"')\n",
    "    X = X.copy().query('shortness_of_breath != \"None\"')\n",
    "    X = X.copy().query('head_ache != \"None\"')\n",
    "    X['cough'] = X['cough'].astype(int)\n",
    "    X['fever'] = X['fever'].astype(int)\n",
    "    X['sore_throat'] = X['sore_throat'].astype(int)\n",
    "    X['shortness_of_breath'] = X['shortness_of_breath'].astype(int)\n",
    "    X['head_ache'] = X['head_ache'].astype(int)\n",
    "    X['gender'] = X['gender'].astype(int)\n",
    "    X = X.drop(['test_date'],axis = 1)\n",
    "    return X"
   ]
  },
  {
   "cell_type": "code",
   "execution_count": 59,
   "metadata": {},
   "outputs": [
    {
     "name": "stderr",
     "output_type": "stream",
     "text": [
      "/var/folders/kt/92wnzvcj6qq_r6j3j19yp5lw0000gp/T/ipykernel_10129/3264763642.py:7: SettingWithCopyWarning: \n",
      "A value is trying to be set on a copy of a slice from a DataFrame.\n",
      "Try using .loc[row_indexer,col_indexer] = value instead\n",
      "\n",
      "See the caveats in the documentation: https://pandas.pydata.org/pandas-docs/stable/user_guide/indexing.html#returning-a-view-versus-a-copy\n",
      "  X['test_indication'] = X['test_indication'].map({'Contact with confirmed': 1, 'Other': 0, 'Abroad': 0})\n",
      "/var/folders/kt/92wnzvcj6qq_r6j3j19yp5lw0000gp/T/ipykernel_10129/3264763642.py:8: SettingWithCopyWarning: \n",
      "A value is trying to be set on a copy of a slice from a DataFrame.\n",
      "Try using .loc[row_indexer,col_indexer] = value instead\n",
      "\n",
      "See the caveats in the documentation: https://pandas.pydata.org/pandas-docs/stable/user_guide/indexing.html#returning-a-view-versus-a-copy\n",
      "  X['age_60_and_above'] = X['age_60_and_above'].map({'Yes': 1, 'No': 0})\n",
      "/var/folders/kt/92wnzvcj6qq_r6j3j19yp5lw0000gp/T/ipykernel_10129/3264763642.py:9: SettingWithCopyWarning: \n",
      "A value is trying to be set on a copy of a slice from a DataFrame.\n",
      "Try using .loc[row_indexer,col_indexer] = value instead\n",
      "\n",
      "See the caveats in the documentation: https://pandas.pydata.org/pandas-docs/stable/user_guide/indexing.html#returning-a-view-versus-a-copy\n",
      "  X['gender'] = X['gender'].map({'male': 1, 'female': 0})\n",
      "/var/folders/kt/92wnzvcj6qq_r6j3j19yp5lw0000gp/T/ipykernel_10129/3264763642.py:10: SettingWithCopyWarning: \n",
      "A value is trying to be set on a copy of a slice from a DataFrame.\n",
      "Try using .loc[row_indexer,col_indexer] = value instead\n",
      "\n",
      "See the caveats in the documentation: https://pandas.pydata.org/pandas-docs/stable/user_guide/indexing.html#returning-a-view-versus-a-copy\n",
      "  X['corona_result'] = X['corona_result'].map({'positive': 1, 'negative': 0})\n",
      "/var/folders/kt/92wnzvcj6qq_r6j3j19yp5lw0000gp/T/ipykernel_10129/3264763642.py:7: SettingWithCopyWarning: \n",
      "A value is trying to be set on a copy of a slice from a DataFrame.\n",
      "Try using .loc[row_indexer,col_indexer] = value instead\n",
      "\n",
      "See the caveats in the documentation: https://pandas.pydata.org/pandas-docs/stable/user_guide/indexing.html#returning-a-view-versus-a-copy\n",
      "  X['test_indication'] = X['test_indication'].map({'Contact with confirmed': 1, 'Other': 0, 'Abroad': 0})\n",
      "/var/folders/kt/92wnzvcj6qq_r6j3j19yp5lw0000gp/T/ipykernel_10129/3264763642.py:8: SettingWithCopyWarning: \n",
      "A value is trying to be set on a copy of a slice from a DataFrame.\n",
      "Try using .loc[row_indexer,col_indexer] = value instead\n",
      "\n",
      "See the caveats in the documentation: https://pandas.pydata.org/pandas-docs/stable/user_guide/indexing.html#returning-a-view-versus-a-copy\n",
      "  X['age_60_and_above'] = X['age_60_and_above'].map({'Yes': 1, 'No': 0})\n",
      "/var/folders/kt/92wnzvcj6qq_r6j3j19yp5lw0000gp/T/ipykernel_10129/3264763642.py:9: SettingWithCopyWarning: \n",
      "A value is trying to be set on a copy of a slice from a DataFrame.\n",
      "Try using .loc[row_indexer,col_indexer] = value instead\n",
      "\n",
      "See the caveats in the documentation: https://pandas.pydata.org/pandas-docs/stable/user_guide/indexing.html#returning-a-view-versus-a-copy\n",
      "  X['gender'] = X['gender'].map({'male': 1, 'female': 0})\n",
      "/var/folders/kt/92wnzvcj6qq_r6j3j19yp5lw0000gp/T/ipykernel_10129/3264763642.py:10: SettingWithCopyWarning: \n",
      "A value is trying to be set on a copy of a slice from a DataFrame.\n",
      "Try using .loc[row_indexer,col_indexer] = value instead\n",
      "\n",
      "See the caveats in the documentation: https://pandas.pydata.org/pandas-docs/stable/user_guide/indexing.html#returning-a-view-versus-a-copy\n",
      "  X['corona_result'] = X['corona_result'].map({'positive': 1, 'negative': 0})\n"
     ]
    }
   ],
   "source": [
    "data_processed1 = prepareData(data1)\n",
    "data_processed2 = prepareData(data2)"
   ]
  },
  {
   "cell_type": "code",
   "execution_count": 93,
   "metadata": {},
   "outputs": [
    {
     "name": "stdout",
     "output_type": "stream",
     "text": [
      "cough                  0\n",
      "fever                  0\n",
      "sore_throat            0\n",
      "shortness_of_breath    0\n",
      "head_ache              0\n",
      "corona_result          0\n",
      "age_60_and_above       0\n",
      "gender                 0\n",
      "test_indication        0\n",
      "dtype: int64\n",
      "cough                  0\n",
      "fever                  0\n",
      "sore_throat            0\n",
      "shortness_of_breath    0\n",
      "head_ache              0\n",
      "corona_result          0\n",
      "age_60_and_above       0\n",
      "gender                 0\n",
      "test_indication        0\n",
      "dtype: int64\n"
     ]
    }
   ],
   "source": [
    "#check for nas\n",
    "print(data_processed1.isna().sum())\n",
    "print(data_processed2.isna().sum())"
   ]
  },
  {
   "cell_type": "code",
   "execution_count": 61,
   "metadata": {},
   "outputs": [],
   "source": [
    "#drop nas from data_processed1\n",
    "data_processed1.dropna(inplace = True)"
   ]
  },
  {
   "cell_type": "code",
   "execution_count": 62,
   "metadata": {},
   "outputs": [
    {
     "data": {
      "text/plain": [
       "<AxesSubplot:>"
      ]
     },
     "execution_count": 62,
     "metadata": {},
     "output_type": "execute_result"
    },
    {
     "data": {
      "image/png": "[encoded data removed]",
      "text/plain": [
       "<Figure size 432x288 with 2 Axes>"
      ]
     },
     "metadata": {
      "needs_background": "light"
     },
     "output_type": "display_data"
    }
   ],
   "source": [
    "#plot a correlation heatmap for all variables in data1 \n",
    "sns.heatmap(data_processed1.corr(), xticklabels=data_processed1.columns, yticklabels=data_processed1.columns)"
   ]
  },
  {
   "cell_type": "code",
   "execution_count": 63,
   "metadata": {},
   "outputs": [
    {
     "data": {
      "text/plain": [
       "<AxesSubplot:>"
      ]
     },
     "execution_count": 63,
     "metadata": {},
     "output_type": "execute_result"
    },
    {
     "data": {
      "image/png": "[encoded data removed]",
      "text/plain": [
       "<Figure size 432x288 with 2 Axes>"
      ]
     },
     "metadata": {
      "needs_background": "light"
     },
     "output_type": "display_data"
    }
   ],
   "source": [
    "#plot a correlation heatmap for all variables in data2\n",
    "sns.heatmap(data_processed2.corr(), xticklabels=data_processed2.columns, yticklabels=data_processed2.columns)"
   ]
  },
  {
   "cell_type": "markdown",
   "metadata": {},
   "source": [
    "## Training and Testing for March - April 2020"
   ]
  },
  {
   "cell_type": "code",
   "execution_count": 64,
   "metadata": {},
   "outputs": [],
   "source": [
    "#create a train test split\n",
    "\n",
    "X1 = data_processed1.drop(['corona_result'],axis = 1)\n",
    "y1 = data_processed1.copy()['corona_result']\n",
    "\n",
    "X_train1, X_test1, y_train1, y_test1 = train_test_split(X1, y1, test_size = 0.2,random_state = 2022, stratify = y1)"
   ]
  },
  {
   "cell_type": "code",
   "execution_count": 65,
   "metadata": {},
   "outputs": [
    {
     "data": {
      "text/plain": [
       "RandomForestClassifier()"
      ]
     },
     "execution_count": 65,
     "metadata": {},
     "output_type": "execute_result"
    }
   ],
   "source": [
    "#create the random forest model\n",
    "rf_model1 = RandomForestClassifier()\n",
    "rf_model1.fit(X_train1, y_train1)"
   ]
  },
  {
   "cell_type": "code",
   "execution_count": 66,
   "metadata": {},
   "outputs": [
    {
     "data": {
      "image/png": "[encoded data removed]",
      "text/plain": [
       "<Figure size 432x288 with 1 Axes>"
      ]
     },
     "metadata": {
      "needs_background": "light"
     },
     "output_type": "display_data"
    }
   ],
   "source": [
    "from sklearn.metrics import RocCurveDisplay\n",
    "rf_disp1 = RocCurveDisplay.from_estimator(rf_model1, X_test1, y_test1)\n",
    "plt.show()"
   ]
  },
  {
   "cell_type": "code",
   "execution_count": 67,
   "metadata": {},
   "outputs": [
    {
     "data": {
      "text/html": [
       "<div>\n",
       "<style scoped>\n",
       "    .dataframe tbody tr th:only-of-type {\n",
       "        vertical-align: middle;\n",
       "    }\n",
       "\n",
       "    .dataframe tbody tr th {\n",
       "        vertical-align: top;\n",
       "    }\n",
       "\n",
       "    .dataframe thead th {\n",
       "        text-align: right;\n",
       "    }\n",
       "</style>\n",
       "<table border=\"1\" class=\"dataframe\">\n",
       "  <thead>\n",
       "    <tr style=\"text-align: right;\">\n",
       "      <th></th>\n",
       "      <th>0</th>\n",
       "    </tr>\n",
       "  </thead>\n",
       "  <tbody>\n",
       "    <tr>\n",
       "      <th>test_indication</th>\n",
       "      <td>0.466695</td>\n",
       "    </tr>\n",
       "    <tr>\n",
       "      <th>head_ache</th>\n",
       "      <td>0.195909</td>\n",
       "    </tr>\n",
       "    <tr>\n",
       "      <th>sore_throat</th>\n",
       "      <td>0.110256</td>\n",
       "    </tr>\n",
       "    <tr>\n",
       "      <th>fever</th>\n",
       "      <td>0.092211</td>\n",
       "    </tr>\n",
       "    <tr>\n",
       "      <th>shortness_of_breath</th>\n",
       "      <td>0.078955</td>\n",
       "    </tr>\n",
       "    <tr>\n",
       "      <th>cough</th>\n",
       "      <td>0.042216</td>\n",
       "    </tr>\n",
       "    <tr>\n",
       "      <th>age_60_and_above</th>\n",
       "      <td>0.008447</td>\n",
       "    </tr>\n",
       "    <tr>\n",
       "      <th>gender</th>\n",
       "      <td>0.005311</td>\n",
       "    </tr>\n",
       "  </tbody>\n",
       "</table>\n",
       "</div>"
      ],
      "text/plain": [
       "                            0\n",
       "test_indication      0.466695\n",
       "head_ache            0.195909\n",
       "sore_throat          0.110256\n",
       "fever                0.092211\n",
       "shortness_of_breath  0.078955\n",
       "cough                0.042216\n",
       "age_60_and_above     0.008447\n",
       "gender               0.005311"
      ]
     },
     "execution_count": 67,
     "metadata": {},
     "output_type": "execute_result"
    }
   ],
   "source": [
    "#show the variable importance in the rf model\n",
    "pd.DataFrame(rf_model1.feature_importances_, index=X_train1.columns).sort_values(by=0, ascending=False)"
   ]
  },
  {
   "cell_type": "markdown",
   "metadata": {},
   "source": [
    "## Testing our trained model on data from later in the year (September to November 2020)"
   ]
  },
  {
   "cell_type": "code",
   "execution_count": 68,
   "metadata": {},
   "outputs": [],
   "source": [
    "#create a train test split\n",
    "\n",
    "X2 = data_processed2.drop(['corona_result'],axis = 1)\n",
    "y2 = data_processed2.copy()['corona_result']\n",
    "\n",
    "X_train2, X_test2, y_train2, y_test2 = train_test_split(X2, y2, test_size = 0.2,random_state = 2022, stratify = y2)"
   ]
  },
  {
   "cell_type": "code",
   "execution_count": 95,
   "metadata": {},
   "outputs": [
    {
     "data": {
      "image/png": "[encoded data removed]",
      "text/plain": [
       "<Figure size 432x288 with 1 Axes>"
      ]
     },
     "metadata": {
      "needs_background": "light"
     },
     "output_type": "display_data"
    }
   ],
   "source": [
    "#test the model trained in March - April 2020 for September - November 2020\n",
    "rf_disp2 = RocCurveDisplay.from_estimator(rf_model1, X_test2, y_test2)\n",
    "plt.show()"
   ]
  },
  {
   "cell_type": "markdown",
   "metadata": {},
   "source": [
    "## Retrain the model for the second half of the year and compare accuracy"
   ]
  },
  {
   "cell_type": "code",
   "execution_count": 70,
   "metadata": {},
   "outputs": [
    {
     "data": {
      "text/plain": [
       "RandomForestClassifier()"
      ]
     },
     "execution_count": 70,
     "metadata": {},
     "output_type": "execute_result"
    }
   ],
   "source": [
    "#create the random forest model\n",
    "rf_model2 = RandomForestClassifier()\n",
    "rf_model2.fit(X_train2, y_train2)"
   ]
  },
  {
   "cell_type": "code",
   "execution_count": 71,
   "metadata": {},
   "outputs": [
    {
     "data": {
      "image/png": "[encoded data removed]",
      "text/plain": [
       "<Figure size 432x288 with 1 Axes>"
      ]
     },
     "metadata": {
      "needs_background": "light"
     },
     "output_type": "display_data"
    }
   ],
   "source": [
    "#test the model trained for September - November 2020\n",
    "rf_disp2 = RocCurveDisplay.from_estimator(rf_model2, X_test2, y_test2)\n",
    "plt.show()"
   ]
  },
  {
   "cell_type": "code",
   "execution_count": 72,
   "metadata": {},
   "outputs": [
    {
     "data": {
      "text/html": [
       "<div>\n",
       "<style scoped>\n",
       "    .dataframe tbody tr th:only-of-type {\n",
       "        vertical-align: middle;\n",
       "    }\n",
       "\n",
       "    .dataframe tbody tr th {\n",
       "        vertical-align: top;\n",
       "    }\n",
       "\n",
       "    .dataframe thead th {\n",
       "        text-align: right;\n",
       "    }\n",
       "</style>\n",
       "<table border=\"1\" class=\"dataframe\">\n",
       "  <thead>\n",
       "    <tr style=\"text-align: right;\">\n",
       "      <th></th>\n",
       "      <th>0</th>\n",
       "    </tr>\n",
       "  </thead>\n",
       "  <tbody>\n",
       "    <tr>\n",
       "      <th>test_indication</th>\n",
       "      <td>0.466695</td>\n",
       "    </tr>\n",
       "    <tr>\n",
       "      <th>head_ache</th>\n",
       "      <td>0.195909</td>\n",
       "    </tr>\n",
       "    <tr>\n",
       "      <th>sore_throat</th>\n",
       "      <td>0.110256</td>\n",
       "    </tr>\n",
       "    <tr>\n",
       "      <th>fever</th>\n",
       "      <td>0.092211</td>\n",
       "    </tr>\n",
       "    <tr>\n",
       "      <th>shortness_of_breath</th>\n",
       "      <td>0.078955</td>\n",
       "    </tr>\n",
       "    <tr>\n",
       "      <th>cough</th>\n",
       "      <td>0.042216</td>\n",
       "    </tr>\n",
       "    <tr>\n",
       "      <th>age_60_and_above</th>\n",
       "      <td>0.008447</td>\n",
       "    </tr>\n",
       "    <tr>\n",
       "      <th>gender</th>\n",
       "      <td>0.005311</td>\n",
       "    </tr>\n",
       "  </tbody>\n",
       "</table>\n",
       "</div>"
      ],
      "text/plain": [
       "                            0\n",
       "test_indication      0.466695\n",
       "head_ache            0.195909\n",
       "sore_throat          0.110256\n",
       "fever                0.092211\n",
       "shortness_of_breath  0.078955\n",
       "cough                0.042216\n",
       "age_60_and_above     0.008447\n",
       "gender               0.005311"
      ]
     },
     "execution_count": 72,
     "metadata": {},
     "output_type": "execute_result"
    }
   ],
   "source": [
    "#show the variable importance in the rf model\n",
    "pd.DataFrame(rf_model1.feature_importances_, index=X_train1.columns).sort_values(by=0, ascending=False)"
   ]
  },
  {
   "cell_type": "markdown",
   "metadata": {},
   "source": [
    "## Tuning Parameters for our RF Model"
   ]
  },
  {
   "cell_type": "code",
   "execution_count": 73,
   "metadata": {},
   "outputs": [],
   "source": [
    "#set list of parameters to tune our first model \n",
    "\n",
    "# Number of trees in random forest\n",
    "n_estimators = np.linspace(5, 2000, int((2000-5)/10) + 1, dtype=int)\n",
    "# Number of features to consider at every split\n",
    "max_features = ['auto', 'sqrt']\n",
    "# Maximum number of levels in tree\n",
    "max_depth = [1, 5, 10, 20, 50, 75, 100, 150, 200]\n",
    "# Minimum number of samples required to split a node\n",
    "# min_samples_split = [int(x) for x in np.linspace(start = 2, stop = 10, num = 9)]\n",
    "min_samples_split = [1, 2, 5, 10, 15, 20, 30]\n",
    "# Minimum number of samples required at each leaf node\n",
    "min_samples_leaf = [1, 2, 3, 4]\n",
    "# Method of selecting samples for training each tree\n",
    "bootstrap = [True, False]\n",
    "# Criterion\n",
    "criterion=['gini', 'entropy']\n",
    "random_grid = {'n_estimators': n_estimators,\n",
    "#                'max_features': max_features,\n",
    "               'max_depth': max_depth,\n",
    "               'min_samples_split': min_samples_split,\n",
    "               'min_samples_leaf': min_samples_leaf,\n",
    "               'bootstrap': bootstrap,\n",
    "               'criterion': criterion}"
   ]
  },
  {
   "cell_type": "code",
   "execution_count": 74,
   "metadata": {},
   "outputs": [
    {
     "name": "stdout",
     "output_type": "stream",
     "text": [
      "Fitting 5 folds for each of 30 candidates, totalling 150 fits\n",
      "[CV] END bootstrap=False, criterion=gini, max_depth=20, min_samples_leaf=4, min_samples_split=1, n_estimators=1588; total time=   0.5s\n",
      "[CV] END bootstrap=False, criterion=gini, max_depth=20, min_samples_leaf=4, min_samples_split=1, n_estimators=1588; total time=   0.6s\n",
      "[CV] END bootstrap=False, criterion=gini, max_depth=20, min_samples_leaf=4, min_samples_split=1, n_estimators=1588; total time=   0.6s\n",
      "[CV] END bootstrap=False, criterion=gini, max_depth=20, min_samples_leaf=4, min_samples_split=1, n_estimators=1588; total time=   0.6s\n",
      "[CV] END bootstrap=False, criterion=gini, max_depth=20, min_samples_leaf=4, min_samples_split=1, n_estimators=1588; total time=   0.5s\n",
      "[CV] END bootstrap=False, criterion=gini, max_depth=200, min_samples_leaf=1, min_samples_split=30, n_estimators=676; total time=  15.8s\n",
      "[CV] END bootstrap=False, criterion=gini, max_depth=200, min_samples_leaf=1, min_samples_split=30, n_estimators=676; total time=  15.9s\n",
      "[CV] END bootstrap=False, criterion=gini, max_depth=200, min_samples_leaf=1, min_samples_split=30, n_estimators=676; total time=  16.0s\n",
      "[CV] END bootstrap=False, criterion=gini, max_depth=200, min_samples_leaf=1, min_samples_split=30, n_estimators=676; total time=  16.0s\n",
      "[CV] END bootstrap=False, criterion=gini, max_depth=200, min_samples_leaf=1, min_samples_split=30, n_estimators=676; total time=  15.8s\n",
      "[CV] END bootstrap=False, criterion=gini, max_depth=75, min_samples_leaf=3, min_samples_split=2, n_estimators=1328; total time=  30.5s\n",
      "[CV] END bootstrap=False, criterion=gini, max_depth=75, min_samples_leaf=3, min_samples_split=2, n_estimators=1328; total time=  30.5s\n",
      "[CV] END bootstrap=False, criterion=gini, max_depth=75, min_samples_leaf=3, min_samples_split=2, n_estimators=1328; total time=  30.4s\n",
      "[CV] END bootstrap=False, criterion=gini, max_depth=1, min_samples_leaf=3, min_samples_split=1, n_estimators=947; total time=   0.4s\n",
      "[CV] END bootstrap=False, criterion=gini, max_depth=1, min_samples_leaf=3, min_samples_split=1, n_estimators=947; total time=   0.4s\n",
      "[CV] END bootstrap=False, criterion=gini, max_depth=1, min_samples_leaf=3, min_samples_split=1, n_estimators=947; total time=   0.4s\n",
      "[CV] END bootstrap=False, criterion=gini, max_depth=1, min_samples_leaf=3, min_samples_split=1, n_estimators=947; total time=   0.4s\n",
      "[CV] END bootstrap=False, criterion=gini, max_depth=1, min_samples_leaf=3, min_samples_split=1, n_estimators=947; total time=   0.4s\n",
      "[CV] END bootstrap=False, criterion=gini, max_depth=75, min_samples_leaf=3, min_samples_split=2, n_estimators=1328; total time=  30.3s\n",
      "[CV] END bootstrap=False, criterion=gini, max_depth=20, min_samples_leaf=2, min_samples_split=15, n_estimators=796; total time=  18.5s\n",
      "[CV] END bootstrap=False, criterion=gini, max_depth=20, min_samples_leaf=2, min_samples_split=15, n_estimators=796; total time=  18.7s\n",
      "[CV] END bootstrap=False, criterion=gini, max_depth=75, min_samples_leaf=3, min_samples_split=2, n_estimators=1328; total time=  32.4s\n",
      "[CV] END bootstrap=False, criterion=gini, max_depth=20, min_samples_leaf=2, min_samples_split=15, n_estimators=796; total time=  20.6s\n",
      "[CV] END bootstrap=False, criterion=gini, max_depth=20, min_samples_leaf=2, min_samples_split=15, n_estimators=796; total time=  20.6s\n",
      "[CV] END bootstrap=False, criterion=gini, max_depth=20, min_samples_leaf=2, min_samples_split=15, n_estimators=796; total time=  20.7s\n",
      "[CV] END bootstrap=False, criterion=gini, max_depth=5, min_samples_leaf=3, min_samples_split=20, n_estimators=686; total time=  12.8s\n",
      "[CV] END bootstrap=False, criterion=gini, max_depth=5, min_samples_leaf=3, min_samples_split=20, n_estimators=686; total time=  12.5s\n",
      "[CV] END bootstrap=False, criterion=gini, max_depth=5, min_samples_leaf=3, min_samples_split=20, n_estimators=686; total time=  12.4s\n",
      "[CV] END bootstrap=False, criterion=gini, max_depth=5, min_samples_leaf=3, min_samples_split=20, n_estimators=686; total time=  12.4s\n",
      "[CV] END bootstrap=False, criterion=gini, max_depth=5, min_samples_leaf=3, min_samples_split=20, n_estimators=686; total time=  12.1s\n",
      "[CV] END bootstrap=True, criterion=entropy, max_depth=1, min_samples_leaf=4, min_samples_split=2, n_estimators=867; total time=  11.6s\n",
      "[CV] END bootstrap=True, criterion=entropy, max_depth=1, min_samples_leaf=4, min_samples_split=2, n_estimators=867; total time=  11.6s\n",
      "[CV] END bootstrap=True, criterion=entropy, max_depth=1, min_samples_leaf=4, min_samples_split=2, n_estimators=867; total time=  11.5s\n",
      "[CV] END bootstrap=False, criterion=gini, max_depth=100, min_samples_leaf=3, min_samples_split=1, n_estimators=1378; total time=   0.6s\n",
      "[CV] END bootstrap=False, criterion=gini, max_depth=100, min_samples_leaf=3, min_samples_split=1, n_estimators=1378; total time=   0.6s\n",
      "[CV] END bootstrap=False, criterion=gini, max_depth=100, min_samples_leaf=3, min_samples_split=1, n_estimators=1378; total time=   0.6s\n",
      "[CV] END bootstrap=False, criterion=gini, max_depth=100, min_samples_leaf=3, min_samples_split=1, n_estimators=1378; total time=   0.6s\n",
      "[CV] END bootstrap=False, criterion=gini, max_depth=100, min_samples_leaf=3, min_samples_split=1, n_estimators=1378; total time=   0.6s\n",
      "[CV] END bootstrap=True, criterion=entropy, max_depth=1, min_samples_leaf=4, min_samples_split=2, n_estimators=867; total time=  11.5s\n",
      "[CV] END bootstrap=True, criterion=entropy, max_depth=1, min_samples_leaf=4, min_samples_split=2, n_estimators=867; total time=  11.5s\n",
      "[CV] END bootstrap=False, criterion=entropy, max_depth=20, min_samples_leaf=1, min_samples_split=2, n_estimators=666; total time=  15.8s\n",
      "[CV] END bootstrap=False, criterion=entropy, max_depth=20, min_samples_leaf=1, min_samples_split=2, n_estimators=666; total time=  15.9s\n",
      "[CV] END bootstrap=False, criterion=entropy, max_depth=20, min_samples_leaf=1, min_samples_split=2, n_estimators=666; total time=  16.1s\n",
      "[CV] END bootstrap=False, criterion=entropy, max_depth=20, min_samples_leaf=1, min_samples_split=2, n_estimators=666; total time=  16.4s\n",
      "[CV] END bootstrap=False, criterion=entropy, max_depth=20, min_samples_leaf=1, min_samples_split=2, n_estimators=666; total time=  16.8s\n",
      "[CV] END bootstrap=True, criterion=entropy, max_depth=100, min_samples_leaf=3, min_samples_split=10, n_estimators=987; total time=  24.2s\n",
      "[CV] END bootstrap=True, criterion=entropy, max_depth=100, min_samples_leaf=3, min_samples_split=10, n_estimators=987; total time=  24.3s\n",
      "[CV] END bootstrap=True, criterion=entropy, max_depth=100, min_samples_leaf=3, min_samples_split=10, n_estimators=987; total time=  23.9s\n",
      "[CV] END bootstrap=True, criterion=entropy, max_depth=100, min_samples_leaf=3, min_samples_split=10, n_estimators=987; total time=  24.4s\n",
      "[CV] END bootstrap=True, criterion=entropy, max_depth=100, min_samples_leaf=3, min_samples_split=10, n_estimators=987; total time=  24.4s\n",
      "[CV] END bootstrap=False, criterion=gini, max_depth=10, min_samples_leaf=1, min_samples_split=10, n_estimators=1278; total time=  32.2s\n",
      "[CV] END bootstrap=False, criterion=gini, max_depth=10, min_samples_leaf=1, min_samples_split=10, n_estimators=1278; total time=  32.5s\n",
      "[CV] END bootstrap=False, criterion=gini, max_depth=10, min_samples_leaf=1, min_samples_split=10, n_estimators=1278; total time=  32.2s\n",
      "[CV] END bootstrap=False, criterion=gini, max_depth=10, min_samples_leaf=1, min_samples_split=10, n_estimators=1278; total time=  32.5s\n",
      "[CV] END bootstrap=False, criterion=gini, max_depth=10, min_samples_leaf=1, min_samples_split=10, n_estimators=1278; total time=  33.5s\n",
      "[CV] END bootstrap=False, criterion=gini, max_depth=50, min_samples_leaf=3, min_samples_split=2, n_estimators=1248; total time=  32.6s\n",
      "[CV] END bootstrap=False, criterion=gini, max_depth=50, min_samples_leaf=3, min_samples_split=2, n_estimators=1248; total time=  33.4s\n",
      "[CV] END bootstrap=False, criterion=entropy, max_depth=50, min_samples_leaf=2, min_samples_split=2, n_estimators=35; total time=   1.0s\n",
      "[CV] END bootstrap=False, criterion=entropy, max_depth=50, min_samples_leaf=2, min_samples_split=2, n_estimators=35; total time=   1.0s\n",
      "[CV] END bootstrap=False, criterion=entropy, max_depth=50, min_samples_leaf=2, min_samples_split=2, n_estimators=35; total time=   1.0s\n",
      "[CV] END bootstrap=False, criterion=entropy, max_depth=50, min_samples_leaf=2, min_samples_split=2, n_estimators=35; total time=   1.0s\n",
      "[CV] END bootstrap=False, criterion=entropy, max_depth=50, min_samples_leaf=2, min_samples_split=2, n_estimators=35; total time=   0.9s\n",
      "[CV] END bootstrap=False, criterion=gini, max_depth=50, min_samples_leaf=3, min_samples_split=2, n_estimators=1248; total time=  33.2s\n",
      "[CV] END bootstrap=False, criterion=gini, max_depth=50, min_samples_leaf=3, min_samples_split=2, n_estimators=1248; total time=  34.7s\n",
      "[CV] END bootstrap=False, criterion=gini, max_depth=50, min_samples_leaf=3, min_samples_split=2, n_estimators=1248; total time=  36.1s\n",
      "[CV] END bootstrap=False, criterion=entropy, max_depth=150, min_samples_leaf=1, min_samples_split=15, n_estimators=1358; total time=  37.7s\n",
      "[CV] END bootstrap=False, criterion=entropy, max_depth=150, min_samples_leaf=1, min_samples_split=15, n_estimators=1358; total time=  37.7s\n",
      "[CV] END bootstrap=True, criterion=gini, max_depth=10, min_samples_leaf=4, min_samples_split=10, n_estimators=235; total time=   5.8s\n",
      "[CV] END bootstrap=False, criterion=entropy, max_depth=150, min_samples_leaf=1, min_samples_split=15, n_estimators=1358; total time=  36.7s\n",
      "[CV] END bootstrap=True, criterion=gini, max_depth=10, min_samples_leaf=4, min_samples_split=10, n_estimators=235; total time=   7.7s\n",
      "[CV] END bootstrap=False, criterion=entropy, max_depth=150, min_samples_leaf=1, min_samples_split=15, n_estimators=1358; total time=  36.9s\n",
      "[CV] END bootstrap=True, criterion=gini, max_depth=10, min_samples_leaf=4, min_samples_split=10, n_estimators=235; total time=   6.5s\n",
      "[CV] END bootstrap=True, criterion=gini, max_depth=10, min_samples_leaf=4, min_samples_split=10, n_estimators=235; total time=   6.3s\n",
      "[CV] END bootstrap=True, criterion=gini, max_depth=10, min_samples_leaf=4, min_samples_split=10, n_estimators=235; total time=   5.9s\n",
      "[CV] END bootstrap=False, criterion=entropy, max_depth=150, min_samples_leaf=1, min_samples_split=15, n_estimators=1358; total time=  37.7s\n",
      "[CV] END bootstrap=True, criterion=gini, max_depth=150, min_samples_leaf=2, min_samples_split=5, n_estimators=907; total time=  23.1s\n",
      "[CV] END bootstrap=True, criterion=gini, max_depth=150, min_samples_leaf=2, min_samples_split=5, n_estimators=907; total time=  23.2s\n",
      "[CV] END bootstrap=True, criterion=entropy, max_depth=20, min_samples_leaf=1, min_samples_split=1, n_estimators=215; total time=   0.1s\n",
      "[CV] END bootstrap=True, criterion=entropy, max_depth=20, min_samples_leaf=1, min_samples_split=1, n_estimators=215; total time=   0.1s\n",
      "[CV] END bootstrap=True, criterion=entropy, max_depth=20, min_samples_leaf=1, min_samples_split=1, n_estimators=215; total time=   0.1s\n",
      "[CV] END bootstrap=True, criterion=entropy, max_depth=20, min_samples_leaf=1, min_samples_split=1, n_estimators=215; total time=   0.1s\n",
      "[CV] END bootstrap=True, criterion=entropy, max_depth=20, min_samples_leaf=1, min_samples_split=1, n_estimators=215; total time=   0.1s\n",
      "[CV] END bootstrap=True, criterion=gini, max_depth=150, min_samples_leaf=2, min_samples_split=5, n_estimators=907; total time=  23.5s\n",
      "[CV] END bootstrap=True, criterion=entropy, max_depth=10, min_samples_leaf=3, min_samples_split=5, n_estimators=205; total time=   5.8s\n",
      "[CV] END bootstrap=True, criterion=entropy, max_depth=10, min_samples_leaf=3, min_samples_split=5, n_estimators=205; total time=   5.1s\n",
      "[CV] END bootstrap=True, criterion=entropy, max_depth=10, min_samples_leaf=3, min_samples_split=5, n_estimators=205; total time=   4.9s\n",
      "[CV] END bootstrap=True, criterion=entropy, max_depth=10, min_samples_leaf=3, min_samples_split=5, n_estimators=205; total time=   5.0s\n",
      "[CV] END bootstrap=True, criterion=gini, max_depth=150, min_samples_leaf=2, min_samples_split=5, n_estimators=907; total time=  23.1s\n",
      "[CV] END bootstrap=True, criterion=entropy, max_depth=10, min_samples_leaf=3, min_samples_split=5, n_estimators=205; total time=   5.0s\n",
      "[CV] END bootstrap=True, criterion=gini, max_depth=150, min_samples_leaf=2, min_samples_split=5, n_estimators=907; total time=  22.8s\n",
      "[CV] END bootstrap=True, criterion=gini, max_depth=1, min_samples_leaf=1, min_samples_split=10, n_estimators=1699; total time=  22.8s\n",
      "[CV] END bootstrap=True, criterion=gini, max_depth=1, min_samples_leaf=1, min_samples_split=10, n_estimators=1699; total time=  23.0s\n",
      "[CV] END bootstrap=True, criterion=gini, max_depth=1, min_samples_leaf=1, min_samples_split=10, n_estimators=1699; total time=  22.6s\n",
      "[CV] END bootstrap=True, criterion=gini, max_depth=1, min_samples_leaf=1, min_samples_split=10, n_estimators=1699; total time=  23.2s\n",
      "[CV] END bootstrap=True, criterion=gini, max_depth=1, min_samples_leaf=1, min_samples_split=10, n_estimators=1699; total time=  24.2s\n",
      "[CV] END bootstrap=True, criterion=entropy, max_depth=5, min_samples_leaf=3, min_samples_split=15, n_estimators=1358; total time=  26.8s\n",
      "[CV] END bootstrap=True, criterion=entropy, max_depth=5, min_samples_leaf=3, min_samples_split=15, n_estimators=1358; total time=  27.1s\n",
      "[CV] END bootstrap=True, criterion=entropy, max_depth=5, min_samples_leaf=3, min_samples_split=15, n_estimators=1358; total time=  26.3s\n",
      "[CV] END bootstrap=False, criterion=entropy, max_depth=150, min_samples_leaf=3, min_samples_split=15, n_estimators=275; total time=   6.6s\n",
      "[CV] END bootstrap=False, criterion=entropy, max_depth=150, min_samples_leaf=3, min_samples_split=15, n_estimators=275; total time=   6.6s\n",
      "[CV] END bootstrap=False, criterion=entropy, max_depth=150, min_samples_leaf=3, min_samples_split=15, n_estimators=275; total time=   6.5s\n",
      "[CV] END bootstrap=False, criterion=entropy, max_depth=150, min_samples_leaf=3, min_samples_split=15, n_estimators=275; total time=   6.7s\n",
      "[CV] END bootstrap=False, criterion=entropy, max_depth=150, min_samples_leaf=3, min_samples_split=15, n_estimators=275; total time=   6.7s\n",
      "[CV] END bootstrap=True, criterion=entropy, max_depth=5, min_samples_leaf=3, min_samples_split=15, n_estimators=1358; total time=  25.9s\n",
      "[CV] END bootstrap=True, criterion=entropy, max_depth=5, min_samples_leaf=3, min_samples_split=15, n_estimators=1358; total time=  25.5s\n",
      "[CV] END bootstrap=True, criterion=entropy, max_depth=10, min_samples_leaf=3, min_samples_split=5, n_estimators=1258; total time=  29.6s\n",
      "[CV] END bootstrap=True, criterion=entropy, max_depth=10, min_samples_leaf=3, min_samples_split=5, n_estimators=1258; total time=  30.1s\n",
      "[CV] END bootstrap=True, criterion=entropy, max_depth=10, min_samples_leaf=3, min_samples_split=5, n_estimators=1258; total time=  30.3s\n",
      "[CV] END bootstrap=True, criterion=entropy, max_depth=10, min_samples_leaf=3, min_samples_split=5, n_estimators=1258; total time=  30.2s\n",
      "[CV] END bootstrap=False, criterion=entropy, max_depth=200, min_samples_leaf=3, min_samples_split=2, n_estimators=416; total time=  11.3s\n",
      "[CV] END bootstrap=False, criterion=entropy, max_depth=200, min_samples_leaf=3, min_samples_split=2, n_estimators=416; total time=  11.4s\n",
      "[CV] END bootstrap=False, criterion=entropy, max_depth=200, min_samples_leaf=3, min_samples_split=2, n_estimators=416; total time=  11.2s\n",
      "[CV] END bootstrap=False, criterion=entropy, max_depth=200, min_samples_leaf=3, min_samples_split=2, n_estimators=416; total time=  10.3s\n",
      "[CV] END bootstrap=False, criterion=entropy, max_depth=200, min_samples_leaf=3, min_samples_split=2, n_estimators=416; total time=  10.4s\n",
      "[CV] END bootstrap=True, criterion=entropy, max_depth=10, min_samples_leaf=3, min_samples_split=5, n_estimators=1258; total time=  31.2s\n",
      "[CV] END bootstrap=True, criterion=gini, max_depth=1, min_samples_leaf=4, min_samples_split=20, n_estimators=1117; total time=  15.2s\n",
      "[CV] END bootstrap=True, criterion=gini, max_depth=1, min_samples_leaf=4, min_samples_split=20, n_estimators=1117; total time=  15.2s\n",
      "[CV] END bootstrap=True, criterion=gini, max_depth=1, min_samples_leaf=4, min_samples_split=20, n_estimators=1117; total time=  15.1s\n",
      "[CV] END bootstrap=True, criterion=gini, max_depth=1, min_samples_leaf=4, min_samples_split=20, n_estimators=1117; total time=  15.1s\n",
      "[CV] END bootstrap=True, criterion=gini, max_depth=1, min_samples_leaf=4, min_samples_split=20, n_estimators=1117; total time=  15.2s\n",
      "[CV] END bootstrap=False, criterion=gini, max_depth=1, min_samples_leaf=2, min_samples_split=20, n_estimators=1558; total time=  17.9s\n",
      "[CV] END bootstrap=False, criterion=gini, max_depth=1, min_samples_leaf=2, min_samples_split=20, n_estimators=1558; total time=  18.0s\n",
      "[CV] END bootstrap=False, criterion=gini, max_depth=1, min_samples_leaf=2, min_samples_split=20, n_estimators=1558; total time=  18.2s\n",
      "[CV] END bootstrap=False, criterion=gini, max_depth=1, min_samples_leaf=2, min_samples_split=20, n_estimators=1558; total time=  18.2s\n",
      "[CV] END bootstrap=False, criterion=gini, max_depth=1, min_samples_leaf=2, min_samples_split=20, n_estimators=1558; total time=  19.3s\n",
      "[CV] END bootstrap=False, criterion=entropy, max_depth=75, min_samples_leaf=4, min_samples_split=30, n_estimators=1799; total time=  45.9s\n",
      "[CV] END bootstrap=False, criterion=entropy, max_depth=75, min_samples_leaf=4, min_samples_split=30, n_estimators=1799; total time=  46.2s\n",
      "[CV] END bootstrap=False, criterion=entropy, max_depth=75, min_samples_leaf=4, min_samples_split=30, n_estimators=1799; total time=  46.1s\n",
      "[CV] END bootstrap=False, criterion=entropy, max_depth=75, min_samples_leaf=4, min_samples_split=30, n_estimators=1799; total time=  44.5s\n",
      "[CV] END bootstrap=True, criterion=entropy, max_depth=100, min_samples_leaf=1, min_samples_split=30, n_estimators=1057; total time=  25.7s\n",
      "[CV] END bootstrap=True, criterion=entropy, max_depth=100, min_samples_leaf=1, min_samples_split=30, n_estimators=1057; total time=  25.9s\n",
      "[CV] END bootstrap=True, criterion=entropy, max_depth=100, min_samples_leaf=1, min_samples_split=30, n_estimators=1057; total time=  26.3s\n",
      "[CV] END bootstrap=False, criterion=entropy, max_depth=5, min_samples_leaf=3, min_samples_split=1, n_estimators=1659; total time=   0.7s\n",
      "[CV] END bootstrap=False, criterion=entropy, max_depth=75, min_samples_leaf=4, min_samples_split=30, n_estimators=1799; total time=  45.2s\n",
      "[CV] END bootstrap=False, criterion=entropy, max_depth=5, min_samples_leaf=3, min_samples_split=1, n_estimators=1659; total time=   0.7s\n",
      "[CV] END bootstrap=False, criterion=entropy, max_depth=5, min_samples_leaf=3, min_samples_split=1, n_estimators=1659; total time=   0.7s\n",
      "[CV] END bootstrap=False, criterion=entropy, max_depth=5, min_samples_leaf=3, min_samples_split=1, n_estimators=1659; total time=   0.8s\n",
      "[CV] END bootstrap=False, criterion=entropy, max_depth=5, min_samples_leaf=3, min_samples_split=1, n_estimators=1659; total time=   0.7s\n",
      "[CV] END bootstrap=False, criterion=gini, max_depth=75, min_samples_leaf=2, min_samples_split=5, n_estimators=85; total time=   2.2s\n",
      "[CV] END bootstrap=False, criterion=gini, max_depth=75, min_samples_leaf=2, min_samples_split=5, n_estimators=85; total time=   2.2s\n",
      "[CV] END bootstrap=False, criterion=gini, max_depth=75, min_samples_leaf=2, min_samples_split=5, n_estimators=85; total time=   2.2s\n",
      "[CV] END bootstrap=False, criterion=gini, max_depth=75, min_samples_leaf=2, min_samples_split=5, n_estimators=85; total time=   2.1s\n",
      "[CV] END bootstrap=False, criterion=gini, max_depth=75, min_samples_leaf=2, min_samples_split=5, n_estimators=85; total time=   2.1s\n",
      "[CV] END bootstrap=True, criterion=entropy, max_depth=100, min_samples_leaf=1, min_samples_split=30, n_estimators=1057; total time=  25.4s\n",
      "[CV] END bootstrap=True, criterion=entropy, max_depth=100, min_samples_leaf=1, min_samples_split=30, n_estimators=1057; total time=  25.4s\n",
      "[CV] END bootstrap=False, criterion=entropy, max_depth=1, min_samples_leaf=4, min_samples_split=30, n_estimators=1308; total time=  14.8s\n",
      "[CV] END bootstrap=False, criterion=entropy, max_depth=1, min_samples_leaf=4, min_samples_split=30, n_estimators=1308; total time=  14.9s\n",
      "[CV] END bootstrap=False, criterion=entropy, max_depth=1, min_samples_leaf=4, min_samples_split=30, n_estimators=1308; total time=  13.9s\n",
      "[CV] END bootstrap=False, criterion=entropy, max_depth=1, min_samples_leaf=4, min_samples_split=30, n_estimators=1308; total time=  13.5s\n",
      "[CV] END bootstrap=False, criterion=entropy, max_depth=1, min_samples_leaf=4, min_samples_split=30, n_estimators=1308; total time=  11.7s\n"
     ]
    },
    {
     "name": "stderr",
     "output_type": "stream",
     "text": [
      "/usr/local/lib/python3.9/site-packages/sklearn/model_selection/_validation.py:372: FitFailedWarning: \n",
      "25 fits failed out of a total of 150.\n",
      "The score on these train-test partitions for these parameters will be set to nan.\n",
      "If these failures are not expected, you can try to debug them by setting error_score='raise'.\n",
      "\n",
      "Below are more details about the failures:\n",
      "--------------------------------------------------------------------------------\n",
      "20 fits failed with the following error:\n",
      "Traceback (most recent call last):\n",
      "  File \"/usr/local/lib/python3.9/site-packages/sklearn/model_selection/_validation.py\", line 680, in _fit_and_score\n",
      "    estimator.fit(X_train, y_train, **fit_params)\n",
      "  File \"/usr/local/lib/python3.9/site-packages/sklearn/ensemble/_forest.py\", line 450, in fit\n",
      "    trees = Parallel(\n",
      "  File \"/usr/local/lib/python3.9/site-packages/joblib/parallel.py\", line 1043, in __call__\n",
      "    if self.dispatch_one_batch(iterator):\n",
      "  File \"/usr/local/lib/python3.9/site-packages/joblib/parallel.py\", line 861, in dispatch_one_batch\n",
      "    self._dispatch(tasks)\n",
      "  File \"/usr/local/lib/python3.9/site-packages/joblib/parallel.py\", line 779, in _dispatch\n",
      "    job = self._backend.apply_async(batch, callback=cb)\n",
      "  File \"/usr/local/lib/python3.9/site-packages/joblib/_parallel_backends.py\", line 208, in apply_async\n",
      "    result = ImmediateResult(func)\n",
      "  File \"/usr/local/lib/python3.9/site-packages/joblib/_parallel_backends.py\", line 572, in __init__\n",
      "    self.results = batch()\n",
      "  File \"/usr/local/lib/python3.9/site-packages/joblib/parallel.py\", line 262, in __call__\n",
      "    return [func(*args, **kwargs)\n",
      "  File \"/usr/local/lib/python3.9/site-packages/joblib/parallel.py\", line 262, in <listcomp>\n",
      "    return [func(*args, **kwargs)\n",
      "  File \"/usr/local/lib/python3.9/site-packages/sklearn/utils/fixes.py\", line 216, in __call__\n",
      "    return self.function(*args, **kwargs)\n",
      "  File \"/usr/local/lib/python3.9/site-packages/sklearn/ensemble/_forest.py\", line 187, in _parallel_build_trees\n",
      "    tree.fit(X, y, sample_weight=sample_weight, check_input=False)\n",
      "  File \"/usr/local/lib/python3.9/site-packages/sklearn/tree/_classes.py\", line 937, in fit\n",
      "    super().fit(\n",
      "  File \"/usr/local/lib/python3.9/site-packages/sklearn/tree/_classes.py\", line 250, in fit\n",
      "    raise ValueError(\n",
      "ValueError: min_samples_split must be an integer greater than 1 or a float in (0.0, 1.0]; got the integer 1\n",
      "\n",
      "--------------------------------------------------------------------------------\n",
      "5 fits failed with the following error:\n",
      "Traceback (most recent call last):\n",
      "  File \"/usr/local/lib/python3.9/site-packages/sklearn/model_selection/_validation.py\", line 680, in _fit_and_score\n",
      "    estimator.fit(X_train, y_train, **fit_params)\n",
      "  File \"/usr/local/lib/python3.9/site-packages/sklearn/ensemble/_forest.py\", line 450, in fit\n",
      "    trees = Parallel(\n",
      "  File \"/usr/local/lib/python3.9/site-packages/joblib/parallel.py\", line 1043, in __call__\n",
      "    if self.dispatch_one_batch(iterator):\n",
      "  File \"/usr/local/lib/python3.9/site-packages/joblib/parallel.py\", line 861, in dispatch_one_batch\n",
      "    self._dispatch(tasks)\n",
      "  File \"/usr/local/lib/python3.9/site-packages/joblib/parallel.py\", line 779, in _dispatch\n",
      "    job = self._backend.apply_async(batch, callback=cb)\n",
      "  File \"/usr/local/lib/python3.9/site-packages/joblib/_parallel_backends.py\", line 208, in apply_async\n",
      "    result = ImmediateResult(func)\n",
      "  File \"/usr/local/lib/python3.9/site-packages/joblib/_parallel_backends.py\", line 572, in __init__\n",
      "    self.results = batch()\n",
      "  File \"/usr/local/lib/python3.9/site-packages/joblib/parallel.py\", line 262, in __call__\n",
      "    return [func(*args, **kwargs)\n",
      "  File \"/usr/local/lib/python3.9/site-packages/joblib/parallel.py\", line 262, in <listcomp>\n",
      "    return [func(*args, **kwargs)\n",
      "  File \"/usr/local/lib/python3.9/site-packages/sklearn/utils/fixes.py\", line 216, in __call__\n",
      "    return self.function(*args, **kwargs)\n",
      "  File \"/usr/local/lib/python3.9/site-packages/sklearn/ensemble/_forest.py\", line 185, in _parallel_build_trees\n",
      "    tree.fit(X, y, sample_weight=curr_sample_weight, check_input=False)\n",
      "  File \"/usr/local/lib/python3.9/site-packages/sklearn/tree/_classes.py\", line 937, in fit\n",
      "    super().fit(\n",
      "  File \"/usr/local/lib/python3.9/site-packages/sklearn/tree/_classes.py\", line 250, in fit\n",
      "    raise ValueError(\n",
      "ValueError: min_samples_split must be an integer greater than 1 or a float in (0.0, 1.0]; got the integer 1\n",
      "\n",
      "  warnings.warn(some_fits_failed_message, FitFailedWarning)\n",
      "/usr/local/lib/python3.9/site-packages/sklearn/model_selection/_search.py:969: UserWarning: One or more of the test scores are non-finite: [       nan 0.95794011 0.95790343        nan 0.95794011 0.95764663\n",
      " 0.92448296        nan 0.95771083 0.95801348 0.95790343 0.95790343\n",
      " 0.95790343 0.95793094 0.95794011 0.95801348        nan 0.95801348\n",
      " 0.92499656 0.95764663 0.95794011 0.95801348 0.95790343 0.92506993\n",
      " 0.92512496 0.95794011 0.95801348        nan 0.95790343 0.92467556]\n",
      "  warnings.warn(\n"
     ]
    },
    {
     "data": {
      "text/plain": [
       "RandomizedSearchCV(cv=5, estimator=RandomForestClassifier(), n_iter=30,\n",
       "                   n_jobs=4,\n",
       "                   param_distributions={'bootstrap': [True, False],\n",
       "                                        'criterion': ['gini', 'entropy'],\n",
       "                                        'max_depth': [1, 5, 10, 20, 50, 75, 100,\n",
       "                                                      150, 200],\n",
       "                                        'min_samples_leaf': [1, 2, 3, 4],\n",
       "                                        'min_samples_split': [1, 2, 5, 10, 15,\n",
       "                                                              20, 30],\n",
       "                                        'n_estimators': array([   5,   15,   25,   35,   45,   55,   65,   75,   85,   95,  105,\n",
       "        115,  125,  135,  145,  155,  165,  175,  1...\n",
       "       1328, 1338, 1348, 1358, 1368, 1378, 1388, 1398, 1408, 1418, 1428,\n",
       "       1438, 1448, 1458, 1468, 1478, 1488, 1498, 1508, 1518, 1528, 1538,\n",
       "       1548, 1558, 1568, 1578, 1588, 1598, 1609, 1619, 1629, 1639, 1649,\n",
       "       1659, 1669, 1679, 1689, 1699, 1709, 1719, 1729, 1739, 1749, 1759,\n",
       "       1769, 1779, 1789, 1799, 1809, 1819, 1829, 1839, 1849, 1859, 1869,\n",
       "       1879, 1889, 1899, 1909, 1919, 1929, 1939, 1949, 1959, 1969, 1979,\n",
       "       1989, 2000])},\n",
       "                   random_state=42, verbose=2)"
      ]
     },
     "execution_count": 74,
     "metadata": {},
     "output_type": "execute_result"
    }
   ],
   "source": [
    "#perform 5-fold cross validation against all parameter ranges set above to find optimal parameters for the rf model\n",
    "#we will train and test each time on March - April 2020 data as this was just an accurate predictor of September - November 2020 data and easier to train\n",
    "\n",
    "rf_base = RandomForestClassifier()\n",
    "rf_random = RandomizedSearchCV(estimator = rf_base,\n",
    "                               param_distributions = random_grid,\n",
    "                               n_iter = 30, cv = 5,\n",
    "                               verbose=2,\n",
    "                               random_state=42, n_jobs = 4)\n",
    "rf_random.fit(X_train1, y_train1)"
   ]
  },
  {
   "cell_type": "code",
   "execution_count": 75,
   "metadata": {},
   "outputs": [
    {
     "data": {
      "text/plain": [
       "{'n_estimators': 987,\n",
       " 'min_samples_split': 10,\n",
       " 'min_samples_leaf': 3,\n",
       " 'max_depth': 100,\n",
       " 'criterion': 'entropy',\n",
       " 'bootstrap': True}"
      ]
     },
     "execution_count": 75,
     "metadata": {},
     "output_type": "execute_result"
    }
   ],
   "source": [
    "rf_random.best_params_"
   ]
  },
  {
   "cell_type": "code",
   "execution_count": 76,
   "metadata": {},
   "outputs": [
    {
     "name": "stdout",
     "output_type": "stream",
     "text": [
      "0.9580134819094787\n"
     ]
    }
   ],
   "source": [
    "print(rf_random.score(X_train1, y_train1))"
   ]
  },
  {
   "cell_type": "code",
   "execution_count": 77,
   "metadata": {},
   "outputs": [
    {
     "name": "stdout",
     "output_type": "stream",
     "text": [
      "0.9586558567812465\n"
     ]
    }
   ],
   "source": [
    "print(rf_random.score(X_test1, y_test1))"
   ]
  },
  {
   "cell_type": "code",
   "execution_count": 78,
   "metadata": {},
   "outputs": [
    {
     "data": {
      "image/png": "[encoded data removed]",
      "text/plain": [
       "<Figure size 432x288 with 1 Axes>"
      ]
     },
     "metadata": {
      "needs_background": "light"
     },
     "output_type": "display_data"
    }
   ],
   "source": [
    "#test the model trained for March-April 2020\n",
    "rf_disp3 = RocCurveDisplay.from_estimator(rf_random, X_test1, y_test1)\n",
    "plt.show()"
   ]
  },
  {
   "cell_type": "code",
   "execution_count": 79,
   "metadata": {},
   "outputs": [
    {
     "data": {
      "image/png": "[encoded data removed]",
      "text/plain": [
       "<Figure size 432x288 with 1 Axes>"
      ]
     },
     "metadata": {
      "needs_background": "light"
     },
     "output_type": "display_data"
    }
   ],
   "source": [
    "#test the model for September-November 2020\n",
    "rf_disp4 = RocCurveDisplay.from_estimator(rf_random, X_test2, y_test2)\n",
    "plt.show()"
   ]
  },
  {
   "cell_type": "code",
   "execution_count": 80,
   "metadata": {},
   "outputs": [],
   "source": [
    "rf_best_params = RandomForestClassifier(n_estimators = 987,\n",
    " min_samples_split = 10,\n",
    " min_samples_leaf = 3,\n",
    " max_depth = 100,\n",
    " criterion = 'entropy',\n",
    " bootstrap = True)"
   ]
  },
  {
   "cell_type": "code",
   "execution_count": 81,
   "metadata": {},
   "outputs": [
    {
     "data": {
      "text/plain": [
       "RandomForestClassifier(criterion='entropy', max_depth=100, min_samples_leaf=3,\n",
       "                       min_samples_split=10, n_estimators=987)"
      ]
     },
     "execution_count": 81,
     "metadata": {},
     "output_type": "execute_result"
    }
   ],
   "source": [
    "rf_best_params.fit(X_train1, y_train1)"
   ]
  },
  {
   "cell_type": "code",
   "execution_count": 82,
   "metadata": {},
   "outputs": [
    {
     "data": {
      "image/png": "[encoded data removed]",
      "text/plain": [
       "<Figure size 432x288 with 1 Axes>"
      ]
     },
     "metadata": {
      "needs_background": "light"
     },
     "output_type": "display_data"
    }
   ],
   "source": [
    "#test the model trained for March-April 2020\n",
    "rf_disp5 = RocCurveDisplay.from_estimator(rf_best_params, X_test1, y_test1)\n",
    "plt.show()"
   ]
  },
  {
   "cell_type": "code",
   "execution_count": 83,
   "metadata": {},
   "outputs": [
    {
     "data": {
      "image/png": "[encoded data removed]",
      "text/plain": [
       "<Figure size 432x288 with 1 Axes>"
      ]
     },
     "metadata": {
      "needs_background": "light"
     },
     "output_type": "display_data"
    }
   ],
   "source": [
    "#test the model trained for September-November 2020\n",
    "rf_disp6 = RocCurveDisplay.from_estimator(rf_best_params, X_test2, y_test2)\n",
    "plt.show()"
   ]
  },
  {
   "cell_type": "code",
   "execution_count": 84,
   "metadata": {},
   "outputs": [
    {
     "data": {
      "text/html": [
       "<div>\n",
       "<style scoped>\n",
       "    .dataframe tbody tr th:only-of-type {\n",
       "        vertical-align: middle;\n",
       "    }\n",
       "\n",
       "    .dataframe tbody tr th {\n",
       "        vertical-align: top;\n",
       "    }\n",
       "\n",
       "    .dataframe thead th {\n",
       "        text-align: right;\n",
       "    }\n",
       "</style>\n",
       "<table border=\"1\" class=\"dataframe\">\n",
       "  <thead>\n",
       "    <tr style=\"text-align: right;\">\n",
       "      <th></th>\n",
       "      <th>0</th>\n",
       "    </tr>\n",
       "  </thead>\n",
       "  <tbody>\n",
       "    <tr>\n",
       "      <th>test_indication</th>\n",
       "      <td>0.453558</td>\n",
       "    </tr>\n",
       "    <tr>\n",
       "      <th>head_ache</th>\n",
       "      <td>0.163782</td>\n",
       "    </tr>\n",
       "    <tr>\n",
       "      <th>fever</th>\n",
       "      <td>0.146011</td>\n",
       "    </tr>\n",
       "    <tr>\n",
       "      <th>sore_throat</th>\n",
       "      <td>0.085715</td>\n",
       "    </tr>\n",
       "    <tr>\n",
       "      <th>cough</th>\n",
       "      <td>0.072916</td>\n",
       "    </tr>\n",
       "    <tr>\n",
       "      <th>shortness_of_breath</th>\n",
       "      <td>0.061342</td>\n",
       "    </tr>\n",
       "    <tr>\n",
       "      <th>age_60_and_above</th>\n",
       "      <td>0.008427</td>\n",
       "    </tr>\n",
       "    <tr>\n",
       "      <th>gender</th>\n",
       "      <td>0.008248</td>\n",
       "    </tr>\n",
       "  </tbody>\n",
       "</table>\n",
       "</div>"
      ],
      "text/plain": [
       "                            0\n",
       "test_indication      0.453558\n",
       "head_ache            0.163782\n",
       "fever                0.146011\n",
       "sore_throat          0.085715\n",
       "cough                0.072916\n",
       "shortness_of_breath  0.061342\n",
       "age_60_and_above     0.008427\n",
       "gender               0.008248"
      ]
     },
     "execution_count": 84,
     "metadata": {},
     "output_type": "execute_result"
    }
   ],
   "source": [
    "#show the variable importance in the rf model\n",
    "pd.DataFrame(rf_best_params.feature_importances_, index=X_train1.columns).sort_values(by=0, ascending=False)"
   ]
  },
  {
   "cell_type": "markdown",
   "metadata": {},
   "source": [
    "## Testing Model with best parameters trained on March-April 2020 on March-April 2021 data"
   ]
  },
  {
   "cell_type": "code",
   "execution_count": 85,
   "metadata": {},
   "outputs": [
    {
     "name": "stderr",
     "output_type": "stream",
     "text": [
      "/var/folders/kt/92wnzvcj6qq_r6j3j19yp5lw0000gp/T/ipykernel_10129/3302323151.py:2: DtypeWarning: Columns (7) have mixed types. Specify dtype option on import or set low_memory=False.\n",
      "  data3 = pd.read_csv('data/corona_tests_2021_mar.csv')\n"
     ]
    },
    {
     "data": {
      "text/html": [
       "<div>\n",
       "<style scoped>\n",
       "    .dataframe tbody tr th:only-of-type {\n",
       "        vertical-align: middle;\n",
       "    }\n",
       "\n",
       "    .dataframe tbody tr th {\n",
       "        vertical-align: top;\n",
       "    }\n",
       "\n",
       "    .dataframe thead th {\n",
       "        text-align: right;\n",
       "    }\n",
       "</style>\n",
       "<table border=\"1\" class=\"dataframe\">\n",
       "  <thead>\n",
       "    <tr style=\"text-align: right;\">\n",
       "      <th></th>\n",
       "      <th>test_date</th>\n",
       "      <th>cough</th>\n",
       "      <th>fever</th>\n",
       "      <th>sore_throat</th>\n",
       "      <th>shortness_of_breath</th>\n",
       "      <th>head_ache</th>\n",
       "      <th>corona_result</th>\n",
       "      <th>age_60_and_above</th>\n",
       "      <th>gender</th>\n",
       "      <th>test_indication</th>\n",
       "    </tr>\n",
       "  </thead>\n",
       "  <tbody>\n",
       "    <tr>\n",
       "      <th>0</th>\n",
       "      <td>2021-04-30</td>\n",
       "      <td>0</td>\n",
       "      <td>0</td>\n",
       "      <td>0</td>\n",
       "      <td>0</td>\n",
       "      <td>0</td>\n",
       "      <td>negative</td>\n",
       "      <td>NaN</td>\n",
       "      <td>NaN</td>\n",
       "      <td>Other</td>\n",
       "    </tr>\n",
       "    <tr>\n",
       "      <th>1</th>\n",
       "      <td>2021-04-30</td>\n",
       "      <td>0</td>\n",
       "      <td>0</td>\n",
       "      <td>0</td>\n",
       "      <td>0</td>\n",
       "      <td>0</td>\n",
       "      <td>negative</td>\n",
       "      <td>NaN</td>\n",
       "      <td>NaN</td>\n",
       "      <td>Other</td>\n",
       "    </tr>\n",
       "    <tr>\n",
       "      <th>2</th>\n",
       "      <td>2021-04-30</td>\n",
       "      <td>0</td>\n",
       "      <td>0</td>\n",
       "      <td>0</td>\n",
       "      <td>0</td>\n",
       "      <td>0</td>\n",
       "      <td>negative</td>\n",
       "      <td>NaN</td>\n",
       "      <td>NaN</td>\n",
       "      <td>Other</td>\n",
       "    </tr>\n",
       "    <tr>\n",
       "      <th>3</th>\n",
       "      <td>2021-04-30</td>\n",
       "      <td>0</td>\n",
       "      <td>0</td>\n",
       "      <td>0</td>\n",
       "      <td>0</td>\n",
       "      <td>0</td>\n",
       "      <td>negative</td>\n",
       "      <td>NaN</td>\n",
       "      <td>NaN</td>\n",
       "      <td>Other</td>\n",
       "    </tr>\n",
       "    <tr>\n",
       "      <th>4</th>\n",
       "      <td>2021-04-30</td>\n",
       "      <td>0</td>\n",
       "      <td>0</td>\n",
       "      <td>0</td>\n",
       "      <td>0</td>\n",
       "      <td>0</td>\n",
       "      <td>negative</td>\n",
       "      <td>NaN</td>\n",
       "      <td>NaN</td>\n",
       "      <td>Other</td>\n",
       "    </tr>\n",
       "  </tbody>\n",
       "</table>\n",
       "</div>"
      ],
      "text/plain": [
       "    test_date  cough  fever  sore_throat  shortness_of_breath  head_ache  \\\n",
       "0  2021-04-30      0      0            0                    0          0   \n",
       "1  2021-04-30      0      0            0                    0          0   \n",
       "2  2021-04-30      0      0            0                    0          0   \n",
       "3  2021-04-30      0      0            0                    0          0   \n",
       "4  2021-04-30      0      0            0                    0          0   \n",
       "\n",
       "  corona_result age_60_and_above gender test_indication  \n",
       "0      negative              NaN    NaN           Other  \n",
       "1      negative              NaN    NaN           Other  \n",
       "2      negative              NaN    NaN           Other  \n",
       "3      negative              NaN    NaN           Other  \n",
       "4      negative              NaN    NaN           Other  "
      ]
     },
     "execution_count": 85,
     "metadata": {},
     "output_type": "execute_result"
    }
   ],
   "source": [
    "#load in March-April 2021 data\n",
    "data3 = pd.read_csv('data/corona_tests_2021_mar.csv')\n",
    "data3.head()"
   ]
  },
  {
   "cell_type": "code",
   "execution_count": 86,
   "metadata": {},
   "outputs": [
    {
     "data": {
      "text/html": [
       "<div>\n",
       "<style scoped>\n",
       "    .dataframe tbody tr th:only-of-type {\n",
       "        vertical-align: middle;\n",
       "    }\n",
       "\n",
       "    .dataframe tbody tr th {\n",
       "        vertical-align: top;\n",
       "    }\n",
       "\n",
       "    .dataframe thead th {\n",
       "        text-align: right;\n",
       "    }\n",
       "</style>\n",
       "<table border=\"1\" class=\"dataframe\">\n",
       "  <thead>\n",
       "    <tr style=\"text-align: right;\">\n",
       "      <th></th>\n",
       "      <th>cough</th>\n",
       "      <th>fever</th>\n",
       "      <th>sore_throat</th>\n",
       "      <th>shortness_of_breath</th>\n",
       "      <th>head_ache</th>\n",
       "      <th>corona_result</th>\n",
       "      <th>age_60_and_above</th>\n",
       "      <th>gender</th>\n",
       "      <th>test_indication</th>\n",
       "    </tr>\n",
       "  </thead>\n",
       "  <tbody>\n",
       "    <tr>\n",
       "      <th>257533</th>\n",
       "      <td>0</td>\n",
       "      <td>0</td>\n",
       "      <td>0</td>\n",
       "      <td>0</td>\n",
       "      <td>0</td>\n",
       "      <td>0.0</td>\n",
       "      <td>0</td>\n",
       "      <td>1</td>\n",
       "      <td>0</td>\n",
       "    </tr>\n",
       "    <tr>\n",
       "      <th>257534</th>\n",
       "      <td>0</td>\n",
       "      <td>0</td>\n",
       "      <td>0</td>\n",
       "      <td>0</td>\n",
       "      <td>0</td>\n",
       "      <td>0.0</td>\n",
       "      <td>0</td>\n",
       "      <td>0</td>\n",
       "      <td>0</td>\n",
       "    </tr>\n",
       "    <tr>\n",
       "      <th>257536</th>\n",
       "      <td>0</td>\n",
       "      <td>0</td>\n",
       "      <td>0</td>\n",
       "      <td>0</td>\n",
       "      <td>0</td>\n",
       "      <td>0.0</td>\n",
       "      <td>0</td>\n",
       "      <td>1</td>\n",
       "      <td>0</td>\n",
       "    </tr>\n",
       "    <tr>\n",
       "      <th>257537</th>\n",
       "      <td>0</td>\n",
       "      <td>0</td>\n",
       "      <td>0</td>\n",
       "      <td>0</td>\n",
       "      <td>0</td>\n",
       "      <td>0.0</td>\n",
       "      <td>0</td>\n",
       "      <td>1</td>\n",
       "      <td>0</td>\n",
       "    </tr>\n",
       "    <tr>\n",
       "      <th>257539</th>\n",
       "      <td>0</td>\n",
       "      <td>0</td>\n",
       "      <td>0</td>\n",
       "      <td>0</td>\n",
       "      <td>0</td>\n",
       "      <td>0.0</td>\n",
       "      <td>0</td>\n",
       "      <td>0</td>\n",
       "      <td>0</td>\n",
       "    </tr>\n",
       "    <tr>\n",
       "      <th>...</th>\n",
       "      <td>...</td>\n",
       "      <td>...</td>\n",
       "      <td>...</td>\n",
       "      <td>...</td>\n",
       "      <td>...</td>\n",
       "      <td>...</td>\n",
       "      <td>...</td>\n",
       "      <td>...</td>\n",
       "      <td>...</td>\n",
       "    </tr>\n",
       "    <tr>\n",
       "      <th>429875</th>\n",
       "      <td>0</td>\n",
       "      <td>0</td>\n",
       "      <td>0</td>\n",
       "      <td>0</td>\n",
       "      <td>0</td>\n",
       "      <td>0.0</td>\n",
       "      <td>0</td>\n",
       "      <td>0</td>\n",
       "      <td>1</td>\n",
       "    </tr>\n",
       "    <tr>\n",
       "      <th>429876</th>\n",
       "      <td>0</td>\n",
       "      <td>0</td>\n",
       "      <td>0</td>\n",
       "      <td>0</td>\n",
       "      <td>0</td>\n",
       "      <td>0.0</td>\n",
       "      <td>0</td>\n",
       "      <td>1</td>\n",
       "      <td>0</td>\n",
       "    </tr>\n",
       "    <tr>\n",
       "      <th>429877</th>\n",
       "      <td>0</td>\n",
       "      <td>0</td>\n",
       "      <td>0</td>\n",
       "      <td>0</td>\n",
       "      <td>0</td>\n",
       "      <td>0.0</td>\n",
       "      <td>0</td>\n",
       "      <td>0</td>\n",
       "      <td>0</td>\n",
       "    </tr>\n",
       "    <tr>\n",
       "      <th>429878</th>\n",
       "      <td>0</td>\n",
       "      <td>0</td>\n",
       "      <td>0</td>\n",
       "      <td>0</td>\n",
       "      <td>0</td>\n",
       "      <td>0.0</td>\n",
       "      <td>0</td>\n",
       "      <td>1</td>\n",
       "      <td>0</td>\n",
       "    </tr>\n",
       "    <tr>\n",
       "      <th>429879</th>\n",
       "      <td>0</td>\n",
       "      <td>0</td>\n",
       "      <td>0</td>\n",
       "      <td>0</td>\n",
       "      <td>0</td>\n",
       "      <td>0.0</td>\n",
       "      <td>0</td>\n",
       "      <td>0</td>\n",
       "      <td>0</td>\n",
       "    </tr>\n",
       "  </tbody>\n",
       "</table>\n",
       "<p>115057 rows × 9 columns</p>\n",
       "</div>"
      ],
      "text/plain": [
       "        cough  fever  sore_throat  shortness_of_breath  head_ache  \\\n",
       "257533      0      0            0                    0          0   \n",
       "257534      0      0            0                    0          0   \n",
       "257536      0      0            0                    0          0   \n",
       "257537      0      0            0                    0          0   \n",
       "257539      0      0            0                    0          0   \n",
       "...       ...    ...          ...                  ...        ...   \n",
       "429875      0      0            0                    0          0   \n",
       "429876      0      0            0                    0          0   \n",
       "429877      0      0            0                    0          0   \n",
       "429878      0      0            0                    0          0   \n",
       "429879      0      0            0                    0          0   \n",
       "\n",
       "        corona_result  age_60_and_above  gender  test_indication  \n",
       "257533            0.0                 0       1                0  \n",
       "257534            0.0                 0       0                0  \n",
       "257536            0.0                 0       1                0  \n",
       "257537            0.0                 0       1                0  \n",
       "257539            0.0                 0       0                0  \n",
       "...               ...               ...     ...              ...  \n",
       "429875            0.0                 0       0                1  \n",
       "429876            0.0                 0       1                0  \n",
       "429877            0.0                 0       0                0  \n",
       "429878            0.0                 0       1                0  \n",
       "429879            0.0                 0       0                0  \n",
       "\n",
       "[115057 rows x 9 columns]"
      ]
     },
     "execution_count": 86,
     "metadata": {},
     "output_type": "execute_result"
    }
   ],
   "source": [
    "data_processed3 = prepareData(data3)\n",
    "data_processed3"
   ]
  },
  {
   "cell_type": "code",
   "execution_count": 87,
   "metadata": {},
   "outputs": [],
   "source": [
    "#drop nas from the data\n",
    "data_processed3.dropna(inplace = True)"
   ]
  },
  {
   "cell_type": "code",
   "execution_count": 88,
   "metadata": {},
   "outputs": [
    {
     "data": {
      "text/plain": [
       "cough                  0\n",
       "fever                  0\n",
       "sore_throat            0\n",
       "shortness_of_breath    0\n",
       "head_ache              0\n",
       "corona_result          0\n",
       "age_60_and_above       0\n",
       "gender                 0\n",
       "test_indication        0\n",
       "dtype: int64"
      ]
     },
     "execution_count": 88,
     "metadata": {},
     "output_type": "execute_result"
    }
   ],
   "source": [
    "#check there are no more nas\n",
    "data_processed3.isna().sum()"
   ]
  },
  {
   "cell_type": "code",
   "execution_count": 89,
   "metadata": {},
   "outputs": [],
   "source": [
    "#create a train test split for the 2021 data\n",
    "\n",
    "X3 = data_processed3.drop(['corona_result'],axis = 1)\n",
    "y3 = data_processed3.copy()['corona_result']\n",
    "\n",
    "X_train3, X_test3, y_train3, y_test3 = train_test_split(X3, y3, test_size = 0.2,random_state = 2022, stratify = y3)"
   ]
  },
  {
   "cell_type": "code",
   "execution_count": 90,
   "metadata": {},
   "outputs": [
    {
     "data": {
      "image/png": "[encoded data removed]",
      "text/plain": [
       "<Figure size 432x288 with 1 Axes>"
      ]
     },
     "metadata": {
      "needs_background": "light"
     },
     "output_type": "display_data"
    }
   ],
   "source": [
    "#test the best parameter model on the 2021 data\n",
    "#test the model on March-April 2021 data\n",
    "rf_disp6 = RocCurveDisplay.from_estimator(rf_best_params, X_test3, y_test3)\n",
    "plt.show()"
   ]
  },
  {
   "cell_type": "markdown",
   "metadata": {},
   "source": [
    "## Retrain the best parameter model on the 2021 data and check results"
   ]
  },
  {
   "cell_type": "code",
   "execution_count": 91,
   "metadata": {},
   "outputs": [
    {
     "data": {
      "text/plain": [
       "RandomForestClassifier(criterion='entropy', max_depth=100, min_samples_leaf=3,\n",
       "                       min_samples_split=10, n_estimators=987)"
      ]
     },
     "execution_count": 91,
     "metadata": {},
     "output_type": "execute_result"
    }
   ],
   "source": [
    "#train the model again on the 2021 data and check the AUC\n",
    "rf_best_params.fit(X_train3, y_train3)"
   ]
  },
  {
   "cell_type": "code",
   "execution_count": 92,
   "metadata": {},
   "outputs": [
    {
     "data": {
      "image/png": "[encoded data removed]",
      "text/plain": [
       "<Figure size 432x288 with 1 Axes>"
      ]
     },
     "metadata": {
      "needs_background": "light"
     },
     "output_type": "display_data"
    }
   ],
   "source": [
    "#test the model on March-April 2021 data\n",
    "rf_disp7 = RocCurveDisplay.from_estimator(rf_best_params, X_test3, y_test3)\n",
    "plt.show()"
   ]
  },
  {
   "cell_type": "code",
   "execution_count": null,
   "metadata": {},
   "outputs": [],
   "source": []
  }
 ],
 "metadata": {
  "interpreter": {
   "hash": "aee8b7b246df8f9039afb4144a1f6fd8d2ca17a180786b69acc140d282b71a49"
  },
  "kernelspec": {
   "display_name": "Python 3.9.13 64-bit",
   "language": "python",
   "name": "python3"
  },
  "language_info": {
   "codemirror_mode": {
    "name": "ipython",
    "version": 3
   },
   "file_extension": ".py",
   "mimetype": "text/x-python",
   "name": "python",
   "nbconvert_exporter": "python",
   "pygments_lexer": "ipython3",
   "version": "3.9.13"
  },
  "orig_nbformat": 4
 },
 "nbformat": 4,
 "nbformat_minor": 2
}
