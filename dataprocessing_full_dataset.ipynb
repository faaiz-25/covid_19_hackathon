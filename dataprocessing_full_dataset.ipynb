{
 "cells": [
  {
   "cell_type": "markdown",
   "id": "a8b09733",
   "metadata": {},
   "source": [
    "Hackaton January 2023"
   ]
  },
  {
   "cell_type": "code",
   "execution_count": 1,
   "id": "fdf99cb7",
   "metadata": {},
   "outputs": [],
   "source": [
    "import pandas as pd"
   ]
  },
  {
   "cell_type": "code",
   "execution_count": 2,
   "id": "028cdd51",
   "metadata": {
    "scrolled": false
   },
   "outputs": [
    {
     "data": {
      "text/html": [
       "<div>\n",
       "<style scoped>\n",
       "    .dataframe tbody tr th:only-of-type {\n",
       "        vertical-align: middle;\n",
       "    }\n",
       "\n",
       "    .dataframe tbody tr th {\n",
       "        vertical-align: top;\n",
       "    }\n",
       "\n",
       "    .dataframe thead th {\n",
       "        text-align: right;\n",
       "    }\n",
       "</style>\n",
       "<table border=\"1\" class=\"dataframe\">\n",
       "  <thead>\n",
       "    <tr style=\"text-align: right;\">\n",
       "      <th></th>\n",
       "      <th>test_date</th>\n",
       "      <th>cough</th>\n",
       "      <th>fever</th>\n",
       "      <th>sore_throat</th>\n",
       "      <th>shortness_of_breath</th>\n",
       "      <th>head_ache</th>\n",
       "      <th>corona_result</th>\n",
       "      <th>age_60_and_above</th>\n",
       "      <th>gender</th>\n",
       "      <th>test_indication</th>\n",
       "    </tr>\n",
       "  </thead>\n",
       "  <tbody>\n",
       "    <tr>\n",
       "      <th>0</th>\n",
       "      <td>2022-03-03</td>\n",
       "      <td>0</td>\n",
       "      <td>0</td>\n",
       "      <td>0</td>\n",
       "      <td>0</td>\n",
       "      <td>0</td>\n",
       "      <td>חיובי</td>\n",
       "      <td>No</td>\n",
       "      <td>נקבה</td>\n",
       "      <td>Other</td>\n",
       "    </tr>\n",
       "    <tr>\n",
       "      <th>1</th>\n",
       "      <td>2022-03-03</td>\n",
       "      <td>0</td>\n",
       "      <td>0</td>\n",
       "      <td>0</td>\n",
       "      <td>0</td>\n",
       "      <td>0</td>\n",
       "      <td>חיובי</td>\n",
       "      <td>No</td>\n",
       "      <td>זכר</td>\n",
       "      <td>Other</td>\n",
       "    </tr>\n",
       "    <tr>\n",
       "      <th>2</th>\n",
       "      <td>2022-03-03</td>\n",
       "      <td>0</td>\n",
       "      <td>0</td>\n",
       "      <td>0</td>\n",
       "      <td>0</td>\n",
       "      <td>0</td>\n",
       "      <td>חיובי</td>\n",
       "      <td>No</td>\n",
       "      <td>זכר</td>\n",
       "      <td>Other</td>\n",
       "    </tr>\n",
       "    <tr>\n",
       "      <th>3</th>\n",
       "      <td>2022-03-03</td>\n",
       "      <td>0</td>\n",
       "      <td>0</td>\n",
       "      <td>0</td>\n",
       "      <td>0</td>\n",
       "      <td>0</td>\n",
       "      <td>חיובי</td>\n",
       "      <td>No</td>\n",
       "      <td>נקבה</td>\n",
       "      <td>Other</td>\n",
       "    </tr>\n",
       "    <tr>\n",
       "      <th>4</th>\n",
       "      <td>2022-03-03</td>\n",
       "      <td>0</td>\n",
       "      <td>0</td>\n",
       "      <td>0</td>\n",
       "      <td>0</td>\n",
       "      <td>0</td>\n",
       "      <td>חיובי</td>\n",
       "      <td>No</td>\n",
       "      <td>נקבה</td>\n",
       "      <td>Abroad</td>\n",
       "    </tr>\n",
       "  </tbody>\n",
       "</table>\n",
       "</div>"
      ],
      "text/plain": [
       "    test_date  cough  fever  sore_throat  shortness_of_breath  head_ache  \\\n",
       "0  2022-03-03      0      0            0                    0          0   \n",
       "1  2022-03-03      0      0            0                    0          0   \n",
       "2  2022-03-03      0      0            0                    0          0   \n",
       "3  2022-03-03      0      0            0                    0          0   \n",
       "4  2022-03-03      0      0            0                    0          0   \n",
       "\n",
       "  corona_result age_60_and_above gender test_indication  \n",
       "0         חיובי               No   נקבה           Other  \n",
       "1         חיובי               No    זכר           Other  \n",
       "2         חיובי               No    זכר           Other  \n",
       "3         חיובי               No   נקבה           Other  \n",
       "4         חיובי               No   נקבה          Abroad  "
      ]
     },
     "execution_count": 2,
     "metadata": {},
     "output_type": "execute_result"
    }
   ],
   "source": [
    "df = pd.read_csv('data/corona_tested_00229.csv', low_memory=False)\n",
    "df.head()"
   ]
  },
  {
   "cell_type": "code",
   "execution_count": 3,
   "id": "a0f88f42",
   "metadata": {
    "scrolled": false
   },
   "outputs": [],
   "source": [
    "df['corona_result_eng'] = df['corona_result'].map({'שלילי' : 'negative', 'חיובי' : 'positive', 'אחר' : 'other'})\n",
    "df['gender_eng'] = df['gender'].map({'זכר' : 'male', 'נקבה' : 'female'})"
   ]
  },
  {
   "cell_type": "code",
   "execution_count": 4,
   "id": "dc92c93a",
   "metadata": {},
   "outputs": [],
   "source": [
    "df1 = df.copy()"
   ]
  },
  {
   "cell_type": "code",
   "execution_count": 5,
   "id": "742cacaa",
   "metadata": {},
   "outputs": [],
   "source": [
    "df1['age_binary'] = df1['age_60_and_above'].map({'Yes' : 1, 'No' : 0})\n",
    "df1['gender_binary'] = df1['gender_eng'].map({'male' : 1, 'female' : 0})\n",
    "df1['contact'] = df1['test_indication'].map({'Contact with confirmed' : 1, 'Abroad' : 0, 'Other' : 0})\n",
    "df1['corona_result_binary'] = df1['corona_result_eng'].map({'positive' : 1, 'negative' : 0})"
   ]
  },
  {
   "cell_type": "code",
   "execution_count": 6,
   "id": "7caff9a0",
   "metadata": {
    "scrolled": true
   },
   "outputs": [
    {
     "data": {
      "text/plain": [
       "test_date                     0\n",
       "cough                         0\n",
       "fever                         0\n",
       "sore_throat                   0\n",
       "shortness_of_breath           0\n",
       "head_ache                     0\n",
       "corona_result                 0\n",
       "age_60_and_above        2049339\n",
       "gender                   665631\n",
       "test_indication               0\n",
       "corona_result_eng             0\n",
       "gender_eng               665631\n",
       "age_binary              2049339\n",
       "gender_binary            665631\n",
       "contact                       0\n",
       "corona_result_binary     196486\n",
       "dtype: int64"
      ]
     },
     "execution_count": 6,
     "metadata": {},
     "output_type": "execute_result"
    }
   ],
   "source": [
    "df1.isna().sum()"
   ]
  },
  {
   "cell_type": "code",
   "execution_count": 7,
   "id": "ebe4dfc7",
   "metadata": {},
   "outputs": [
    {
     "data": {
      "text/plain": [
       "negative    8021753\n",
       "positive     928930\n",
       "other        196486\n",
       "Name: corona_result_eng, dtype: int64"
      ]
     },
     "execution_count": 7,
     "metadata": {},
     "output_type": "execute_result"
    }
   ],
   "source": [
    "df1['corona_result_eng'].value_counts()"
   ]
  },
  {
   "cell_type": "code",
   "execution_count": 8,
   "id": "8cc0d431",
   "metadata": {
    "scrolled": true
   },
   "outputs": [
    {
     "data": {
      "text/plain": [
       "Index(['test_date', 'cough', 'fever', 'sore_throat', 'shortness_of_breath',\n",
       "       'head_ache', 'corona_result', 'age_60_and_above', 'gender',\n",
       "       'test_indication', 'corona_result_eng', 'gender_eng', 'age_binary',\n",
       "       'gender_binary', 'contact', 'corona_result_binary'],\n",
       "      dtype='object')"
      ]
     },
     "execution_count": 8,
     "metadata": {},
     "output_type": "execute_result"
    }
   ],
   "source": [
    "df1.columns"
   ]
  },
  {
   "cell_type": "code",
   "execution_count": 9,
   "id": "c7ec1509",
   "metadata": {
    "scrolled": true
   },
   "outputs": [
    {
     "data": {
      "text/html": [
       "<div>\n",
       "<style scoped>\n",
       "    .dataframe tbody tr th:only-of-type {\n",
       "        vertical-align: middle;\n",
       "    }\n",
       "\n",
       "    .dataframe tbody tr th {\n",
       "        vertical-align: top;\n",
       "    }\n",
       "\n",
       "    .dataframe thead th {\n",
       "        text-align: right;\n",
       "    }\n",
       "</style>\n",
       "<table border=\"1\" class=\"dataframe\">\n",
       "  <thead>\n",
       "    <tr style=\"text-align: right;\">\n",
       "      <th></th>\n",
       "      <th>test_date</th>\n",
       "      <th>cough</th>\n",
       "      <th>fever</th>\n",
       "      <th>sore_throat</th>\n",
       "      <th>shortness_of_breath</th>\n",
       "      <th>head_ache</th>\n",
       "      <th>corona_result</th>\n",
       "      <th>age_60_and_above</th>\n",
       "      <th>gender</th>\n",
       "      <th>test_indication</th>\n",
       "      <th>corona_result_eng</th>\n",
       "      <th>gender_eng</th>\n",
       "      <th>age_binary</th>\n",
       "      <th>gender_binary</th>\n",
       "      <th>contact</th>\n",
       "      <th>corona_result_binary</th>\n",
       "    </tr>\n",
       "  </thead>\n",
       "  <tbody>\n",
       "    <tr>\n",
       "      <th>9147164</th>\n",
       "      <td>2020-03-11</td>\n",
       "      <td>1</td>\n",
       "      <td>0</td>\n",
       "      <td>0</td>\n",
       "      <td>0</td>\n",
       "      <td>0</td>\n",
       "      <td>אחר</td>\n",
       "      <td>NaN</td>\n",
       "      <td>נקבה</td>\n",
       "      <td>Abroad</td>\n",
       "      <td>other</td>\n",
       "      <td>female</td>\n",
       "      <td>NaN</td>\n",
       "      <td>0.0</td>\n",
       "      <td>0</td>\n",
       "      <td>NaN</td>\n",
       "    </tr>\n",
       "    <tr>\n",
       "      <th>9147165</th>\n",
       "      <td>2020-03-11</td>\n",
       "      <td>1</td>\n",
       "      <td>0</td>\n",
       "      <td>0</td>\n",
       "      <td>0</td>\n",
       "      <td>0</td>\n",
       "      <td>שלילי</td>\n",
       "      <td>NaN</td>\n",
       "      <td>זכר</td>\n",
       "      <td>Abroad</td>\n",
       "      <td>negative</td>\n",
       "      <td>male</td>\n",
       "      <td>NaN</td>\n",
       "      <td>1.0</td>\n",
       "      <td>0</td>\n",
       "      <td>0.0</td>\n",
       "    </tr>\n",
       "    <tr>\n",
       "      <th>9147166</th>\n",
       "      <td>2020-03-11</td>\n",
       "      <td>0</td>\n",
       "      <td>0</td>\n",
       "      <td>0</td>\n",
       "      <td>0</td>\n",
       "      <td>0</td>\n",
       "      <td>שלילי</td>\n",
       "      <td>NaN</td>\n",
       "      <td>נקבה</td>\n",
       "      <td>Other</td>\n",
       "      <td>negative</td>\n",
       "      <td>female</td>\n",
       "      <td>NaN</td>\n",
       "      <td>0.0</td>\n",
       "      <td>0</td>\n",
       "      <td>0.0</td>\n",
       "    </tr>\n",
       "    <tr>\n",
       "      <th>9147167</th>\n",
       "      <td>2020-03-11</td>\n",
       "      <td>0</td>\n",
       "      <td>0</td>\n",
       "      <td>0</td>\n",
       "      <td>0</td>\n",
       "      <td>0</td>\n",
       "      <td>שלילי</td>\n",
       "      <td>NaN</td>\n",
       "      <td>נקבה</td>\n",
       "      <td>Abroad</td>\n",
       "      <td>negative</td>\n",
       "      <td>female</td>\n",
       "      <td>NaN</td>\n",
       "      <td>0.0</td>\n",
       "      <td>0</td>\n",
       "      <td>0.0</td>\n",
       "    </tr>\n",
       "    <tr>\n",
       "      <th>9147168</th>\n",
       "      <td>2020-03-11</td>\n",
       "      <td>1</td>\n",
       "      <td>0</td>\n",
       "      <td>0</td>\n",
       "      <td>0</td>\n",
       "      <td>0</td>\n",
       "      <td>שלילי</td>\n",
       "      <td>NaN</td>\n",
       "      <td>זכר</td>\n",
       "      <td>Abroad</td>\n",
       "      <td>negative</td>\n",
       "      <td>male</td>\n",
       "      <td>NaN</td>\n",
       "      <td>1.0</td>\n",
       "      <td>0</td>\n",
       "      <td>0.0</td>\n",
       "    </tr>\n",
       "  </tbody>\n",
       "</table>\n",
       "</div>"
      ],
      "text/plain": [
       "          test_date  cough  fever  sore_throat  shortness_of_breath  \\\n",
       "9147164  2020-03-11      1      0            0                    0   \n",
       "9147165  2020-03-11      1      0            0                    0   \n",
       "9147166  2020-03-11      0      0            0                    0   \n",
       "9147167  2020-03-11      0      0            0                    0   \n",
       "9147168  2020-03-11      1      0            0                    0   \n",
       "\n",
       "         head_ache corona_result age_60_and_above gender test_indication  \\\n",
       "9147164          0           אחר              NaN   נקבה          Abroad   \n",
       "9147165          0         שלילי              NaN    זכר          Abroad   \n",
       "9147166          0         שלילי              NaN   נקבה           Other   \n",
       "9147167          0         שלילי              NaN   נקבה          Abroad   \n",
       "9147168          0         שלילי              NaN    זכר          Abroad   \n",
       "\n",
       "        corona_result_eng gender_eng  age_binary  gender_binary  contact  \\\n",
       "9147164             other     female         NaN            0.0        0   \n",
       "9147165          negative       male         NaN            1.0        0   \n",
       "9147166          negative     female         NaN            0.0        0   \n",
       "9147167          negative     female         NaN            0.0        0   \n",
       "9147168          negative       male         NaN            1.0        0   \n",
       "\n",
       "         corona_result_binary  \n",
       "9147164                   NaN  \n",
       "9147165                   0.0  \n",
       "9147166                   0.0  \n",
       "9147167                   0.0  \n",
       "9147168                   0.0  "
      ]
     },
     "execution_count": 9,
     "metadata": {},
     "output_type": "execute_result"
    }
   ],
   "source": [
    "df1.tail()"
   ]
  },
  {
   "cell_type": "code",
   "execution_count": 10,
   "id": "207a6646",
   "metadata": {},
   "outputs": [],
   "source": [
    "to_drop = ['corona_result', 'age_60_and_above', 'gender', 'test_indication', 'corona_result_eng', 'gender_eng']\n",
    "clean_df = df1.drop(to_drop, axis=1)\n",
    "clean_df.dropna(inplace=True)"
   ]
  },
  {
   "cell_type": "code",
   "execution_count": 11,
   "id": "56ed4e41",
   "metadata": {
    "scrolled": true
   },
   "outputs": [],
   "source": [
    "clean_df['test_date'] = pd.to_datetime(clean_df['test_date'], yearfirst=True)"
   ]
  },
  {
   "cell_type": "code",
   "execution_count": 12,
   "id": "68216e22",
   "metadata": {
    "scrolled": true
   },
   "outputs": [
    {
     "data": {
      "text/html": [
       "<div>\n",
       "<style scoped>\n",
       "    .dataframe tbody tr th:only-of-type {\n",
       "        vertical-align: middle;\n",
       "    }\n",
       "\n",
       "    .dataframe tbody tr th {\n",
       "        vertical-align: top;\n",
       "    }\n",
       "\n",
       "    .dataframe thead th {\n",
       "        text-align: right;\n",
       "    }\n",
       "</style>\n",
       "<table border=\"1\" class=\"dataframe\">\n",
       "  <thead>\n",
       "    <tr style=\"text-align: right;\">\n",
       "      <th></th>\n",
       "      <th>test_date</th>\n",
       "      <th>cough</th>\n",
       "      <th>fever</th>\n",
       "      <th>sore_throat</th>\n",
       "      <th>shortness_of_breath</th>\n",
       "      <th>head_ache</th>\n",
       "      <th>age_binary</th>\n",
       "      <th>gender_binary</th>\n",
       "      <th>contact</th>\n",
       "      <th>corona_result_binary</th>\n",
       "    </tr>\n",
       "  </thead>\n",
       "  <tbody>\n",
       "    <tr>\n",
       "      <th>0</th>\n",
       "      <td>2022-03-03</td>\n",
       "      <td>0</td>\n",
       "      <td>0</td>\n",
       "      <td>0</td>\n",
       "      <td>0</td>\n",
       "      <td>0</td>\n",
       "      <td>0.0</td>\n",
       "      <td>0.0</td>\n",
       "      <td>0</td>\n",
       "      <td>1.0</td>\n",
       "    </tr>\n",
       "    <tr>\n",
       "      <th>1</th>\n",
       "      <td>2022-03-03</td>\n",
       "      <td>0</td>\n",
       "      <td>0</td>\n",
       "      <td>0</td>\n",
       "      <td>0</td>\n",
       "      <td>0</td>\n",
       "      <td>0.0</td>\n",
       "      <td>1.0</td>\n",
       "      <td>0</td>\n",
       "      <td>1.0</td>\n",
       "    </tr>\n",
       "    <tr>\n",
       "      <th>2</th>\n",
       "      <td>2022-03-03</td>\n",
       "      <td>0</td>\n",
       "      <td>0</td>\n",
       "      <td>0</td>\n",
       "      <td>0</td>\n",
       "      <td>0</td>\n",
       "      <td>0.0</td>\n",
       "      <td>1.0</td>\n",
       "      <td>0</td>\n",
       "      <td>1.0</td>\n",
       "    </tr>\n",
       "    <tr>\n",
       "      <th>3</th>\n",
       "      <td>2022-03-03</td>\n",
       "      <td>0</td>\n",
       "      <td>0</td>\n",
       "      <td>0</td>\n",
       "      <td>0</td>\n",
       "      <td>0</td>\n",
       "      <td>0.0</td>\n",
       "      <td>0.0</td>\n",
       "      <td>0</td>\n",
       "      <td>1.0</td>\n",
       "    </tr>\n",
       "    <tr>\n",
       "      <th>4</th>\n",
       "      <td>2022-03-03</td>\n",
       "      <td>0</td>\n",
       "      <td>0</td>\n",
       "      <td>0</td>\n",
       "      <td>0</td>\n",
       "      <td>0</td>\n",
       "      <td>0.0</td>\n",
       "      <td>0.0</td>\n",
       "      <td>0</td>\n",
       "      <td>1.0</td>\n",
       "    </tr>\n",
       "  </tbody>\n",
       "</table>\n",
       "</div>"
      ],
      "text/plain": [
       "   test_date  cough  fever  sore_throat  shortness_of_breath  head_ache  \\\n",
       "0 2022-03-03      0      0            0                    0          0   \n",
       "1 2022-03-03      0      0            0                    0          0   \n",
       "2 2022-03-03      0      0            0                    0          0   \n",
       "3 2022-03-03      0      0            0                    0          0   \n",
       "4 2022-03-03      0      0            0                    0          0   \n",
       "\n",
       "   age_binary  gender_binary  contact  corona_result_binary  \n",
       "0         0.0            0.0        0                   1.0  \n",
       "1         0.0            1.0        0                   1.0  \n",
       "2         0.0            1.0        0                   1.0  \n",
       "3         0.0            0.0        0                   1.0  \n",
       "4         0.0            0.0        0                   1.0  "
      ]
     },
     "execution_count": 12,
     "metadata": {},
     "output_type": "execute_result"
    }
   ],
   "source": [
    "clean_df.head()"
   ]
  },
  {
   "cell_type": "code",
   "execution_count": 13,
   "id": "93df1448",
   "metadata": {
    "scrolled": true
   },
   "outputs": [],
   "source": [
    "march_apr_2020 = (clean_df['test_date'] >= '2020-03-22') & (clean_df['test_date'] <= '2020-04-07')\n",
    "sept_oct_2020 = (clean_df['test_date'] >= '2020-09-05') & (clean_df['test_date'] <= '2020-10-02')\n",
    "dec_20_jan_21 = (clean_df['test_date'] >= '2020-12-24') & (clean_df['test_date'] <= '2021-01-20')\n",
    "aug_sept_2021 = (clean_df['test_date'] >= '2021-08-08') & (clean_df['test_date'] <= '2021-09-04')\n",
    "jan_feb_2022 = (clean_df['test_date'] >= '2022-01-05') & (clean_df['test_date'] <= '2022-02-01')\n",
    "feb_march_2022 = (clean_df['test_date'] >= '2022-02-01')"
   ]
  },
  {
   "cell_type": "code",
   "execution_count": 15,
   "id": "27b313ae",
   "metadata": {},
   "outputs": [],
   "source": [
    "first_wave_df = clean_df.loc[march_apr_2020]\n",
    "second_wave_df = clean_df.loc[sept_oct_2020]\n",
    "third_wave_alpha = clean_df.loc[dec_20_jan_21]\n",
    "fourth_wave_delta = clean_df.loc[aug_sept_2021]\n",
    "fifth_wave_omicron = clean_df.loc[jan_feb_2022]\n",
    "df_last_data = clean_df.loc[feb_march_2022]"
   ]
  },
  {
   "cell_type": "code",
   "execution_count": 21,
   "id": "99d2f46b",
   "metadata": {},
   "outputs": [],
   "source": [
    "first_wave_df.to_csv('first_wave_processed.csv')\n",
    "second_wave_df.to_csv('second_wave_processed.csv')\n",
    "third_wave_alpha.to_csv('third_wave_alpha_processed.csv')\n",
    "fourth_wave_delta.to_csv('fourth_wave_delta_processed.csv')\n",
    "fifth_wave_omicron.to_csv('fifth_wave_omicron_processed.csv')"
   ]
  },
  {
   "cell_type": "code",
   "execution_count": null,
   "id": "b192af8d",
   "metadata": {},
   "outputs": [],
   "source": []
  }
 ],
 "metadata": {
  "kernelspec": {
   "display_name": "Python 3 (ipykernel)",
   "language": "python",
   "name": "python3"
  },
  "language_info": {
   "codemirror_mode": {
    "name": "ipython",
    "version": 3
   },
   "file_extension": ".py",
   "mimetype": "text/x-python",
   "name": "python",
   "nbconvert_exporter": "python",
   "pygments_lexer": "ipython3",
   "version": "3.9.7"
  }
 },
 "nbformat": 4,
 "nbformat_minor": 5
}
