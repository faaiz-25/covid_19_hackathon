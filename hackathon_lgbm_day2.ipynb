{
 "cells": [
  {
   "cell_type": "markdown",
   "id": "d2b50812",
   "metadata": {},
   "source": [
    "# Hackathon - January 2023\n",
    "\n"
   ]
  },
  {
   "cell_type": "code",
   "execution_count": 1,
   "id": "208f9427",
   "metadata": {},
   "outputs": [],
   "source": [
    "import pandas as pd\n",
    "import numpy as np\n",
    "import seaborn as sns"
   ]
  },
  {
   "cell_type": "code",
   "execution_count": 2,
   "id": "261fb975",
   "metadata": {},
   "outputs": [
    {
     "name": "stderr",
     "output_type": "stream",
     "text": [
      "/home/readic/anaconda3/lib/python3.9/site-packages/IPython/core/interactiveshell.py:3444: DtypeWarning: Columns (1,2,3,4,5) have mixed types.Specify dtype option on import or set low_memory=False.\n",
      "  exec(code_obj, self.user_global_ns, self.user_ns)\n",
      "/home/readic/anaconda3/lib/python3.9/site-packages/IPython/core/interactiveshell.py:3444: DtypeWarning: Columns (7) have mixed types.Specify dtype option on import or set low_memory=False.\n",
      "  exec(code_obj, self.user_global_ns, self.user_ns)\n"
     ]
    }
   ],
   "source": [
    "data1 = pd.read_csv(\"Downloads/corona_tested_individuals_ver_006.english.csv\")\n",
    "data2 = pd.read_csv(\"Downloads/corona_tested_individuals_ver_0083.english.csv/corona_tested_individuals_ver_0083.english.csv\")"
   ]
  },
  {
   "cell_type": "markdown",
   "id": "faec3c76",
   "metadata": {},
   "source": [
    "#### Part 1 - Attempt to set up a LGBM model using the original paper's criteria, to replicate a baseline model\n",
    "\n",
    "First step for the questions posed is to recreate as closely as possible the LGBM model \n",
    "\n",
    "###### Section 1 - recreate the sample dataset used by the paper"
   ]
  },
  {
   "cell_type": "code",
   "execution_count": 3,
   "id": "a6c32825",
   "metadata": {},
   "outputs": [
    {
     "data": {
      "text/plain": [
       "<bound method DataFrame.info of          test_date cough fever sore_throat shortness_of_breath head_ache  \\\n",
       "0       2020-04-30     0     0           0                   0         0   \n",
       "1       2020-04-30     1     0           0                   0         0   \n",
       "2       2020-04-30     0     1           0                   0         0   \n",
       "3       2020-04-30     1     0           0                   0         0   \n",
       "4       2020-04-30     1     0           0                   0         0   \n",
       "...            ...   ...   ...         ...                 ...       ...   \n",
       "278843  2020-03-11     0     0           0                   0         0   \n",
       "278844  2020-03-11     0     0           0                   0         0   \n",
       "278845  2020-03-11     0     0           0                   0         0   \n",
       "278846  2020-03-11     0     0           0                   0         0   \n",
       "278847  2020-03-11     0     0           0                   0         0   \n",
       "\n",
       "       corona_result age_60_and_above  gender         test_indication  \n",
       "0           negative             None  female                   Other  \n",
       "1           negative             None  female                   Other  \n",
       "2           negative             None    male                   Other  \n",
       "3           negative             None  female                   Other  \n",
       "4           negative             None    male                   Other  \n",
       "...              ...              ...     ...                     ...  \n",
       "278843      negative             None    None                   Other  \n",
       "278844      negative             None    None                   Other  \n",
       "278845      positive             None    None  Contact with confirmed  \n",
       "278846         other             None    None                   Other  \n",
       "278847      negative             None    None                   Other  \n",
       "\n",
       "[278848 rows x 10 columns]>"
      ]
     },
     "execution_count": 3,
     "metadata": {},
     "output_type": "execute_result"
    }
   ],
   "source": [
    "data1.info"
   ]
  },
  {
   "cell_type": "code",
   "execution_count": 4,
   "id": "e6bc9ea6",
   "metadata": {},
   "outputs": [
    {
     "data": {
      "text/plain": [
       "test_date              0\n",
       "cough                  0\n",
       "fever                  0\n",
       "sore_throat            0\n",
       "shortness_of_breath    0\n",
       "head_ache              0\n",
       "corona_result          0\n",
       "age_60_and_above       0\n",
       "gender                 0\n",
       "test_indication        0\n",
       "dtype: int64"
      ]
     },
     "execution_count": 4,
     "metadata": {},
     "output_type": "execute_result"
    }
   ],
   "source": [
    "## Check for any missing values\n",
    "data1.isna().sum()"
   ]
  },
  {
   "cell_type": "code",
   "execution_count": 5,
   "id": "77dc0770",
   "metadata": {},
   "outputs": [
    {
     "name": "stdout",
     "output_type": "stream",
     "text": [
      "(259285, 10)\n",
      "(255911, 10)\n"
     ]
    }
   ],
   "source": [
    "data1_removeNoGender = data1.copy().query('gender != \"None\"')\n",
    "print(data1_removeNoGender.shape)\n",
    "\n",
    "data1_removeNoGenderOtherResult = data1_removeNoGender.copy().query('corona_result != \"other\"')\n",
    "print(data1_removeNoGenderOtherResult.shape)"
   ]
  },
  {
   "cell_type": "code",
   "execution_count": 6,
   "id": "78df30d6",
   "metadata": {},
   "outputs": [],
   "source": [
    "data1_originalPeriod = data1_removeNoGenderOtherResult.copy()\n",
    "data1_originalPeriod = data1_originalPeriod[data1_originalPeriod['test_date'].isin(['2020-04-07',\n",
    "       '2020-04-06', '2020-04-05', '2020-04-04', '2020-04-03',\n",
    "       '2020-04-02', '2020-04-01', '2020-03-31', '2020-03-30',\n",
    "       '2020-03-29', '2020-03-28', '2020-03-27', '2020-03-26',\n",
    "       '2020-03-25', '2020-03-24', '2020-03-23', '2020-03-22'])]"
   ]
  },
  {
   "cell_type": "code",
   "execution_count": 7,
   "id": "e73d76f1",
   "metadata": {},
   "outputs": [],
   "source": [
    "data1_originalPeriod_tidy = data1_originalPeriod.copy()\n",
    "data1_originalPeriod_tidy['test_indication'] = data1_originalPeriod_tidy['test_indication'].map({'Contact with confirmed': 1, 'Other': 0, 'Abroad': 0})\n",
    "data1_originalPeriod_tidy['age_60_and_above'] = data1_originalPeriod_tidy['age_60_and_above'].map({'Yes': 1, 'No': 0})\n",
    "data1_originalPeriod_tidy['gender'] = data1_originalPeriod_tidy['gender'].map({'male': 1, 'female': 0})\n",
    "data1_originalPeriod_tidy['corona_result'] = data1_originalPeriod_tidy['corona_result'].map({'positive': 1, 'negative': 0})\n",
    "\n",
    "data1_removeNoGenderOtherResultMissingSymptoms = data1_originalPeriod_tidy.copy().query('cough != \"None\"')\n",
    "data1_removeNoGenderOtherResultMissingSymptoms = data1_removeNoGenderOtherResultMissingSymptoms.copy().query('fever != \"None\"')\n",
    "data1_removeNoGenderOtherResultMissingSymptoms = data1_removeNoGenderOtherResultMissingSymptoms.copy().query('sore_throat != \"None\"')\n",
    "data1_removeNoGenderOtherResultMissingSymptoms = data1_removeNoGenderOtherResultMissingSymptoms.copy().query('shortness_of_breath != \"None\"')\n",
    "data1_removeNoGenderOtherResultMissingSymptoms = data1_removeNoGenderOtherResultMissingSymptoms.copy().query('head_ache != \"None\"')\n"
   ]
  },
  {
   "cell_type": "code",
   "execution_count": 8,
   "id": "e23c9452",
   "metadata": {},
   "outputs": [
    {
     "name": "stdout",
     "output_type": "stream",
     "text": [
      "test_date              object\n",
      "cough                  object\n",
      "fever                  object\n",
      "sore_throat            object\n",
      "shortness_of_breath    object\n",
      "head_ache              object\n",
      "corona_result           int64\n",
      "age_60_and_above        int64\n",
      "gender                  int64\n",
      "test_indication         int64\n",
      "dtype: object\n",
      "test_date              object\n",
      "cough                   int64\n",
      "fever                   int64\n",
      "sore_throat             int64\n",
      "shortness_of_breath     int64\n",
      "head_ache               int64\n",
      "corona_result           int64\n",
      "age_60_and_above        int64\n",
      "gender                  int64\n",
      "test_indication         int64\n",
      "dtype: object\n"
     ]
    }
   ],
   "source": [
    "print(data1_removeNoGenderOtherResultMissingSymptoms.dtypes)\n",
    "\n",
    "data1_removeNoGenderOtherResultMissingSymptoms['cough'] = data1_removeNoGenderOtherResultMissingSymptoms['cough'].astype(int)\n",
    "data1_removeNoGenderOtherResultMissingSymptoms['fever'] = data1_removeNoGenderOtherResultMissingSymptoms['fever'].astype(int)\n",
    "data1_removeNoGenderOtherResultMissingSymptoms['sore_throat'] = data1_removeNoGenderOtherResultMissingSymptoms['sore_throat'].astype(int)\n",
    "data1_removeNoGenderOtherResultMissingSymptoms['shortness_of_breath'] = data1_removeNoGenderOtherResultMissingSymptoms['shortness_of_breath'].astype(int)\n",
    "data1_removeNoGenderOtherResultMissingSymptoms['head_ache'] = data1_removeNoGenderOtherResultMissingSymptoms['head_ache'].astype(int)\n",
    "data1_removeNoGenderOtherResultMissingSymptoms['gender'] = data1_removeNoGenderOtherResultMissingSymptoms['gender'].astype(int)\n",
    "\n",
    "print(data1_removeNoGenderOtherResultMissingSymptoms.dtypes)"
   ]
  },
  {
   "cell_type": "code",
   "execution_count": 9,
   "id": "35f18452",
   "metadata": {},
   "outputs": [
    {
     "data": {
      "text/plain": [
       "<bound method DataFrame.info of         cough  fever  sore_throat  shortness_of_breath  head_ache  \\\n",
       "162404      0      0            0                    0          0   \n",
       "162405      0      0            0                    0          0   \n",
       "162406      0      0            0                    0          0   \n",
       "162407      0      0            0                    0          0   \n",
       "162408      0      0            0                    0          0   \n",
       "...       ...    ...          ...                  ...        ...   \n",
       "265116      1      1            0                    0          0   \n",
       "265117      1      1            1                    0          1   \n",
       "265118      1      0            0                    0          0   \n",
       "265119      1      0            0                    0          0   \n",
       "265120      1      0            0                    0          0   \n",
       "\n",
       "        corona_result  age_60_and_above  gender  test_indication  \n",
       "162404              0                 0       1                0  \n",
       "162405              0                 1       0                0  \n",
       "162406              0                 1       1                0  \n",
       "162407              0                 0       1                0  \n",
       "162408              0                 0       0                0  \n",
       "...               ...               ...     ...              ...  \n",
       "265116              0                 1       0                0  \n",
       "265117              0                 0       0                0  \n",
       "265118              0                 0       0                0  \n",
       "265119              0                 0       1                0  \n",
       "265120              0                 0       1                0  \n",
       "\n",
       "[98989 rows x 9 columns]>"
      ]
     },
     "execution_count": 9,
     "metadata": {},
     "output_type": "execute_result"
    }
   ],
   "source": [
    "odt = data1_removeNoGenderOtherResultMissingSymptoms.copy().drop(['test_date'],axis = 1)\n",
    "odt.info"
   ]
  },
  {
   "cell_type": "code",
   "execution_count": 10,
   "id": "5affdc8c",
   "metadata": {},
   "outputs": [
    {
     "data": {
      "text/plain": [
       "cough                  0\n",
       "fever                  0\n",
       "sore_throat            0\n",
       "shortness_of_breath    0\n",
       "head_ache              0\n",
       "corona_result          0\n",
       "age_60_and_above       0\n",
       "gender                 0\n",
       "test_indication        0\n",
       "dtype: int64"
      ]
     },
     "execution_count": 10,
     "metadata": {},
     "output_type": "execute_result"
    }
   ],
   "source": [
    "odt.isna().sum()"
   ]
  },
  {
   "cell_type": "code",
   "execution_count": null,
   "id": "52806343",
   "metadata": {},
   "outputs": [],
   "source": []
  },
  {
   "cell_type": "markdown",
   "id": "148f84e0",
   "metadata": {},
   "source": [
    "###### Section 2 - recreate the light GBM model"
   ]
  },
  {
   "cell_type": "code",
   "execution_count": 11,
   "id": "05b93a76",
   "metadata": {},
   "outputs": [],
   "source": [
    "import lightgbm as ltb"
   ]
  },
  {
   "cell_type": "code",
   "execution_count": 12,
   "id": "4b3dfce9",
   "metadata": {},
   "outputs": [],
   "source": [
    "## Create test/train splits - original paper used 4:1 ratio so 20% test set\n",
    "from sklearn.model_selection import train_test_split\n",
    "\n",
    "X = odt.copy().drop(['corona_result'],axis = 1)\n",
    "y = odt.copy()['corona_result']\n",
    "\n",
    "X_train, X_test, y_train, y_test = train_test_split(X, y, test_size = 0.2,random_state = 2022, stratify = y)\n"
   ]
  },
  {
   "cell_type": "code",
   "execution_count": 13,
   "id": "d9858ded",
   "metadata": {},
   "outputs": [],
   "source": [
    "originalModel = ltb.LGBMClassifier(\n",
    "    num_leaves = 20\n",
    "    ,min_data_in_leaf = 4\n",
    "    ,feature_fraction =  0.2\n",
    "    ,bagging_fraction =  0.8\n",
    "    ,bagging_freq =  5\n",
    "    ,learning_rate = 0.05\n",
    "    ,verbose = 1\n",
    "    #,num_boost_round=603\n",
    "    #,early_stopping_rounds=0\n",
    "    ,random_state = 2020\n",
    ")"
   ]
  },
  {
   "cell_type": "code",
   "execution_count": 14,
   "id": "a7d59e1a",
   "metadata": {},
   "outputs": [
    {
     "name": "stdout",
     "output_type": "stream",
     "text": [
      "[LightGBM] [Warning] bagging_fraction is set=0.8, subsample=1.0 will be ignored. Current value: bagging_fraction=0.8\n",
      "[LightGBM] [Warning] feature_fraction is set=0.2, colsample_bytree=1.0 will be ignored. Current value: feature_fraction=0.2\n",
      "[LightGBM] [Warning] min_data_in_leaf is set=4, min_child_samples=20 will be ignored. Current value: min_data_in_leaf=4\n",
      "[LightGBM] [Warning] bagging_freq is set=5, subsample_freq=0 will be ignored. Current value: bagging_freq=5\n",
      "[LightGBM] [Warning] bagging_fraction is set=0.8, subsample=1.0 will be ignored. Current value: bagging_fraction=0.8\n",
      "[LightGBM] [Warning] feature_fraction is set=0.2, colsample_bytree=1.0 will be ignored. Current value: feature_fraction=0.2\n",
      "[LightGBM] [Warning] min_data_in_leaf is set=4, min_child_samples=20 will be ignored. Current value: min_data_in_leaf=4\n",
      "[LightGBM] [Warning] bagging_freq is set=5, subsample_freq=0 will be ignored. Current value: bagging_freq=5\n",
      "[LightGBM] [Info] Number of positive: 6692, number of negative: 72499\n",
      "[LightGBM] [Warning] Auto-choosing row-wise multi-threading, the overhead of testing was 0.003620 seconds.\n",
      "You can set `force_row_wise=true` to remove the overhead.\n",
      "And if memory is not enough, you can set `force_col_wise=true`.\n",
      "[LightGBM] [Info] Total Bins 16\n",
      "[LightGBM] [Info] Number of data points in the train set: 79191, number of used features: 8\n",
      "[LightGBM] [Warning] bagging_fraction is set=0.8, subsample=1.0 will be ignored. Current value: bagging_fraction=0.8\n",
      "[LightGBM] [Warning] feature_fraction is set=0.2, colsample_bytree=1.0 will be ignored. Current value: feature_fraction=0.2\n",
      "[LightGBM] [Warning] min_data_in_leaf is set=4, min_child_samples=20 will be ignored. Current value: min_data_in_leaf=4\n",
      "[LightGBM] [Warning] bagging_freq is set=5, subsample_freq=0 will be ignored. Current value: bagging_freq=5\n",
      "[LightGBM] [Info] [binary:BoostFromScore]: pavg=0.084505 -> initscore=-2.382660\n",
      "[LightGBM] [Info] Start training from score -2.382660\n",
      "[LightGBM] [Warning] No further splits with positive gain, best gain: -inf\n",
      "[1]\tvalid_0's auc: 0.645448\tvalid_0's binary_logloss: 0.279551\n",
      "[LightGBM] [Warning] No further splits with positive gain, best gain: -inf\n",
      "[2]\tvalid_0's auc: 0.757569\tvalid_0's binary_logloss: 0.275805\n",
      "[LightGBM] [Warning] No further splits with positive gain, best gain: -inf\n",
      "[3]\tvalid_0's auc: 0.792337\tvalid_0's binary_logloss: 0.268857\n",
      "[LightGBM] [Warning] No further splits with positive gain, best gain: -inf\n",
      "[4]\tvalid_0's auc: 0.836972\tvalid_0's binary_logloss: 0.260156\n",
      "[LightGBM] [Warning] No further splits with positive gain, best gain: -inf\n",
      "[5]\tvalid_0's auc: 0.83567\tvalid_0's binary_logloss: 0.255141\n",
      "[LightGBM] [Warning] No further splits with positive gain, best gain: -inf\n",
      "[6]\tvalid_0's auc: 0.835925\tvalid_0's binary_logloss: 0.249675\n",
      "[LightGBM] [Warning] No further splits with positive gain, best gain: -inf\n",
      "[7]\tvalid_0's auc: 0.837814\tvalid_0's binary_logloss: 0.246291\n",
      "[LightGBM] [Warning] No further splits with positive gain, best gain: -inf\n",
      "[8]\tvalid_0's auc: 0.837855\tvalid_0's binary_logloss: 0.243557\n",
      "[LightGBM] [Warning] No further splits with positive gain, best gain: -inf\n",
      "[9]\tvalid_0's auc: 0.838246\tvalid_0's binary_logloss: 0.243456\n",
      "[LightGBM] [Warning] No further splits with positive gain, best gain: -inf\n",
      "[10]\tvalid_0's auc: 0.836994\tvalid_0's binary_logloss: 0.240527\n",
      "[LightGBM] [Warning] No further splits with positive gain, best gain: -inf\n",
      "[11]\tvalid_0's auc: 0.837015\tvalid_0's binary_logloss: 0.239168\n",
      "[LightGBM] [Warning] No further splits with positive gain, best gain: -inf\n",
      "[12]\tvalid_0's auc: 0.836571\tvalid_0's binary_logloss: 0.236088\n",
      "[LightGBM] [Warning] No further splits with positive gain, best gain: -inf\n",
      "[13]\tvalid_0's auc: 0.836544\tvalid_0's binary_logloss: 0.236003\n",
      "[LightGBM] [Warning] No further splits with positive gain, best gain: -inf\n",
      "[14]\tvalid_0's auc: 0.836451\tvalid_0's binary_logloss: 0.233896\n"
     ]
    },
    {
     "name": "stderr",
     "output_type": "stream",
     "text": [
      "/home/readic/anaconda3/lib/python3.9/site-packages/lightgbm/sklearn.py:726: UserWarning: 'early_stopping_rounds' argument is deprecated and will be removed in a future release of LightGBM. Pass 'early_stopping()' callback via 'callbacks' argument instead.\n",
      "  _log_warning(\"'early_stopping_rounds' argument is deprecated and will be removed in a future release of LightGBM. \"\n"
     ]
    },
    {
     "data": {
      "text/plain": [
       "LGBMClassifier(bagging_fraction=0.8, bagging_freq=5, feature_fraction=0.2,\n",
       "               learning_rate=0.05, min_data_in_leaf=4, num_leaves=20,\n",
       "               random_state=2020, verbose=1)"
      ]
     },
     "execution_count": 14,
     "metadata": {},
     "output_type": "execute_result"
    }
   ],
   "source": [
    "originalModel.fit(X_train, y_train, eval_metric = 'auc',eval_set = [(X_test, y_test)],early_stopping_rounds = 5)\n",
    "#originalModel.fit(X_train, y_train)"
   ]
  },
  {
   "cell_type": "code",
   "execution_count": 15,
   "id": "e03c0a45",
   "metadata": {},
   "outputs": [],
   "source": [
    "y_preds = originalModel.predict(X_test)"
   ]
  },
  {
   "cell_type": "code",
   "execution_count": 16,
   "id": "9e153588",
   "metadata": {},
   "outputs": [
    {
     "name": "stdout",
     "output_type": "stream",
     "text": [
      "0.5\n"
     ]
    }
   ],
   "source": [
    "from sklearn.metrics import roc_auc_score\n",
    "\n",
    "rocAucScore2020 = roc_auc_score(y_test,y_preds)\n",
    "print(rocAucScore2020)"
   ]
  },
  {
   "cell_type": "code",
   "execution_count": 17,
   "id": "360fa957",
   "metadata": {},
   "outputs": [],
   "source": [
    "## Rather than attempting to reverse engineer the model, load the model from text files available on the github!\n",
    "\n",
    "loadModel1 = ltb.Booster(model_file = \"Downloads/paperModel1.txt\")\n",
    "loadModel2 = ltb.Booster(model_file = \"Downloads/paperModel2.txt\")"
   ]
  },
  {
   "cell_type": "code",
   "execution_count": 18,
   "id": "b8787c99",
   "metadata": {},
   "outputs": [
    {
     "name": "stdout",
     "output_type": "stream",
     "text": [
      "<lightgbm.basic.Booster object at 0x7f772b450370>\n",
      "<lightgbm.basic.Booster object at 0x7f77322860d0>\n"
     ]
    }
   ],
   "source": [
    "print(loadModel1)\n",
    "print(loadModel2)"
   ]
  },
  {
   "cell_type": "code",
   "execution_count": 19,
   "id": "018e9028",
   "metadata": {},
   "outputs": [],
   "source": [
    "y_preds_lm1 = loadModel1.predict(X_test)\n",
    "y_preds_lm2 = loadModel2.predict(X_test[['cough','fever','test_indication','gender','age_60_and_above']])"
   ]
  },
  {
   "cell_type": "code",
   "execution_count": 20,
   "id": "83e861e8",
   "metadata": {},
   "outputs": [
    {
     "name": "stdout",
     "output_type": "stream",
     "text": [
      "Model 1 roc_auc score:\n",
      "0.9218068553290598\n",
      "Model 2 roc_auc score:\n",
      "0.778974528515778\n"
     ]
    }
   ],
   "source": [
    "print(\"Model 1 roc_auc score:\")\n",
    "print(roc_auc_score(y_test,y_preds_lm1))\n",
    "\n",
    "print(\"Model 2 roc_auc score:\")\n",
    "print(roc_auc_score(y_test,y_preds_lm2))"
   ]
  },
  {
   "cell_type": "markdown",
   "id": "c4b52a0f",
   "metadata": {},
   "source": [
    "## Part 2 - apply the model to different periods "
   ]
  },
  {
   "cell_type": "code",
   "execution_count": 21,
   "id": "64e7cec6",
   "metadata": {},
   "outputs": [],
   "source": [
    "# Part 1 - need to take the data preparation steps explored above and create a function to apply to other datasets\n",
    "\n",
    "def prepareData(X):\n",
    "    X = X.dropna()\n",
    "    X = X.copy().query('gender != \"None\"')\n",
    "    X = X.query('corona_result != \"other\"')\n",
    "    X = X.query('corona_result != \"Other\"')\n",
    "    X['test_indication'] = X['test_indication'].map({'Contact with confirmed': 1, 'Other': 0, 'Abroad': 0})\n",
    "    X['age_60_and_above'] = X['age_60_and_above'].map({'Yes': 1, 'No': 0})\n",
    "    X['gender'] = X['gender'].map({'male': 1, 'female': 0})\n",
    "    X['corona_result'] = X['corona_result'].map({'positive': 1, 'negative': 0})\n",
    "    X = X.copy().query('cough != \"None\"')\n",
    "    X = X.copy().query('fever != \"None\"')\n",
    "    X = X.copy().query('sore_throat != \"None\"')\n",
    "    X = X.copy().query('shortness_of_breath != \"None\"')\n",
    "    X = X.copy().query('head_ache != \"None\"')\n",
    "    X['cough'] = X['cough'].astype(int)\n",
    "    X['fever'] = X['fever'].astype(int)\n",
    "    X['sore_throat'] = X['sore_throat'].astype(int)\n",
    "    X['shortness_of_breath'] = X['shortness_of_breath'].astype(int)\n",
    "    X['head_ache'] = X['head_ache'].astype(int)\n",
    "    X['gender'] = X['gender'].astype(int)\n",
    "    X = X.drop(['test_date'],axis = 1)\n",
    "    return X"
   ]
  },
  {
   "cell_type": "code",
   "execution_count": 22,
   "id": "5fce0c72",
   "metadata": {},
   "outputs": [
    {
     "name": "stderr",
     "output_type": "stream",
     "text": [
      "/home/readic/anaconda3/lib/python3.9/site-packages/numpy/lib/arraysetops.py:583: FutureWarning: elementwise comparison failed; returning scalar instead, but in the future will perform elementwise comparison\n",
      "  mask |= (ar1 == a)\n"
     ]
    }
   ],
   "source": [
    "period2 = prepareData(data2)"
   ]
  },
  {
   "cell_type": "code",
   "execution_count": 23,
   "id": "1d250982",
   "metadata": {},
   "outputs": [
    {
     "data": {
      "text/plain": [
       "cough                  0\n",
       "fever                  0\n",
       "sore_throat            0\n",
       "shortness_of_breath    0\n",
       "head_ache              0\n",
       "corona_result          0\n",
       "age_60_and_above       0\n",
       "gender                 0\n",
       "test_indication        0\n",
       "dtype: int64"
      ]
     },
     "execution_count": 23,
     "metadata": {},
     "output_type": "execute_result"
    }
   ],
   "source": [
    "period2.isna().sum()"
   ]
  },
  {
   "cell_type": "code",
   "execution_count": 24,
   "id": "f268f019",
   "metadata": {},
   "outputs": [
    {
     "name": "stdout",
     "output_type": "stream",
     "text": [
      "(2151898, 8)\n",
      "(2151898,)\n"
     ]
    }
   ],
   "source": [
    "X_p2 = period2.copy().drop(['corona_result'],axis = 1)\n",
    "y_p2 = period2.copy()['corona_result']\n",
    "print(X_p2.shape)\n",
    "print(y_p2.shape)"
   ]
  },
  {
   "cell_type": "code",
   "execution_count": 25,
   "id": "2518bfcd",
   "metadata": {},
   "outputs": [
    {
     "name": "stdout",
     "output_type": "stream",
     "text": [
      "Model 1 late 2020 roc_auc score:\n",
      "0.8126525522716164\n",
      "Model 2 late 2020 roc_auc score:\n",
      "0.6790117994089835\n"
     ]
    }
   ],
   "source": [
    "# Make predictions using 2022 Autumn-Winter data\n",
    "\n",
    "y_pred_p2 = loadModel1.predict(X_p2)\n",
    "print(\"Model 1 late 2020 roc_auc score:\")\n",
    "print(roc_auc_score(y_p2,y_pred_p2))\n",
    "\n",
    "y_preds_p2_lm2 = loadModel2.predict(X_p2[['cough','fever','test_indication','gender','age_60_and_above']])\n",
    "print(\"Model 2 late 2020 roc_auc score:\")\n",
    "print(roc_auc_score(y_p2,y_preds_p2_lm2))"
   ]
  },
  {
   "cell_type": "code",
   "execution_count": 26,
   "id": "7f750bb0",
   "metadata": {},
   "outputs": [],
   "source": [
    "loadModel1_retrain = loadModel1\n",
    "loadModel2_retrain = loadModel2"
   ]
  },
  {
   "cell_type": "code",
   "execution_count": 27,
   "id": "d22c0b57",
   "metadata": {},
   "outputs": [],
   "source": [
    "## Retrain model to period 2 dataset\n",
    "X_train_p2, X_test_p2, y_train_p2, y_test_p2 = train_test_split(X_p2, y_p2, test_size = 0.2,random_state = 2022, stratify = y_p2)\n"
   ]
  },
  {
   "cell_type": "code",
   "execution_count": 28,
   "id": "4a4575c5",
   "metadata": {},
   "outputs": [
    {
     "name": "stdout",
     "output_type": "stream",
     "text": [
      "Model 1 late 2020 roc_auc score:\n",
      "0.8139458747270674\n",
      "Model 2 late 2020 roc_auc score:\n",
      "0.6793035094716672\n"
     ]
    },
    {
     "name": "stderr",
     "output_type": "stream",
     "text": [
      "/home/readic/anaconda3/lib/python3.9/site-packages/lightgbm/basic.py:1491: UserWarning: 'silent' argument is deprecated and will be removed in a future release of LightGBM. Pass 'verbose' parameter via 'params' instead.\n",
      "  _log_warning(\"'silent' argument is deprecated and will be removed in a future release of LightGBM. \"\n"
     ]
    },
    {
     "name": "stdout",
     "output_type": "stream",
     "text": [
      "[LightGBM] [Warning] Auto-choosing row-wise multi-threading, the overhead of testing was 0.112816 seconds.\n",
      "You can set `force_row_wise=true` to remove the overhead.\n",
      "And if memory is not enough, you can set `force_col_wise=true`.\n",
      "[LightGBM] [Info] Total Bins 16\n",
      "[LightGBM] [Info] Number of data points in the train set: 1721518, number of used features: 8\n",
      "Model 1 late 2020, after retrain - roc_auc score:\n",
      "0.814039379496979\n"
     ]
    },
    {
     "name": "stderr",
     "output_type": "stream",
     "text": [
      "/home/readic/anaconda3/lib/python3.9/site-packages/lightgbm/basic.py:1491: UserWarning: 'silent' argument is deprecated and will be removed in a future release of LightGBM. Pass 'verbose' parameter via 'params' instead.\n",
      "  _log_warning(\"'silent' argument is deprecated and will be removed in a future release of LightGBM. \"\n"
     ]
    },
    {
     "name": "stdout",
     "output_type": "stream",
     "text": [
      "[LightGBM] [Warning] Auto-choosing row-wise multi-threading, the overhead of testing was 0.081436 seconds.\n",
      "You can set `force_row_wise=true` to remove the overhead.\n",
      "And if memory is not enough, you can set `force_col_wise=true`.\n",
      "[LightGBM] [Info] Total Bins 10\n",
      "[LightGBM] [Info] Number of data points in the train set: 1721518, number of used features: 5\n",
      "Model 2 late 2020, after retrain - roc_auc score:\n",
      "0.7324063745761428\n"
     ]
    }
   ],
   "source": [
    "\n",
    "from sklearn.metrics import classification_report\n",
    "\n",
    "y_pred_p2_B = loadModel1.predict(X_test_p2)\n",
    "print(\"Model 1 late 2020 roc_auc score:\")\n",
    "print(roc_auc_score(y_test_p2,y_pred_p2_B))\n",
    "#print(classification_report(y_test_p2,y_pred_p2_B))\n",
    "\n",
    "y_preds_p2_B_lm2 = loadModel2.predict(X_test_p2[['cough','fever','test_indication','gender','age_60_and_above']])\n",
    "print(\"Model 2 late 2020 roc_auc score:\")\n",
    "print(roc_auc_score(y_test_p2,y_preds_p2_B_lm2))\n",
    "\n",
    "loadModel1_retrain = loadModel1_retrain.refit(X_train_p2,y_train_p2)\n",
    "y_preds_p2_retrain = loadModel1_retrain.predict(X_test_p2)\n",
    "print(\"Model 1 late 2020, after retrain - roc_auc score:\")\n",
    "print(roc_auc_score(y_test_p2,y_preds_p2_retrain))\n",
    "\n",
    "loadModel2_retrain = loadModel2_retrain.refit(X_train_p2[['cough','fever','test_indication','gender','age_60_and_above']],y_train_p2)\n",
    "y_preds_p2_retrain_lm2 = loadModel2_retrain.predict(X_test_p2[['cough','fever','test_indication','gender','age_60_and_above']])\n",
    "print(\"Model 2 late 2020, after retrain - roc_auc score:\")\n",
    "print(roc_auc_score(y_test_p2,y_preds_p2_retrain_lm2))"
   ]
  },
  {
   "cell_type": "code",
   "execution_count": 29,
   "id": "0a279ea4",
   "metadata": {},
   "outputs": [
    {
     "name": "stdout",
     "output_type": "stream",
     "text": [
      "[LightGBM] [Warning] bagging_fraction is set=0.8, subsample=1.0 will be ignored. Current value: bagging_fraction=0.8\n",
      "[LightGBM] [Warning] bagging_freq is set=5, subsample_freq=0 will be ignored. Current value: bagging_freq=5\n",
      "[LightGBM] [Warning] min_data_in_leaf is set=4, min_child_samples=20 will be ignored. Current value: min_data_in_leaf=4\n",
      "Clean model late 2020 data - roc_auc score:\n",
      "0.7817996180843221\n"
     ]
    }
   ],
   "source": [
    "newLGBM_2020_B = ltb.LGBMClassifier(\n",
    "    num_leaves = 20\n",
    "    ,min_data_in_leaf = 4\n",
    "    #,feature_fraction =  0.2\n",
    "    ,bagging_fraction =  0.8\n",
    "    ,bagging_freq =  5\n",
    "    ,learning_rate = 0.05\n",
    "    #,verbose = 1\n",
    "    #,num_boost_round=603\n",
    "    #,early_stopping_rounds=0\n",
    "    ,random_state = 2020\n",
    ")\n",
    "newLGBM_2020_B.fit(X_train_p2,y_train_p2)\n",
    "y_preds_p2_newModel = newLGBM_2020_B.predict(X_test_p2)\n",
    "print(\"Clean model late 2020 data - roc_auc score:\")\n",
    "print(roc_auc_score(y_test_p2,y_preds_p2_newModel))"
   ]
  },
  {
   "cell_type": "code",
   "execution_count": 30,
   "id": "d7b52521",
   "metadata": {},
   "outputs": [
    {
     "name": "stderr",
     "output_type": "stream",
     "text": [
      "/home/readic/anaconda3/lib/python3.9/site-packages/IPython/core/interactiveshell.py:3444: DtypeWarning: Columns (7) have mixed types.Specify dtype option on import or set low_memory=False.\n",
      "  exec(code_obj, self.user_global_ns, self.user_ns)\n"
     ]
    }
   ],
   "source": [
    "## March 2021 sample data - check for further model deterioration\n",
    "data3 = pd.read_csv(\"Downloads/corona_tests_2021_mar.csv\")\n",
    "data4 = pd.read_csv(\"Downloads/corona_tests_2021_sep.csv\")"
   ]
  },
  {
   "cell_type": "code",
   "execution_count": 31,
   "id": "ea677f5b",
   "metadata": {},
   "outputs": [
    {
     "name": "stdout",
     "output_type": "stream",
     "text": [
      "(429880, 10)\n",
      "(717431, 10)\n"
     ]
    }
   ],
   "source": [
    "print(data3.shape)\n",
    "print(data4.shape)"
   ]
  },
  {
   "cell_type": "code",
   "execution_count": 32,
   "id": "b6098e2b",
   "metadata": {},
   "outputs": [],
   "source": [
    "#data3['corona_result'].value_counts()"
   ]
  },
  {
   "cell_type": "code",
   "execution_count": 33,
   "id": "365a77be",
   "metadata": {},
   "outputs": [
    {
     "name": "stdout",
     "output_type": "stream",
     "text": [
      "cough                  0\n",
      "fever                  0\n",
      "sore_throat            0\n",
      "shortness_of_breath    0\n",
      "head_ache              0\n",
      "corona_result          0\n",
      "age_60_and_above       0\n",
      "gender                 0\n",
      "test_indication        0\n",
      "dtype: int64\n"
     ]
    },
    {
     "name": "stderr",
     "output_type": "stream",
     "text": [
      "/tmp/ipykernel_15012/1638675748.py:8: SettingWithCopyWarning: \n",
      "A value is trying to be set on a copy of a slice from a DataFrame.\n",
      "Try using .loc[row_indexer,col_indexer] = value instead\n",
      "\n",
      "See the caveats in the documentation: https://pandas.pydata.org/pandas-docs/stable/user_guide/indexing.html#returning-a-view-versus-a-copy\n",
      "  X['test_indication'] = X['test_indication'].map({'Contact with confirmed': 1, 'Other': 0, 'Abroad': 0})\n",
      "/tmp/ipykernel_15012/1638675748.py:9: SettingWithCopyWarning: \n",
      "A value is trying to be set on a copy of a slice from a DataFrame.\n",
      "Try using .loc[row_indexer,col_indexer] = value instead\n",
      "\n",
      "See the caveats in the documentation: https://pandas.pydata.org/pandas-docs/stable/user_guide/indexing.html#returning-a-view-versus-a-copy\n",
      "  X['age_60_and_above'] = X['age_60_and_above'].map({'Yes': 1, 'No': 0})\n",
      "/tmp/ipykernel_15012/1638675748.py:10: SettingWithCopyWarning: \n",
      "A value is trying to be set on a copy of a slice from a DataFrame.\n",
      "Try using .loc[row_indexer,col_indexer] = value instead\n",
      "\n",
      "See the caveats in the documentation: https://pandas.pydata.org/pandas-docs/stable/user_guide/indexing.html#returning-a-view-versus-a-copy\n",
      "  X['gender'] = X['gender'].map({'male': 1, 'female': 0})\n",
      "/tmp/ipykernel_15012/1638675748.py:11: SettingWithCopyWarning: \n",
      "A value is trying to be set on a copy of a slice from a DataFrame.\n",
      "Try using .loc[row_indexer,col_indexer] = value instead\n",
      "\n",
      "See the caveats in the documentation: https://pandas.pydata.org/pandas-docs/stable/user_guide/indexing.html#returning-a-view-versus-a-copy\n",
      "  X['corona_result'] = X['corona_result'].map({'positive': 1, 'negative': 0})\n"
     ]
    }
   ],
   "source": [
    "period3 = prepareData(data3)\n",
    "print(period3.isna().sum())\n",
    "X_p3 = period3.copy().drop('corona_result',axis = 1)\n",
    "y_p3 = period3.copy()['corona_result']\n",
    "\n",
    "X_train_p3, X_test_p3, y_train_p3, y_test_p3 = train_test_split(X_p3, y_p3, test_size = 0.2,random_state = 2022, stratify = y_p3)"
   ]
  },
  {
   "cell_type": "code",
   "execution_count": 34,
   "id": "510e3ab7",
   "metadata": {},
   "outputs": [
    {
     "name": "stdout",
     "output_type": "stream",
     "text": [
      "Model 1 early 2021 roc_auc score:\n",
      "0.8383312575374029\n",
      "Model 2 early 2021 roc_auc score:\n",
      "0.7005886639387529\n"
     ]
    },
    {
     "name": "stderr",
     "output_type": "stream",
     "text": [
      "/home/readic/anaconda3/lib/python3.9/site-packages/lightgbm/basic.py:1491: UserWarning: 'silent' argument is deprecated and will be removed in a future release of LightGBM. Pass 'verbose' parameter via 'params' instead.\n",
      "  _log_warning(\"'silent' argument is deprecated and will be removed in a future release of LightGBM. \"\n"
     ]
    },
    {
     "name": "stdout",
     "output_type": "stream",
     "text": [
      "[LightGBM] [Warning] Auto-choosing row-wise multi-threading, the overhead of testing was 0.022205 seconds.\n",
      "You can set `force_row_wise=true` to remove the overhead.\n",
      "And if memory is not enough, you can set `force_col_wise=true`.\n",
      "[LightGBM] [Info] Total Bins 16\n",
      "[LightGBM] [Info] Number of data points in the train set: 91047, number of used features: 8\n",
      "Model 1 early 2021, after retrain - roc_auc score:\n",
      "0.8383113183375138\n"
     ]
    }
   ],
   "source": [
    "y_pred_p3_B = loadModel1.predict(X_test_p3)\n",
    "print(\"Model 1 early 2021 roc_auc score:\")\n",
    "print(roc_auc_score(y_test_p3,y_pred_p3_B))\n",
    "#print(classification_report(y_test_p2,y_pred_p2_B))\n",
    "\n",
    "y_preds_p3_B_lm2 = loadModel2.predict(X_test_p3[['cough','fever','test_indication','gender','age_60_and_above']])\n",
    "print(\"Model 2 early 2021 roc_auc score:\")\n",
    "print(roc_auc_score(y_test_p3,y_preds_p3_B_lm2))\n",
    "\n",
    "loadModel1_retrain = loadModel1_retrain.refit(X_train_p3,y_train_p3)\n",
    "y_preds_p3_retrain = loadModel1_retrain.predict(X_test_p3)\n",
    "print(\"Model 1 early 2021, after retrain - roc_auc score:\")\n",
    "print(roc_auc_score(y_test_p3,y_preds_p3_retrain))\n",
    "\n"
   ]
  },
  {
   "cell_type": "code",
   "execution_count": 35,
   "id": "cd167e8c",
   "metadata": {},
   "outputs": [
    {
     "name": "stderr",
     "output_type": "stream",
     "text": [
      "/home/readic/anaconda3/lib/python3.9/site-packages/lightgbm/basic.py:1491: UserWarning: 'silent' argument is deprecated and will be removed in a future release of LightGBM. Pass 'verbose' parameter via 'params' instead.\n",
      "  _log_warning(\"'silent' argument is deprecated and will be removed in a future release of LightGBM. \"\n"
     ]
    },
    {
     "name": "stdout",
     "output_type": "stream",
     "text": [
      "[LightGBM] [Warning] Auto-choosing row-wise multi-threading, the overhead of testing was 0.097530 seconds.\n",
      "You can set `force_row_wise=true` to remove the overhead.\n",
      "And if memory is not enough, you can set `force_col_wise=true`.\n",
      "[LightGBM] [Info] Total Bins 10\n",
      "[LightGBM] [Info] Number of data points in the train set: 91047, number of used features: 5\n",
      "Model 2 early 2021, after retrain - roc_auc score:\n",
      "0.7630770086576584\n"
     ]
    }
   ],
   "source": [
    "loadModel2_retrain = loadModel2_retrain.refit(X_train_p3[['cough','fever','test_indication','gender','age_60_and_above']],y_train_p3)\n",
    "y_preds_p3_retrain_lm2 = loadModel2_retrain.predict(X_test_p3[['cough','fever','test_indication','gender','age_60_and_above']])\n",
    "print(\"Model 2 early 2021, after retrain - roc_auc score:\")\n",
    "print(roc_auc_score(y_test_p3,y_preds_p3_retrain_lm2))"
   ]
  },
  {
   "cell_type": "code",
   "execution_count": 36,
   "id": "8428889e",
   "metadata": {},
   "outputs": [
    {
     "name": "stderr",
     "output_type": "stream",
     "text": [
      "/tmp/ipykernel_15012/1638675748.py:8: SettingWithCopyWarning: \n",
      "A value is trying to be set on a copy of a slice from a DataFrame.\n",
      "Try using .loc[row_indexer,col_indexer] = value instead\n",
      "\n",
      "See the caveats in the documentation: https://pandas.pydata.org/pandas-docs/stable/user_guide/indexing.html#returning-a-view-versus-a-copy\n",
      "  X['test_indication'] = X['test_indication'].map({'Contact with confirmed': 1, 'Other': 0, 'Abroad': 0})\n",
      "/tmp/ipykernel_15012/1638675748.py:9: SettingWithCopyWarning: \n",
      "A value is trying to be set on a copy of a slice from a DataFrame.\n",
      "Try using .loc[row_indexer,col_indexer] = value instead\n",
      "\n",
      "See the caveats in the documentation: https://pandas.pydata.org/pandas-docs/stable/user_guide/indexing.html#returning-a-view-versus-a-copy\n",
      "  X['age_60_and_above'] = X['age_60_and_above'].map({'Yes': 1, 'No': 0})\n",
      "/tmp/ipykernel_15012/1638675748.py:10: SettingWithCopyWarning: \n",
      "A value is trying to be set on a copy of a slice from a DataFrame.\n",
      "Try using .loc[row_indexer,col_indexer] = value instead\n",
      "\n",
      "See the caveats in the documentation: https://pandas.pydata.org/pandas-docs/stable/user_guide/indexing.html#returning-a-view-versus-a-copy\n",
      "  X['gender'] = X['gender'].map({'male': 1, 'female': 0})\n",
      "/tmp/ipykernel_15012/1638675748.py:11: SettingWithCopyWarning: \n",
      "A value is trying to be set on a copy of a slice from a DataFrame.\n",
      "Try using .loc[row_indexer,col_indexer] = value instead\n",
      "\n",
      "See the caveats in the documentation: https://pandas.pydata.org/pandas-docs/stable/user_guide/indexing.html#returning-a-view-versus-a-copy\n",
      "  X['corona_result'] = X['corona_result'].map({'positive': 1, 'negative': 0})\n"
     ]
    },
    {
     "name": "stdout",
     "output_type": "stream",
     "text": [
      "cough                  0\n",
      "fever                  0\n",
      "sore_throat            0\n",
      "shortness_of_breath    0\n",
      "head_ache              0\n",
      "corona_result          0\n",
      "age_60_and_above       0\n",
      "gender                 0\n",
      "test_indication        0\n",
      "dtype: int64\n",
      "Model 1 late 2021 roc_auc score:\n",
      "0.6542129586036616\n",
      "Model 2 late 2021 roc_auc score:\n",
      "0.5817846624344593\n",
      "[LightGBM] [Warning] Auto-choosing row-wise multi-threading, the overhead of testing was 0.009846 seconds.\n",
      "You can set `force_row_wise=true` to remove the overhead.\n",
      "And if memory is not enough, you can set `force_col_wise=true`.\n",
      "[LightGBM] [Info] Total Bins 16\n",
      "[LightGBM] [Info] Number of data points in the train set: 298537, number of used features: 8\n"
     ]
    },
    {
     "name": "stderr",
     "output_type": "stream",
     "text": [
      "/home/readic/anaconda3/lib/python3.9/site-packages/lightgbm/basic.py:1491: UserWarning: 'silent' argument is deprecated and will be removed in a future release of LightGBM. Pass 'verbose' parameter via 'params' instead.\n",
      "  _log_warning(\"'silent' argument is deprecated and will be removed in a future release of LightGBM. \"\n"
     ]
    },
    {
     "name": "stdout",
     "output_type": "stream",
     "text": [
      "Model 1 late 2021, after retrain - roc_auc score:\n",
      "0.6543238869008279\n",
      "[LightGBM] [Warning] Auto-choosing row-wise multi-threading, the overhead of testing was 0.008701 seconds.\n",
      "You can set `force_row_wise=true` to remove the overhead.\n",
      "And if memory is not enough, you can set `force_col_wise=true`.\n",
      "[LightGBM] [Info] Total Bins 10\n",
      "[LightGBM] [Info] Number of data points in the train set: 298537, number of used features: 5\n"
     ]
    },
    {
     "name": "stderr",
     "output_type": "stream",
     "text": [
      "/home/readic/anaconda3/lib/python3.9/site-packages/lightgbm/basic.py:1491: UserWarning: 'silent' argument is deprecated and will be removed in a future release of LightGBM. Pass 'verbose' parameter via 'params' instead.\n",
      "  _log_warning(\"'silent' argument is deprecated and will be removed in a future release of LightGBM. \"\n"
     ]
    },
    {
     "name": "stdout",
     "output_type": "stream",
     "text": [
      "Model 2 late 2021, after retrain - roc_auc score:\n",
      "0.6093139732127104\n"
     ]
    }
   ],
   "source": [
    "\n",
    "period4 = prepareData(data4)\n",
    "print(period4.isna().sum())\n",
    "X_p4 = period4.copy().drop('corona_result',axis = 1)\n",
    "y_p4 = period4.copy()['corona_result']\n",
    "\n",
    "X_train_p4, X_test_p4, y_train_p4, y_test_p4 = train_test_split(X_p4, y_p4, test_size = 0.2,random_state = 2022, stratify = y_p4)\n",
    "\n",
    "y_pred_p4_B = loadModel1.predict(X_test_p4)\n",
    "print(\"Model 1 late 2021 roc_auc score:\")\n",
    "print(roc_auc_score(y_test_p4,y_pred_p4_B))\n",
    "#print(classification_report(y_test_p2,y_pred_p2_B))\n",
    "\n",
    "y_preds_p4_B_lm2 = loadModel2.predict(X_test_p4[['cough','fever','test_indication','gender','age_60_and_above']])\n",
    "print(\"Model 2 late 2021 roc_auc score:\")\n",
    "print(roc_auc_score(y_test_p4,y_preds_p4_B_lm2))\n",
    "\n",
    "loadModel1_retrain = loadModel1_retrain.refit(X_train_p4,y_train_p4)\n",
    "y_preds_p4_retrain = loadModel1_retrain.predict(X_test_p4)\n",
    "print(\"Model 1 late 2021, after retrain - roc_auc score:\")\n",
    "print(roc_auc_score(y_test_p4,y_preds_p4_retrain))\n",
    "\n",
    "loadModel2_retrain = loadModel2_retrain.refit(X_train_p4[['cough','fever','test_indication','gender','age_60_and_above']],y_train_p4)\n",
    "y_preds_p4_retrain_lm2 = loadModel2_retrain.predict(X_test_p4[['cough','fever','test_indication','gender','age_60_and_above']])\n",
    "print(\"Model 2 late 2021, after retrain - roc_auc score:\")\n",
    "print(roc_auc_score(y_test_p4,y_preds_p4_retrain_lm2))"
   ]
  },
  {
   "cell_type": "code",
   "execution_count": 37,
   "id": "4b3ffeb5",
   "metadata": {},
   "outputs": [
    {
     "name": "stdout",
     "output_type": "stream",
     "text": [
      "(79191, 8)\n",
      "(1721518, 8)\n",
      "(91047, 8)\n",
      "(298537, 8)\n",
      "(19798, 8)\n",
      "(430380, 8)\n",
      "(22762, 8)\n",
      "(74635, 8)\n"
     ]
    }
   ],
   "source": [
    "print(X_train.shape)\n",
    "print(X_train_p2.shape)\n",
    "print(X_train_p3.shape)\n",
    "print(X_train_p4.shape)\n",
    "\n",
    "print(X_test.shape)\n",
    "print(X_test_p2.shape)\n",
    "print(X_test_p3.shape)\n",
    "print(X_test_p4.shape)"
   ]
  },
  {
   "cell_type": "code",
   "execution_count": 38,
   "id": "dac4a1ea",
   "metadata": {},
   "outputs": [
    {
     "name": "stdout",
     "output_type": "stream",
     "text": [
      "Threshold level 0.05, period 4\n",
      "              precision    recall  f1-score   support\n",
      "\n",
      "           0       0.00      0.00      0.00     67932\n",
      "           1       0.09      1.00      0.16      6703\n",
      "\n",
      "    accuracy                           0.09     74635\n",
      "   macro avg       0.04      0.50      0.08     74635\n",
      "weighted avg       0.01      0.09      0.01     74635\n",
      "\n",
      "Threshold level 0.1, period 4\n"
     ]
    },
    {
     "name": "stderr",
     "output_type": "stream",
     "text": [
      "/home/readic/anaconda3/lib/python3.9/site-packages/sklearn/metrics/_classification.py:1248: UndefinedMetricWarning: Precision and F-score are ill-defined and being set to 0.0 in labels with no predicted samples. Use `zero_division` parameter to control this behavior.\n",
      "  _warn_prf(average, modifier, msg_start, len(result))\n",
      "/home/readic/anaconda3/lib/python3.9/site-packages/sklearn/metrics/_classification.py:1248: UndefinedMetricWarning: Precision and F-score are ill-defined and being set to 0.0 in labels with no predicted samples. Use `zero_division` parameter to control this behavior.\n",
      "  _warn_prf(average, modifier, msg_start, len(result))\n",
      "/home/readic/anaconda3/lib/python3.9/site-packages/sklearn/metrics/_classification.py:1248: UndefinedMetricWarning: Precision and F-score are ill-defined and being set to 0.0 in labels with no predicted samples. Use `zero_division` parameter to control this behavior.\n",
      "  _warn_prf(average, modifier, msg_start, len(result))\n",
      "/home/readic/anaconda3/lib/python3.9/site-packages/sklearn/metrics/_classification.py:1248: UndefinedMetricWarning: Precision and F-score are ill-defined and being set to 0.0 in labels with no predicted samples. Use `zero_division` parameter to control this behavior.\n",
      "  _warn_prf(average, modifier, msg_start, len(result))\n",
      "/home/readic/anaconda3/lib/python3.9/site-packages/sklearn/metrics/_classification.py:1248: UndefinedMetricWarning: Precision and F-score are ill-defined and being set to 0.0 in labels with no predicted samples. Use `zero_division` parameter to control this behavior.\n",
      "  _warn_prf(average, modifier, msg_start, len(result))\n",
      "/home/readic/anaconda3/lib/python3.9/site-packages/sklearn/metrics/_classification.py:1248: UndefinedMetricWarning: Precision and F-score are ill-defined and being set to 0.0 in labels with no predicted samples. Use `zero_division` parameter to control this behavior.\n",
      "  _warn_prf(average, modifier, msg_start, len(result))\n"
     ]
    },
    {
     "name": "stdout",
     "output_type": "stream",
     "text": [
      "              precision    recall  f1-score   support\n",
      "\n",
      "           0       0.00      0.00      0.00     67932\n",
      "           1       0.09      1.00      0.16      6703\n",
      "\n",
      "    accuracy                           0.09     74635\n",
      "   macro avg       0.04      0.50      0.08     74635\n",
      "weighted avg       0.01      0.09      0.01     74635\n",
      "\n",
      "Threshold level 0.25, period 4\n",
      "              precision    recall  f1-score   support\n",
      "\n",
      "           0       0.91      1.00      0.95     67932\n",
      "           1       0.54      0.05      0.10      6703\n",
      "\n",
      "    accuracy                           0.91     74635\n",
      "   macro avg       0.73      0.52      0.53     74635\n",
      "weighted avg       0.88      0.91      0.88     74635\n",
      "\n",
      "Threshold level 0.3, period 4\n",
      "              precision    recall  f1-score   support\n",
      "\n",
      "           0       0.91      1.00      0.95     67932\n",
      "           1       0.59      0.01      0.03      6703\n",
      "\n",
      "    accuracy                           0.91     74635\n",
      "   macro avg       0.75      0.51      0.49     74635\n",
      "weighted avg       0.88      0.91      0.87     74635\n",
      "\n",
      "Threshold level 0.4, period 4\n",
      "              precision    recall  f1-score   support\n",
      "\n",
      "           0       0.91      1.00      0.95     67932\n",
      "           1       0.00      0.00      0.00      6703\n",
      "\n",
      "    accuracy                           0.91     74635\n",
      "   macro avg       0.46      0.50      0.48     74635\n",
      "weighted avg       0.83      0.91      0.87     74635\n",
      "\n",
      "Threshold level 0.5, period 4\n",
      "              precision    recall  f1-score   support\n",
      "\n",
      "           0       0.91      1.00      0.95     67932\n",
      "           1       0.00      0.00      0.00      6703\n",
      "\n",
      "    accuracy                           0.91     74635\n",
      "   macro avg       0.46      0.50      0.48     74635\n",
      "weighted avg       0.83      0.91      0.87     74635\n",
      "\n"
     ]
    },
    {
     "name": "stderr",
     "output_type": "stream",
     "text": [
      "/home/readic/anaconda3/lib/python3.9/site-packages/sklearn/metrics/_classification.py:1248: UndefinedMetricWarning: Precision and F-score are ill-defined and being set to 0.0 in labels with no predicted samples. Use `zero_division` parameter to control this behavior.\n",
      "  _warn_prf(average, modifier, msg_start, len(result))\n",
      "/home/readic/anaconda3/lib/python3.9/site-packages/sklearn/metrics/_classification.py:1248: UndefinedMetricWarning: Precision and F-score are ill-defined and being set to 0.0 in labels with no predicted samples. Use `zero_division` parameter to control this behavior.\n",
      "  _warn_prf(average, modifier, msg_start, len(result))\n",
      "/home/readic/anaconda3/lib/python3.9/site-packages/sklearn/metrics/_classification.py:1248: UndefinedMetricWarning: Precision and F-score are ill-defined and being set to 0.0 in labels with no predicted samples. Use `zero_division` parameter to control this behavior.\n",
      "  _warn_prf(average, modifier, msg_start, len(result))\n",
      "/home/readic/anaconda3/lib/python3.9/site-packages/sklearn/metrics/_classification.py:1248: UndefinedMetricWarning: Precision and F-score are ill-defined and being set to 0.0 in labels with no predicted samples. Use `zero_division` parameter to control this behavior.\n",
      "  _warn_prf(average, modifier, msg_start, len(result))\n",
      "/home/readic/anaconda3/lib/python3.9/site-packages/sklearn/metrics/_classification.py:1248: UndefinedMetricWarning: Precision and F-score are ill-defined and being set to 0.0 in labels with no predicted samples. Use `zero_division` parameter to control this behavior.\n",
      "  _warn_prf(average, modifier, msg_start, len(result))\n",
      "/home/readic/anaconda3/lib/python3.9/site-packages/sklearn/metrics/_classification.py:1248: UndefinedMetricWarning: Precision and F-score are ill-defined and being set to 0.0 in labels with no predicted samples. Use `zero_division` parameter to control this behavior.\n",
      "  _warn_prf(average, modifier, msg_start, len(result))\n"
     ]
    }
   ],
   "source": [
    "## Accuracy threshold testing\n",
    "t005_p4_o8 = (y_pred_p4_B >= 0.05) * 1\n",
    "t010_p4_o8 = (y_pred_p4_B >= 0.1) * 1\n",
    "t025_p4_o8 = (y_pred_p4_B >= 0.25) * 1\n",
    "t030_p4_o8 = (y_pred_p4_B >= 0.3) * 1\n",
    "t040_p4_o8 = (y_pred_p4_B >= 0.4) * 1\n",
    "t050_p4_o8 = (y_pred_p4_B >= 0.5) * 1\n",
    "\n",
    "print(\"Threshold level 0.05, period 4\")\n",
    "print(classification_report(y_test_p4,t005_p4_o8))\n",
    "print(\"Threshold level 0.1, period 4\")\n",
    "print(classification_report(y_test_p4,t010_p4_o8))\n",
    "print(\"Threshold level 0.25, period 4\")\n",
    "print(classification_report(y_test_p4,t025_p4_o8))\n",
    "print(\"Threshold level 0.3, period 4\")\n",
    "print(classification_report(y_test_p4,t030_p4_o8))\n",
    "print(\"Threshold level 0.4, period 4\")\n",
    "print(classification_report(y_test_p4,t040_p4_o8))\n",
    "print(\"Threshold level 0.5, period 4\")\n",
    "print(classification_report(y_test_p4,t050_p4_o8))"
   ]
  },
  {
   "cell_type": "code",
   "execution_count": 39,
   "id": "debd8f60",
   "metadata": {},
   "outputs": [
    {
     "name": "stdout",
     "output_type": "stream",
     "text": [
      "[0 0 0 ... 0 0 0]\n",
      "0.5949495207838706\n",
      "              precision    recall  f1-score   support\n",
      "\n",
      "           0       0.93      0.99      0.96     67932\n",
      "           1       0.58      0.20      0.30      6703\n",
      "\n",
      "    accuracy                           0.92     74635\n",
      "   macro avg       0.76      0.59      0.63     74635\n",
      "weighted avg       0.90      0.92      0.90     74635\n",
      "\n",
      "0.5936897826207704\n",
      "              precision    recall  f1-score   support\n",
      "\n",
      "           0       0.93      0.99      0.95     67932\n",
      "           1       0.58      0.20      0.30      6703\n",
      "\n",
      "    accuracy                           0.92     74635\n",
      "   macro avg       0.75      0.59      0.63     74635\n",
      "weighted avg       0.89      0.92      0.90     74635\n",
      "\n",
      "[0 0 0 ... 0 0 0]\n",
      "0.5778807840055658\n",
      "              precision    recall  f1-score   support\n",
      "\n",
      "           0       0.92      0.99      0.95     67932\n",
      "           1       0.56      0.17      0.26      6703\n",
      "\n",
      "    accuracy                           0.91     74635\n",
      "   macro avg       0.74      0.58      0.61     74635\n",
      "weighted avg       0.89      0.91      0.89     74635\n",
      "\n",
      "0.5778807840055658\n",
      "              precision    recall  f1-score   support\n",
      "\n",
      "           0       0.92      0.99      0.95     67932\n",
      "           1       0.56      0.17      0.26      6703\n",
      "\n",
      "    accuracy                           0.91     74635\n",
      "   macro avg       0.74      0.58      0.61     74635\n",
      "weighted avg       0.89      0.91      0.89     74635\n",
      "\n"
     ]
    }
   ],
   "source": [
    "## Part 3 - New LGBM Classifier on latest dataset\n",
    "from sklearn.metrics import RocCurveDisplay\n",
    "\n",
    "newLGBM = ltb.LGBMClassifier(\n",
    "    random_state = 2020\n",
    "    #,boosting_type = 'dart'\n",
    "    ,num_leaves = 8\n",
    "    ,max_depth = 8\n",
    "    ,metric = 'auc'\n",
    "    ,learning_rate = 0.1\n",
    ")\n",
    "\n",
    "newLGBM.fit(X_train_p4,y_train_p4)\n",
    "y_preds_nm = newLGBM.predict(X_test_p4)\n",
    "print(y_preds_nm)\n",
    "print(roc_auc_score(y_test_p4,y_preds_nm))\n",
    "print(classification_report(y_test_p4,y_preds_nm))\n",
    "\n",
    "from sklearn.tree import DecisionTreeClassifier\n",
    "from sklearn.ensemble import AdaBoostClassifier\n",
    "\n",
    "abc = AdaBoostClassifier(\n",
    "    base_estimator = DecisionTreeClassifier(random_state = 2022)\n",
    "    ,random_state = 2022\n",
    "    ,learning_rate = 0.5\n",
    "    ,n_estimators = 100\n",
    ")\n",
    "abc.fit(X_train_p4,y_train_p4)\n",
    "y_pred_abc = abc.predict(X_test_p4)\n",
    "print(roc_auc_score(y_test_p4,y_pred_abc))\n",
    "print(classification_report(y_test_p4,y_pred_abc))\n",
    "\n",
    "\n",
    "\n",
    "newLGBM = ltb.LGBMClassifier(\n",
    "    random_state = 2020\n",
    "    #,boosting_type = 'dart'\n",
    "    ,num_leaves = 8\n",
    "    ,max_depth = 8\n",
    "    ,metric = 'auc'\n",
    "    ,learning_rate = 0.1\n",
    ")\n",
    "\n",
    "newLGBM.fit(X_train_p4[['cough','fever','test_indication','gender','age_60_and_above']],y_train_p4)\n",
    "y_preds_nm = newLGBM.predict(X_test_p4[['cough','fever','test_indication','gender','age_60_and_above']])\n",
    "print(y_preds_nm)\n",
    "print(roc_auc_score(y_test_p4,y_preds_nm))\n",
    "print(classification_report(y_test_p4,y_preds_nm))\n",
    "\n",
    "from sklearn.tree import DecisionTreeClassifier\n",
    "from sklearn.ensemble import AdaBoostClassifier\n",
    "\n",
    "abc = AdaBoostClassifier(\n",
    "    base_estimator = DecisionTreeClassifier(random_state = 2022)\n",
    "    ,random_state = 2022\n",
    "    ,learning_rate = 0.5\n",
    "    ,n_estimators = 100\n",
    ")\n",
    "abc.fit(X_train_p4[['cough','fever','test_indication','gender','age_60_and_above']],y_train_p4)\n",
    "y_pred_abc = abc.predict(X_test_p4[['cough','fever','test_indication','gender','age_60_and_above']])\n",
    "print(roc_auc_score(y_test_p4,y_pred_abc))\n",
    "print(classification_report(y_test_p4,y_pred_abc))\n",
    "\n",
    "\n"
   ]
  },
  {
   "cell_type": "code",
   "execution_count": 41,
   "id": "0ec19d80",
   "metadata": {},
   "outputs": [
    {
     "name": "stdout",
     "output_type": "stream",
     "text": [
      "cough                  0\n",
      "fever                  0\n",
      "sore_throat            0\n",
      "shortness_of_breath    0\n",
      "head_ache              0\n",
      "age_60_and_above       0\n",
      "gender                 0\n",
      "test_indication        0\n",
      "corona_result          0\n",
      "dtype: int64\n",
      "Model 1 wave 3 roc_auc score:\n",
      "0.7994211243501196\n",
      "Model 2 wave 3 roc_auc score:\n",
      "0.676489397389172\n"
     ]
    },
    {
     "name": "stderr",
     "output_type": "stream",
     "text": [
      "/home/readic/anaconda3/lib/python3.9/site-packages/lightgbm/basic.py:1491: UserWarning: 'silent' argument is deprecated and will be removed in a future release of LightGBM. Pass 'verbose' parameter via 'params' instead.\n",
      "  _log_warning(\"'silent' argument is deprecated and will be removed in a future release of LightGBM. \"\n"
     ]
    },
    {
     "name": "stdout",
     "output_type": "stream",
     "text": [
      "[LightGBM] [Warning] Auto-choosing row-wise multi-threading, the overhead of testing was 0.022703 seconds.\n",
      "You can set `force_row_wise=true` to remove the overhead.\n",
      "And if memory is not enough, you can set `force_col_wise=true`.\n",
      "[LightGBM] [Info] Total Bins 16\n",
      "[LightGBM] [Info] Number of data points in the train set: 607110, number of used features: 8\n",
      "Model 1 wave 3, after retrain - roc_auc score:\n",
      "0.7983726766134447\n"
     ]
    },
    {
     "name": "stderr",
     "output_type": "stream",
     "text": [
      "/home/readic/anaconda3/lib/python3.9/site-packages/lightgbm/basic.py:1491: UserWarning: 'silent' argument is deprecated and will be removed in a future release of LightGBM. Pass 'verbose' parameter via 'params' instead.\n",
      "  _log_warning(\"'silent' argument is deprecated and will be removed in a future release of LightGBM. \"\n"
     ]
    },
    {
     "name": "stdout",
     "output_type": "stream",
     "text": [
      "[LightGBM] [Warning] Auto-choosing row-wise multi-threading, the overhead of testing was 0.028839 seconds.\n",
      "You can set `force_row_wise=true` to remove the overhead.\n",
      "And if memory is not enough, you can set `force_col_wise=true`.\n",
      "[LightGBM] [Info] Total Bins 10\n",
      "[LightGBM] [Info] Number of data points in the train set: 607110, number of used features: 5\n",
      "Model 2 wave 3, after retrain - roc_auc score:\n",
      "0.7436740631842564\n",
      "cough                  0\n",
      "fever                  0\n",
      "sore_throat            0\n",
      "shortness_of_breath    0\n",
      "head_ache              0\n",
      "age_60_and_above       0\n",
      "gender                 0\n",
      "test_indication        0\n",
      "corona_result          0\n",
      "dtype: int64\n",
      "Model 1 wave 4 roc_auc score:\n",
      "0.6378048474735774\n",
      "Model 2 wave 3 roc_auc score:\n",
      "0.5840622672200418\n"
     ]
    },
    {
     "name": "stderr",
     "output_type": "stream",
     "text": [
      "/home/readic/anaconda3/lib/python3.9/site-packages/lightgbm/basic.py:1491: UserWarning: 'silent' argument is deprecated and will be removed in a future release of LightGBM. Pass 'verbose' parameter via 'params' instead.\n",
      "  _log_warning(\"'silent' argument is deprecated and will be removed in a future release of LightGBM. \"\n"
     ]
    },
    {
     "name": "stdout",
     "output_type": "stream",
     "text": [
      "[LightGBM] [Warning] Auto-choosing row-wise multi-threading, the overhead of testing was 0.038546 seconds.\n",
      "You can set `force_row_wise=true` to remove the overhead.\n",
      "And if memory is not enough, you can set `force_col_wise=true`.\n",
      "[LightGBM] [Info] Total Bins 16\n",
      "[LightGBM] [Info] Number of data points in the train set: 368718, number of used features: 8\n",
      "Model 1 wave 4, after retrain - roc_auc score:\n",
      "0.654533178988939\n"
     ]
    },
    {
     "name": "stderr",
     "output_type": "stream",
     "text": [
      "/home/readic/anaconda3/lib/python3.9/site-packages/lightgbm/basic.py:1491: UserWarning: 'silent' argument is deprecated and will be removed in a future release of LightGBM. Pass 'verbose' parameter via 'params' instead.\n",
      "  _log_warning(\"'silent' argument is deprecated and will be removed in a future release of LightGBM. \"\n"
     ]
    },
    {
     "name": "stdout",
     "output_type": "stream",
     "text": [
      "[LightGBM] [Warning] Auto-choosing row-wise multi-threading, the overhead of testing was 0.013289 seconds.\n",
      "You can set `force_row_wise=true` to remove the overhead.\n",
      "And if memory is not enough, you can set `force_col_wise=true`.\n",
      "[LightGBM] [Info] Total Bins 10\n",
      "[LightGBM] [Info] Number of data points in the train set: 368718, number of used features: 5\n",
      "Model 2 wave 4, after retrain - roc_auc score:\n",
      "0.6073177324113159\n",
      "cough                  0\n",
      "fever                  0\n",
      "sore_throat            0\n",
      "shortness_of_breath    0\n",
      "head_ache              0\n",
      "age_60_and_above       0\n",
      "gender                 0\n",
      "test_indication        0\n",
      "corona_result          0\n",
      "dtype: int64\n",
      "Model 1 wave 5 roc_auc score:\n",
      "0.4776838523671778\n",
      "Model 2 wave 5 roc_auc score:\n",
      "0.46617360807291075\n"
     ]
    },
    {
     "name": "stderr",
     "output_type": "stream",
     "text": [
      "/home/readic/anaconda3/lib/python3.9/site-packages/lightgbm/basic.py:1491: UserWarning: 'silent' argument is deprecated and will be removed in a future release of LightGBM. Pass 'verbose' parameter via 'params' instead.\n",
      "  _log_warning(\"'silent' argument is deprecated and will be removed in a future release of LightGBM. \"\n"
     ]
    },
    {
     "name": "stdout",
     "output_type": "stream",
     "text": [
      "[LightGBM] [Warning] Auto-choosing row-wise multi-threading, the overhead of testing was 0.012679 seconds.\n",
      "You can set `force_row_wise=true` to remove the overhead.\n",
      "And if memory is not enough, you can set `force_col_wise=true`.\n",
      "[LightGBM] [Info] Total Bins 16\n",
      "[LightGBM] [Info] Number of data points in the train set: 503660, number of used features: 8\n",
      "Model 1 wave 5, after retrain - roc_auc score:\n",
      "0.499940322490221\n"
     ]
    },
    {
     "name": "stderr",
     "output_type": "stream",
     "text": [
      "/home/readic/anaconda3/lib/python3.9/site-packages/lightgbm/basic.py:1491: UserWarning: 'silent' argument is deprecated and will be removed in a future release of LightGBM. Pass 'verbose' parameter via 'params' instead.\n",
      "  _log_warning(\"'silent' argument is deprecated and will be removed in a future release of LightGBM. \"\n"
     ]
    },
    {
     "name": "stdout",
     "output_type": "stream",
     "text": [
      "[LightGBM] [Warning] Auto-choosing row-wise multi-threading, the overhead of testing was 0.043287 seconds.\n",
      "You can set `force_row_wise=true` to remove the overhead.\n",
      "And if memory is not enough, you can set `force_col_wise=true`.\n",
      "[LightGBM] [Info] Total Bins 10\n",
      "[LightGBM] [Info] Number of data points in the train set: 503660, number of used features: 5\n",
      "Model 2 wave 5, after retrain - roc_auc score:\n",
      "0.4723540407498081\n"
     ]
    }
   ],
   "source": [
    "## Final scoring\n",
    "\n",
    "#### Third wave\n",
    "w3 = pd.read_csv(\"Downloads/data_processed/third_wave_alpha_processed2.csv\")\n",
    "#w3 = prepareData(wave3)\n",
    "print(w3.isna().sum())\n",
    "X_w3 = w3.copy().drop('corona_result',axis = 1)\n",
    "y_w3 = w3.copy()['corona_result']\n",
    "\n",
    "X_train_w3, X_test_w3, y_train_w3, y_test_w3 = train_test_split(X_w3, y_w3, test_size = 0.2,random_state = 2022, stratify = y_w3)\n",
    "\n",
    "y_pred_w3_B = loadModel1.predict(X_test_w3)\n",
    "print(\"Model 1 wave 3 roc_auc score:\")\n",
    "print(roc_auc_score(y_test_w3,y_pred_w3_B))\n",
    "#print(classification_report(y_test_p2,y_pred_p2_B))\n",
    "\n",
    "y_preds_w3_B_lm2 = loadModel2.predict(X_test_w3[['cough','fever','test_indication','gender','age_60_and_above']])\n",
    "print(\"Model 2 wave 3 roc_auc score:\")\n",
    "print(roc_auc_score(y_test_w3,y_preds_w3_B_lm2))\n",
    "\n",
    "loadModel1_retrain = loadModel1_retrain.refit(X_train_w3,y_train_w3)\n",
    "y_preds_w3_retrain = loadModel1_retrain.predict(X_test_w3)\n",
    "print(\"Model 1 wave 3, after retrain - roc_auc score:\")\n",
    "print(roc_auc_score(y_test_w3,y_preds_w3_retrain))\n",
    "\n",
    "loadModel2_retrain = loadModel2_retrain.refit(X_train_w3[['cough','fever','test_indication','gender','age_60_and_above']],y_train_w3)\n",
    "y_preds_w3_retrain_lm2 = loadModel2_retrain.predict(X_test_w3[['cough','fever','test_indication','gender','age_60_and_above']])\n",
    "print(\"Model 2 wave 3, after retrain - roc_auc score:\")\n",
    "print(roc_auc_score(y_test_w3,y_preds_w3_retrain_lm2))\n",
    "\n",
    "#### Foruth wave\n",
    "w4 = pd.read_csv(\"Downloads/data_processed/fourth_wave_delta_processed2.csv\")\n",
    "#w4 = prepareData(wave4)\n",
    "print(w4.isna().sum())\n",
    "X_w4 = w4.copy().drop('corona_result',axis = 1)\n",
    "y_w4 = w4.copy()['corona_result']\n",
    "\n",
    "X_train_w4, X_test_w4, y_train_w4, y_test_w4 = train_test_split(X_w4, y_w4, test_size = 0.2,random_state = 2022, stratify = y_w4)\n",
    "\n",
    "y_pred_w4_B = loadModel1.predict(X_test_w4)\n",
    "print(\"Model 1 wave 4 roc_auc score:\")\n",
    "print(roc_auc_score(y_test_w4,y_pred_w4_B))\n",
    "#print(classification_report(y_test_p2,y_pred_p2_B))\n",
    "\n",
    "y_preds_w4_B_lm2 = loadModel2.predict(X_test_w4[['cough','fever','test_indication','gender','age_60_and_above']])\n",
    "print(\"Model 2 wave 3 roc_auc score:\")\n",
    "print(roc_auc_score(y_test_w4,y_preds_w4_B_lm2))\n",
    "\n",
    "loadModel1_retrain = loadModel1_retrain.refit(X_train_w4,y_train_w4)\n",
    "y_preds_w4_retrain = loadModel1_retrain.predict(X_test_w4)\n",
    "print(\"Model 1 wave 4, after retrain - roc_auc score:\")\n",
    "print(roc_auc_score(y_test_w4,y_preds_w4_retrain))\n",
    "\n",
    "loadModel2_retrain = loadModel2_retrain.refit(X_train_w4[['cough','fever','test_indication','gender','age_60_and_above']],y_train_w4)\n",
    "y_preds_w4_retrain_lm2 = loadModel2_retrain.predict(X_test_w4[['cough','fever','test_indication','gender','age_60_and_above']])\n",
    "print(\"Model 2 wave 4, after retrain - roc_auc score:\")\n",
    "print(roc_auc_score(y_test_w4,y_preds_w4_retrain_lm2))\n",
    "\n",
    "\n",
    "#### Fifth wave\n",
    "w5 = pd.read_csv(\"Downloads/data_processed/fifth_wave_omicron_processed2.csv\")\n",
    "#w5 = prepareData(wave5)\n",
    "print(w5.isna().sum())\n",
    "X_w5 = w5.copy().drop('corona_result',axis = 1)\n",
    "y_w5 = w5.copy()['corona_result']\n",
    "\n",
    "X_train_w5, X_test_w5, y_train_w5, y_test_w5 = train_test_split(X_w5, y_w5, test_size = 0.2,random_state = 2022, stratify = y_w5)\n",
    "\n",
    "y_pred_w5_B = loadModel1.predict(X_test_w5)\n",
    "print(\"Model 1 wave 5 roc_auc score:\")\n",
    "print(roc_auc_score(y_test_w5,y_pred_w5_B))\n",
    "#print(classification_report(y_test_p2,y_pred_p2_B))\n",
    "\n",
    "y_preds_w5_B_lm2 = loadModel2.predict(X_test_w5[['cough','fever','test_indication','gender','age_60_and_above']])\n",
    "print(\"Model 2 wave 5 roc_auc score:\")\n",
    "print(roc_auc_score(y_test_w5,y_preds_w5_B_lm2))\n",
    "\n",
    "loadModel1_retrain = loadModel1_retrain.refit(X_train_w5,y_train_w5)\n",
    "y_preds_w5_retrain = loadModel1_retrain.predict(X_test_w5)\n",
    "print(\"Model 1 wave 5, after retrain - roc_auc score:\")\n",
    "print(roc_auc_score(y_test_w5,y_preds_w5_retrain))\n",
    "\n",
    "loadModel2_retrain = loadModel2_retrain.refit(X_train_w5[['cough','fever','test_indication','gender','age_60_and_above']],y_train_w5)\n",
    "y_preds_w5_retrain_lm2 = loadModel2_retrain.predict(X_test_w5[['cough','fever','test_indication','gender','age_60_and_above']])\n",
    "print(\"Model 2 wave 5, after retrain - roc_auc score:\")\n",
    "print(roc_auc_score(y_test_w5,y_preds_w5_retrain_lm2))"
   ]
  },
  {
   "cell_type": "code",
   "execution_count": null,
   "id": "31d2e6a5",
   "metadata": {},
   "outputs": [],
   "source": []
  }
 ],
 "metadata": {
  "kernelspec": {
   "display_name": "Python 3 (ipykernel)",
   "language": "python",
   "name": "python3"
  },
  "language_info": {
   "codemirror_mode": {
    "name": "ipython",
    "version": 3
   },
   "file_extension": ".py",
   "mimetype": "text/x-python",
   "name": "python",
   "nbconvert_exporter": "python",
   "pygments_lexer": "ipython3",
   "version": "3.9.7"
  }
 },
 "nbformat": 4,
 "nbformat_minor": 5
}
