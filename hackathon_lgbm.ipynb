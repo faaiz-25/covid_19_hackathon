{
 "cells": [
  {
   "cell_type": "markdown",
   "id": "3712d299",
   "metadata": {},
   "source": [
    "# Hackathon - January 2023\n",
    "\n"
   ]
  },
  {
   "cell_type": "code",
   "execution_count": 1,
   "id": "d94286d6",
   "metadata": {},
   "outputs": [],
   "source": [
    "import pandas as pd\n",
    "import numpy as np\n",
    "import seaborn as sns"
   ]
  },
  {
   "cell_type": "code",
   "execution_count": 2,
   "id": "e324011f",
   "metadata": {},
   "outputs": [
    {
     "name": "stderr",
     "output_type": "stream",
     "text": [
      "/home/readic/anaconda3/lib/python3.9/site-packages/IPython/core/interactiveshell.py:3444: DtypeWarning: Columns (1,2,3,4,5) have mixed types.Specify dtype option on import or set low_memory=False.\n",
      "  exec(code_obj, self.user_global_ns, self.user_ns)\n",
      "/home/readic/anaconda3/lib/python3.9/site-packages/IPython/core/interactiveshell.py:3444: DtypeWarning: Columns (7) have mixed types.Specify dtype option on import or set low_memory=False.\n",
      "  exec(code_obj, self.user_global_ns, self.user_ns)\n"
     ]
    }
   ],
   "source": [
    "data1 = pd.read_csv(\"Downloads/corona_tested_individuals_ver_006.english.csv\")\n",
    "data2 = pd.read_csv(\"Downloads/corona_tested_individuals_ver_0083.english.csv/corona_tested_individuals_ver_0083.english.csv\")"
   ]
  },
  {
   "cell_type": "markdown",
   "id": "b7bad301",
   "metadata": {},
   "source": [
    "#### Part 1 - Attempt to set up a LGBM model using the original paper's criteria, to replicate a baseline model\n",
    "\n",
    "First step for the questions posed is to recreate as closely as possible the LGBM model \n",
    "\n",
    "###### Section 1 - recreate the sample dataset used by the paper"
   ]
  },
  {
   "cell_type": "code",
   "execution_count": 3,
   "id": "6cfcabb2",
   "metadata": {},
   "outputs": [
    {
     "data": {
      "text/plain": [
       "<bound method DataFrame.info of          test_date cough fever sore_throat shortness_of_breath head_ache  \\\n",
       "0       2020-04-30     0     0           0                   0         0   \n",
       "1       2020-04-30     1     0           0                   0         0   \n",
       "2       2020-04-30     0     1           0                   0         0   \n",
       "3       2020-04-30     1     0           0                   0         0   \n",
       "4       2020-04-30     1     0           0                   0         0   \n",
       "...            ...   ...   ...         ...                 ...       ...   \n",
       "278843  2020-03-11     0     0           0                   0         0   \n",
       "278844  2020-03-11     0     0           0                   0         0   \n",
       "278845  2020-03-11     0     0           0                   0         0   \n",
       "278846  2020-03-11     0     0           0                   0         0   \n",
       "278847  2020-03-11     0     0           0                   0         0   \n",
       "\n",
       "       corona_result age_60_and_above  gender         test_indication  \n",
       "0           negative             None  female                   Other  \n",
       "1           negative             None  female                   Other  \n",
       "2           negative             None    male                   Other  \n",
       "3           negative             None  female                   Other  \n",
       "4           negative             None    male                   Other  \n",
       "...              ...              ...     ...                     ...  \n",
       "278843      negative             None    None                   Other  \n",
       "278844      negative             None    None                   Other  \n",
       "278845      positive             None    None  Contact with confirmed  \n",
       "278846         other             None    None                   Other  \n",
       "278847      negative             None    None                   Other  \n",
       "\n",
       "[278848 rows x 10 columns]>"
      ]
     },
     "execution_count": 3,
     "metadata": {},
     "output_type": "execute_result"
    }
   ],
   "source": [
    "data1.info"
   ]
  },
  {
   "cell_type": "code",
   "execution_count": 4,
   "id": "8ee158d7",
   "metadata": {},
   "outputs": [
    {
     "data": {
      "text/plain": [
       "test_date              0\n",
       "cough                  0\n",
       "fever                  0\n",
       "sore_throat            0\n",
       "shortness_of_breath    0\n",
       "head_ache              0\n",
       "corona_result          0\n",
       "age_60_and_above       0\n",
       "gender                 0\n",
       "test_indication        0\n",
       "dtype: int64"
      ]
     },
     "execution_count": 4,
     "metadata": {},
     "output_type": "execute_result"
    }
   ],
   "source": [
    "## Check for any missing values\n",
    "data1.isna().sum()"
   ]
  },
  {
   "cell_type": "code",
   "execution_count": 5,
   "id": "0415cfe0",
   "metadata": {},
   "outputs": [
    {
     "name": "stdout",
     "output_type": "stream",
     "text": [
      "(259285, 10)\n",
      "(255911, 10)\n"
     ]
    }
   ],
   "source": [
    "data1_removeNoGender = data1.copy().query('gender != \"None\"')\n",
    "print(data1_removeNoGender.shape)\n",
    "\n",
    "data1_removeNoGenderOtherResult = data1_removeNoGender.copy().query('corona_result != \"other\"')\n",
    "print(data1_removeNoGenderOtherResult.shape)"
   ]
  },
  {
   "cell_type": "code",
   "execution_count": 6,
   "id": "63826ed1",
   "metadata": {},
   "outputs": [
    {
     "data": {
      "text/plain": [
       "negative    90839\n",
       "positive     8393\n",
       "Name: corona_result, dtype: int64"
      ]
     },
     "execution_count": 6,
     "metadata": {},
     "output_type": "execute_result"
    }
   ],
   "source": [
    "data1_originalPeriod = data1_removeNoGenderOtherResult.copy()\n",
    "data1_originalPeriod = data1_originalPeriod[data1_originalPeriod['test_date'].isin(['2020-04-07',\n",
    "       '2020-04-06', '2020-04-05', '2020-04-04', '2020-04-03',\n",
    "       '2020-04-02', '2020-04-01', '2020-03-31', '2020-03-30',\n",
    "       '2020-03-29', '2020-03-28', '2020-03-27', '2020-03-26',\n",
    "       '2020-03-25', '2020-03-24', '2020-03-23', '2020-03-22'])]\n",
    "data1_originalPeriod['corona_result'].value_counts()"
   ]
  },
  {
   "cell_type": "code",
   "execution_count": 7,
   "id": "85ce74eb",
   "metadata": {},
   "outputs": [],
   "source": [
    "data1_originalPeriod_tidy = data1_originalPeriod.copy()\n",
    "data1_originalPeriod_tidy['test_indication'] = data1_originalPeriod_tidy['test_indication'].map({'Contact with confirmed': 1, 'Other': 0, 'Abroad': 0})\n",
    "data1_originalPeriod_tidy['age_60_and_above'] = data1_originalPeriod_tidy['age_60_and_above'].map({'Yes': 1, 'No': 0})\n",
    "data1_originalPeriod_tidy['gender'] = data1_originalPeriod_tidy['gender'].map({'male': 1, 'female': 0})\n",
    "data1_originalPeriod_tidy['corona_result'] = data1_originalPeriod_tidy['corona_result'].map({'positive': 1, 'negative': 0})\n",
    "\n",
    "data1_removeNoGenderOtherResultMissingSymptoms = data1_originalPeriod_tidy.copy().query('cough != \"None\"')\n",
    "data1_removeNoGenderOtherResultMissingSymptoms = data1_removeNoGenderOtherResultMissingSymptoms.copy().query('fever != \"None\"')\n",
    "data1_removeNoGenderOtherResultMissingSymptoms = data1_removeNoGenderOtherResultMissingSymptoms.copy().query('sore_throat != \"None\"')\n",
    "data1_removeNoGenderOtherResultMissingSymptoms = data1_removeNoGenderOtherResultMissingSymptoms.copy().query('shortness_of_breath != \"None\"')\n",
    "data1_removeNoGenderOtherResultMissingSymptoms = data1_removeNoGenderOtherResultMissingSymptoms.copy().query('head_ache != \"None\"')\n"
   ]
  },
  {
   "cell_type": "code",
   "execution_count": 8,
   "id": "6a79efbc",
   "metadata": {},
   "outputs": [
    {
     "name": "stdout",
     "output_type": "stream",
     "text": [
      "test_date              object\n",
      "cough                  object\n",
      "fever                  object\n",
      "sore_throat            object\n",
      "shortness_of_breath    object\n",
      "head_ache              object\n",
      "corona_result           int64\n",
      "age_60_and_above        int64\n",
      "gender                  int64\n",
      "test_indication         int64\n",
      "dtype: object\n",
      "test_date              object\n",
      "cough                   int64\n",
      "fever                   int64\n",
      "sore_throat             int64\n",
      "shortness_of_breath     int64\n",
      "head_ache               int64\n",
      "corona_result           int64\n",
      "age_60_and_above        int64\n",
      "gender                  int64\n",
      "test_indication         int64\n",
      "dtype: object\n"
     ]
    }
   ],
   "source": [
    "print(data1_removeNoGenderOtherResultMissingSymptoms.dtypes)\n",
    "\n",
    "data1_removeNoGenderOtherResultMissingSymptoms['cough'] = data1_removeNoGenderOtherResultMissingSymptoms['cough'].astype(int)\n",
    "data1_removeNoGenderOtherResultMissingSymptoms['fever'] = data1_removeNoGenderOtherResultMissingSymptoms['fever'].astype(int)\n",
    "data1_removeNoGenderOtherResultMissingSymptoms['sore_throat'] = data1_removeNoGenderOtherResultMissingSymptoms['sore_throat'].astype(int)\n",
    "data1_removeNoGenderOtherResultMissingSymptoms['shortness_of_breath'] = data1_removeNoGenderOtherResultMissingSymptoms['shortness_of_breath'].astype(int)\n",
    "data1_removeNoGenderOtherResultMissingSymptoms['head_ache'] = data1_removeNoGenderOtherResultMissingSymptoms['head_ache'].astype(int)\n",
    "data1_removeNoGenderOtherResultMissingSymptoms['gender'] = data1_removeNoGenderOtherResultMissingSymptoms['gender'].astype(int)\n",
    "\n",
    "print(data1_removeNoGenderOtherResultMissingSymptoms.dtypes)"
   ]
  },
  {
   "cell_type": "code",
   "execution_count": 9,
   "id": "30fc741c",
   "metadata": {},
   "outputs": [
    {
     "data": {
      "text/plain": [
       "<bound method DataFrame.info of         cough  fever  sore_throat  shortness_of_breath  head_ache  \\\n",
       "162404      0      0            0                    0          0   \n",
       "162405      0      0            0                    0          0   \n",
       "162406      0      0            0                    0          0   \n",
       "162407      0      0            0                    0          0   \n",
       "162408      0      0            0                    0          0   \n",
       "...       ...    ...          ...                  ...        ...   \n",
       "265116      1      1            0                    0          0   \n",
       "265117      1      1            1                    0          1   \n",
       "265118      1      0            0                    0          0   \n",
       "265119      1      0            0                    0          0   \n",
       "265120      1      0            0                    0          0   \n",
       "\n",
       "        corona_result  age_60_and_above  gender  test_indication  \n",
       "162404              0                 0       1                0  \n",
       "162405              0                 1       0                0  \n",
       "162406              0                 1       1                0  \n",
       "162407              0                 0       1                0  \n",
       "162408              0                 0       0                0  \n",
       "...               ...               ...     ...              ...  \n",
       "265116              0                 1       0                0  \n",
       "265117              0                 0       0                0  \n",
       "265118              0                 0       0                0  \n",
       "265119              0                 0       1                0  \n",
       "265120              0                 0       1                0  \n",
       "\n",
       "[98989 rows x 9 columns]>"
      ]
     },
     "execution_count": 9,
     "metadata": {},
     "output_type": "execute_result"
    }
   ],
   "source": [
    "odt = data1_removeNoGenderOtherResultMissingSymptoms.copy().drop(['test_date'],axis = 1)\n",
    "odt.info"
   ]
  },
  {
   "cell_type": "markdown",
   "id": "1f089e02",
   "metadata": {},
   "source": [
    "###### Section 2 - recreate the light GBM model"
   ]
  },
  {
   "cell_type": "code",
   "execution_count": 10,
   "id": "89d9b5db",
   "metadata": {},
   "outputs": [],
   "source": [
    "import lightgbm as ltb"
   ]
  },
  {
   "cell_type": "code",
   "execution_count": 11,
   "id": "6b5d2155",
   "metadata": {},
   "outputs": [],
   "source": [
    "## Create test/train splits - original paper used 4:1 ratio so 20% test set\n",
    "from sklearn.model_selection import train_test_split\n",
    "\n",
    "X = odt.copy().drop(['corona_result'],axis = 1)\n",
    "y = odt.copy()['corona_result']\n",
    "\n",
    "X_train, X_test, y_train, y_test = train_test_split(X, y, test_size = 0.2,random_state = 2022, stratify = y)\n"
   ]
  },
  {
   "cell_type": "code",
   "execution_count": 12,
   "id": "7e84c1c8",
   "metadata": {},
   "outputs": [],
   "source": [
    "originalModel = ltb.LGBMClassifier(\n",
    "    num_leaves = 20\n",
    "    ,min_data_in_leaf = 4\n",
    "    ,feature_fraction =  0.2\n",
    "    ,bagging_fraction =  0.8\n",
    "    ,bagging_freq =  5\n",
    "    ,learning_rate = 0.05\n",
    "    ,verbose = 1\n",
    "    #,num_boost_round=603\n",
    "    #,early_stopping_rounds=0\n",
    "    ,random_state = 2020\n",
    ")"
   ]
  },
  {
   "cell_type": "code",
   "execution_count": 13,
   "id": "e66791be",
   "metadata": {},
   "outputs": [
    {
     "name": "stderr",
     "output_type": "stream",
     "text": [
      "/home/readic/anaconda3/lib/python3.9/site-packages/lightgbm/sklearn.py:726: UserWarning: 'early_stopping_rounds' argument is deprecated and will be removed in a future release of LightGBM. Pass 'early_stopping()' callback via 'callbacks' argument instead.\n",
      "  _log_warning(\"'early_stopping_rounds' argument is deprecated and will be removed in a future release of LightGBM. \"\n"
     ]
    },
    {
     "name": "stdout",
     "output_type": "stream",
     "text": [
      "[LightGBM] [Warning] bagging_fraction is set=0.8, subsample=1.0 will be ignored. Current value: bagging_fraction=0.8\n",
      "[LightGBM] [Warning] feature_fraction is set=0.2, colsample_bytree=1.0 will be ignored. Current value: feature_fraction=0.2\n",
      "[LightGBM] [Warning] min_data_in_leaf is set=4, min_child_samples=20 will be ignored. Current value: min_data_in_leaf=4\n",
      "[LightGBM] [Warning] bagging_freq is set=5, subsample_freq=0 will be ignored. Current value: bagging_freq=5\n",
      "[LightGBM] [Warning] bagging_fraction is set=0.8, subsample=1.0 will be ignored. Current value: bagging_fraction=0.8\n",
      "[LightGBM] [Warning] feature_fraction is set=0.2, colsample_bytree=1.0 will be ignored. Current value: feature_fraction=0.2\n",
      "[LightGBM] [Warning] min_data_in_leaf is set=4, min_child_samples=20 will be ignored. Current value: min_data_in_leaf=4\n",
      "[LightGBM] [Warning] bagging_freq is set=5, subsample_freq=0 will be ignored. Current value: bagging_freq=5\n",
      "[LightGBM] [Info] Number of positive: 6692, number of negative: 72499\n",
      "[LightGBM] [Warning] Auto-choosing row-wise multi-threading, the overhead of testing was 0.027429 seconds.\n",
      "You can set `force_row_wise=true` to remove the overhead.\n",
      "And if memory is not enough, you can set `force_col_wise=true`.\n",
      "[LightGBM] [Info] Total Bins 16\n",
      "[LightGBM] [Info] Number of data points in the train set: 79191, number of used features: 8\n",
      "[LightGBM] [Warning] bagging_fraction is set=0.8, subsample=1.0 will be ignored. Current value: bagging_fraction=0.8\n",
      "[LightGBM] [Warning] feature_fraction is set=0.2, colsample_bytree=1.0 will be ignored. Current value: feature_fraction=0.2\n",
      "[LightGBM] [Warning] min_data_in_leaf is set=4, min_child_samples=20 will be ignored. Current value: min_data_in_leaf=4\n",
      "[LightGBM] [Warning] bagging_freq is set=5, subsample_freq=0 will be ignored. Current value: bagging_freq=5\n",
      "[LightGBM] [Info] [binary:BoostFromScore]: pavg=0.084505 -> initscore=-2.382660\n",
      "[LightGBM] [Info] Start training from score -2.382660\n",
      "[LightGBM] [Warning] No further splits with positive gain, best gain: -inf\n",
      "[1]\tvalid_0's auc: 0.645448\tvalid_0's binary_logloss: 0.279551\n",
      "[LightGBM] [Warning] No further splits with positive gain, best gain: -inf\n",
      "[2]\tvalid_0's auc: 0.757569\tvalid_0's binary_logloss: 0.275805\n",
      "[LightGBM] [Warning] No further splits with positive gain, best gain: -inf\n",
      "[3]\tvalid_0's auc: 0.792337\tvalid_0's binary_logloss: 0.268857\n",
      "[LightGBM] [Warning] No further splits with positive gain, best gain: -inf\n",
      "[4]\tvalid_0's auc: 0.836972\tvalid_0's binary_logloss: 0.260156\n",
      "[LightGBM] [Warning] No further splits with positive gain, best gain: -inf\n",
      "[5]\tvalid_0's auc: 0.83567\tvalid_0's binary_logloss: 0.255141\n",
      "[LightGBM] [Warning] No further splits with positive gain, best gain: -inf\n",
      "[6]\tvalid_0's auc: 0.835925\tvalid_0's binary_logloss: 0.249675\n",
      "[LightGBM] [Warning] No further splits with positive gain, best gain: -inf\n",
      "[7]\tvalid_0's auc: 0.837814\tvalid_0's binary_logloss: 0.246291\n",
      "[LightGBM] [Warning] No further splits with positive gain, best gain: -inf\n",
      "[8]\tvalid_0's auc: 0.837855\tvalid_0's binary_logloss: 0.243557\n",
      "[LightGBM] [Warning] No further splits with positive gain, best gain: -inf\n",
      "[9]\tvalid_0's auc: 0.838246\tvalid_0's binary_logloss: 0.243456\n",
      "[LightGBM] [Warning] No further splits with positive gain, best gain: -inf\n",
      "[10]\tvalid_0's auc: 0.836994\tvalid_0's binary_logloss: 0.240527\n",
      "[LightGBM] [Warning] No further splits with positive gain, best gain: -inf\n",
      "[11]\tvalid_0's auc: 0.837015\tvalid_0's binary_logloss: 0.239168\n",
      "[LightGBM] [Warning] No further splits with positive gain, best gain: -inf\n",
      "[12]\tvalid_0's auc: 0.836571\tvalid_0's binary_logloss: 0.236088\n",
      "[LightGBM] [Warning] No further splits with positive gain, best gain: -inf\n",
      "[13]\tvalid_0's auc: 0.836544\tvalid_0's binary_logloss: 0.236003\n",
      "[LightGBM] [Warning] No further splits with positive gain, best gain: -inf\n",
      "[14]\tvalid_0's auc: 0.836451\tvalid_0's binary_logloss: 0.233896\n"
     ]
    },
    {
     "data": {
      "text/plain": [
       "LGBMClassifier(bagging_fraction=0.8, bagging_freq=5, feature_fraction=0.2,\n",
       "               learning_rate=0.05, min_data_in_leaf=4, num_leaves=20,\n",
       "               random_state=2020, verbose=1)"
      ]
     },
     "execution_count": 13,
     "metadata": {},
     "output_type": "execute_result"
    }
   ],
   "source": [
    "originalModel.fit(X_train, y_train, eval_metric = 'auc',eval_set = [(X_test, y_test)],early_stopping_rounds = 5)\n",
    "#originalModel.fit(X_train, y_train)"
   ]
  },
  {
   "cell_type": "code",
   "execution_count": 14,
   "id": "b7f63d04",
   "metadata": {},
   "outputs": [],
   "source": [
    "y_preds = originalModel.predict(X_test)"
   ]
  },
  {
   "cell_type": "code",
   "execution_count": 15,
   "id": "6f0a0d82",
   "metadata": {},
   "outputs": [
    {
     "name": "stdout",
     "output_type": "stream",
     "text": [
      "0.5\n"
     ]
    }
   ],
   "source": [
    "from sklearn.metrics import roc_auc_score\n",
    "\n",
    "rocAucScore2020 = roc_auc_score(y_test,y_preds)\n",
    "print(rocAucScore2020)"
   ]
  },
  {
   "cell_type": "code",
   "execution_count": 16,
   "id": "172ef617",
   "metadata": {},
   "outputs": [],
   "source": [
    "## Rather than attempting to reverse engineer the model, load the model from text files available on the github!\n",
    "\n",
    "loadModel1 = ltb.Booster(model_file = \"Downloads/paperModel1.txt\")\n",
    "loadModel2 = ltb.Booster(model_file = \"Downloads/paperModel2.txt\")"
   ]
  },
  {
   "cell_type": "code",
   "execution_count": 17,
   "id": "fd0a9c84",
   "metadata": {},
   "outputs": [
    {
     "name": "stdout",
     "output_type": "stream",
     "text": [
      "<lightgbm.basic.Booster object at 0x7fe78d711be0>\n",
      "<lightgbm.basic.Booster object at 0x7fe78d711df0>\n"
     ]
    }
   ],
   "source": [
    "print(loadModel1)\n",
    "print(loadModel2)"
   ]
  },
  {
   "cell_type": "code",
   "execution_count": 18,
   "id": "9518a4b5",
   "metadata": {},
   "outputs": [],
   "source": [
    "y_preds_lm1 = loadModel1.predict(X_test)\n",
    "y_preds_lm2 = loadModel2.predict(X_test[['cough','fever','test_indication','gender','age_60_and_above']])"
   ]
  },
  {
   "cell_type": "code",
   "execution_count": 19,
   "id": "078a50a5",
   "metadata": {},
   "outputs": [
    {
     "name": "stdout",
     "output_type": "stream",
     "text": [
      "Model 1 roc_auc score:\n",
      "0.9218068553290598\n",
      "Model 2 roc_auc score:\n",
      "0.778974528515778\n"
     ]
    }
   ],
   "source": [
    "print(\"Model 1 roc_auc score:\")\n",
    "print(roc_auc_score(y_test,y_preds_lm1))\n",
    "\n",
    "print(\"Model 2 roc_auc score:\")\n",
    "print(roc_auc_score(y_test,y_preds_lm2))"
   ]
  },
  {
   "cell_type": "markdown",
   "id": "1e68e500",
   "metadata": {},
   "source": [
    "## Part 2 - apply the model to different periods "
   ]
  },
  {
   "cell_type": "code",
   "execution_count": 20,
   "id": "2f4730f0",
   "metadata": {},
   "outputs": [],
   "source": [
    "# Part 1 - need to take the data preparation steps explored above and create a function to apply to other datasets\n",
    "\n",
    "def prepareData(X):\n",
    "    X = X.dropna()\n",
    "    X = X.copy().query('gender != \"None\"')\n",
    "    X = X.query('corona_result != \"other\"')\n",
    "    X['test_indication'] = X['test_indication'].map({'Contact with confirmed': 1, 'Other': 0, 'Abroad': 0})\n",
    "    X['age_60_and_above'] = X['age_60_and_above'].map({'Yes': 1, 'No': 0})\n",
    "    X['gender'] = X['gender'].map({'male': 1, 'female': 0})\n",
    "    X['corona_result'] = X['corona_result'].map({'positive': 1, 'negative': 0})\n",
    "    X = X.copy().query('cough != \"None\"')\n",
    "    X = X.copy().query('fever != \"None\"')\n",
    "    X = X.copy().query('sore_throat != \"None\"')\n",
    "    X = X.copy().query('shortness_of_breath != \"None\"')\n",
    "    X = X.copy().query('head_ache != \"None\"')\n",
    "    X['cough'] = X['cough'].astype(int)\n",
    "    X['fever'] = X['fever'].astype(int)\n",
    "    X['sore_throat'] = X['sore_throat'].astype(int)\n",
    "    X['shortness_of_breath'] = X['shortness_of_breath'].astype(int)\n",
    "    X['head_ache'] = X['head_ache'].astype(int)\n",
    "    X['gender'] = X['gender'].astype(int)\n",
    "    X = X.drop(['test_date'],axis = 1)\n",
    "    return X"
   ]
  },
  {
   "cell_type": "code",
   "execution_count": 21,
   "id": "3432b7b3",
   "metadata": {},
   "outputs": [
    {
     "name": "stderr",
     "output_type": "stream",
     "text": [
      "/tmp/ipykernel_1278/4187185284.py:7: SettingWithCopyWarning: \n",
      "A value is trying to be set on a copy of a slice from a DataFrame.\n",
      "Try using .loc[row_indexer,col_indexer] = value instead\n",
      "\n",
      "See the caveats in the documentation: https://pandas.pydata.org/pandas-docs/stable/user_guide/indexing.html#returning-a-view-versus-a-copy\n",
      "  X['test_indication'] = X['test_indication'].map({'Contact with confirmed': 1, 'Other': 0, 'Abroad': 0})\n",
      "/tmp/ipykernel_1278/4187185284.py:8: SettingWithCopyWarning: \n",
      "A value is trying to be set on a copy of a slice from a DataFrame.\n",
      "Try using .loc[row_indexer,col_indexer] = value instead\n",
      "\n",
      "See the caveats in the documentation: https://pandas.pydata.org/pandas-docs/stable/user_guide/indexing.html#returning-a-view-versus-a-copy\n",
      "  X['age_60_and_above'] = X['age_60_and_above'].map({'Yes': 1, 'No': 0})\n",
      "/tmp/ipykernel_1278/4187185284.py:9: SettingWithCopyWarning: \n",
      "A value is trying to be set on a copy of a slice from a DataFrame.\n",
      "Try using .loc[row_indexer,col_indexer] = value instead\n",
      "\n",
      "See the caveats in the documentation: https://pandas.pydata.org/pandas-docs/stable/user_guide/indexing.html#returning-a-view-versus-a-copy\n",
      "  X['gender'] = X['gender'].map({'male': 1, 'female': 0})\n",
      "/tmp/ipykernel_1278/4187185284.py:10: SettingWithCopyWarning: \n",
      "A value is trying to be set on a copy of a slice from a DataFrame.\n",
      "Try using .loc[row_indexer,col_indexer] = value instead\n",
      "\n",
      "See the caveats in the documentation: https://pandas.pydata.org/pandas-docs/stable/user_guide/indexing.html#returning-a-view-versus-a-copy\n",
      "  X['corona_result'] = X['corona_result'].map({'positive': 1, 'negative': 0})\n",
      "/home/readic/anaconda3/lib/python3.9/site-packages/numpy/lib/arraysetops.py:583: FutureWarning: elementwise comparison failed; returning scalar instead, but in the future will perform elementwise comparison\n",
      "  mask |= (ar1 == a)\n"
     ]
    }
   ],
   "source": [
    "period2 = prepareData(data2)"
   ]
  },
  {
   "cell_type": "code",
   "execution_count": 22,
   "id": "b54f410e",
   "metadata": {},
   "outputs": [
    {
     "data": {
      "text/plain": [
       "cough                  0\n",
       "fever                  0\n",
       "sore_throat            0\n",
       "shortness_of_breath    0\n",
       "head_ache              0\n",
       "corona_result          0\n",
       "age_60_and_above       0\n",
       "gender                 0\n",
       "test_indication        0\n",
       "dtype: int64"
      ]
     },
     "execution_count": 22,
     "metadata": {},
     "output_type": "execute_result"
    }
   ],
   "source": [
    "period2.isna().sum()"
   ]
  },
  {
   "cell_type": "code",
   "execution_count": 28,
   "id": "0372f00f",
   "metadata": {},
   "outputs": [
    {
     "name": "stdout",
     "output_type": "stream",
     "text": [
      "(2151898, 8)\n",
      "(2151898,)\n"
     ]
    }
   ],
   "source": [
    "X_p2 = period2.copy().drop(['corona_result'],axis = 1)\n",
    "y_p2 = period2.copy()['corona_result']\n",
    "print(X_p2.shape)\n",
    "print(y_p2.shape)"
   ]
  },
  {
   "cell_type": "code",
   "execution_count": 29,
   "id": "d9d2ef8b",
   "metadata": {},
   "outputs": [
    {
     "name": "stdout",
     "output_type": "stream",
     "text": [
      "Model 1 late 2020 roc_auc score:\n",
      "0.8126525522716164\n",
      "Model 2 late 2020 roc_auc score:\n",
      "0.6790117994089835\n"
     ]
    }
   ],
   "source": [
    "# Make predictions using 2022 Autumn-Winter data\n",
    "\n",
    "y_pred_p2 = loadModel1.predict(X_p2)\n",
    "print(\"Model 1 late 2020 roc_auc score:\")\n",
    "print(roc_auc_score(y_p2,y_pred_p2))\n",
    "\n",
    "y_preds_p2_lm2 = loadModel2.predict(X_p2[['cough','fever','test_indication','gender','age_60_and_above']])\n",
    "print(\"Model 2 late 2020 roc_auc score:\")\n",
    "print(roc_auc_score(y_p2,y_preds_p2_lm2))"
   ]
  },
  {
   "cell_type": "code",
   "execution_count": 25,
   "id": "4fb4aaa0",
   "metadata": {},
   "outputs": [],
   "source": [
    "loadModel1_retrain = loadModel1"
   ]
  },
  {
   "cell_type": "code",
   "execution_count": 31,
   "id": "46fc5f1b",
   "metadata": {},
   "outputs": [],
   "source": [
    "## Retrain model to period 2 dataset\n",
    "X_train_p2, X_test_p2, y_train_p2, y_test_p2 = train_test_split(X_p2, y_p2, test_size = 0.2,random_state = 2022, stratify = y_p2)\n"
   ]
  },
  {
   "cell_type": "code",
   "execution_count": 33,
   "id": "c2df7036",
   "metadata": {},
   "outputs": [
    {
     "name": "stdout",
     "output_type": "stream",
     "text": [
      "Model 1 late 2020 roc_auc score:\n",
      "0.8139458747270674\n",
      "Model 2 late 2020 roc_auc score:\n",
      "0.6793035094716672\n"
     ]
    },
    {
     "name": "stderr",
     "output_type": "stream",
     "text": [
      "/home/readic/anaconda3/lib/python3.9/site-packages/lightgbm/basic.py:1491: UserWarning: 'silent' argument is deprecated and will be removed in a future release of LightGBM. Pass 'verbose' parameter via 'params' instead.\n",
      "  _log_warning(\"'silent' argument is deprecated and will be removed in a future release of LightGBM. \"\n"
     ]
    },
    {
     "name": "stdout",
     "output_type": "stream",
     "text": [
      "[LightGBM] [Warning] Auto-choosing row-wise multi-threading, the overhead of testing was 0.120947 seconds.\n",
      "You can set `force_row_wise=true` to remove the overhead.\n",
      "And if memory is not enough, you can set `force_col_wise=true`.\n",
      "[LightGBM] [Info] Total Bins 16\n",
      "[LightGBM] [Info] Number of data points in the train set: 1721518, number of used features: 8\n",
      "Model 1 late 2020, after retrain - roc_auc score:\n",
      "0.814039379496979\n"
     ]
    }
   ],
   "source": [
    "\n",
    "y_pred_p2_B = loadModel1.predict(X_test_p2)\n",
    "print(\"Model 1 late 2020 roc_auc score:\")\n",
    "print(roc_auc_score(y_test_p2,y_pred_p2_B))\n",
    "\n",
    "y_preds_p2_B_lm2 = loadModel2.predict(X_test_p2[['cough','fever','test_indication','gender','age_60_and_above']])\n",
    "print(\"Model 2 late 2020 roc_auc score:\")\n",
    "print(roc_auc_score(y_test_p2,y_preds_p2_B_lm2))\n",
    "\n",
    "loadModel1_retrain = loadModel1_retrain.refit(X_train_p2,y_train_p2)\n",
    "y_preds_p2_retrain = loadModel1_retrain.predict(X_test_p2)\n",
    "print(\"Model 1 late 2020, after retrain - roc_auc score:\")\n",
    "print(roc_auc_score(y_test_p2,y_preds_p2_retrain))"
   ]
  },
  {
   "cell_type": "code",
   "execution_count": null,
   "id": "8b2be759",
   "metadata": {},
   "outputs": [],
   "source": [
    "newLGBM_2020_B = ltb.LGBMClassifier(\n",
    "    num_leaves = 20\n",
    "    ,min_data_in_leaf = 4\n",
    "    #,feature_fraction =  0.2\n",
    "    ,bagging_fraction =  0.8\n",
    "    ,bagging_freq =  5\n",
    "    ,learning_rate = 0.05\n",
    "    #,verbose = 1\n",
    "    #,num_boost_round=603\n",
    "    #,early_stopping_rounds=0\n",
    "    ,random_state = 2020\n",
    ")\n",
    "newLGBM_2020_B.fit(X_train_p2,y_train_p2)\n",
    "y_preds_p2_newModel = newLGBM_2020_B.predict(X_test_p2)\n",
    "print(\"Clean model late 2020 data - roc_auc score:\")\n",
    "print(roc_auc_score(y_test_p2,y_preds_p2_newModel))"
   ]
  },
  {
   "cell_type": "code",
   "execution_count": null,
   "id": "2be6a3a1",
   "metadata": {},
   "outputs": [],
   "source": []
  }
 ],
 "metadata": {
  "kernelspec": {
   "display_name": "Python 3 (ipykernel)",
   "language": "python",
   "name": "python3"
  },
  "language_info": {
   "codemirror_mode": {
    "name": "ipython",
    "version": 3
   },
   "file_extension": ".py",
   "mimetype": "text/x-python",
   "name": "python",
   "nbconvert_exporter": "python",
   "pygments_lexer": "ipython3",
   "version": "3.9.7"
  }
 },
 "nbformat": 4,
 "nbformat_minor": 5
}
